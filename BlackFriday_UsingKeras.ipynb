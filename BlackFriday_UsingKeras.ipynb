{
  "nbformat": 4,
  "nbformat_minor": 0,
  "metadata": {
    "colab": {
      "name": "BlackFriday_UsingKeras.ipynb",
      "provenance": [],
      "collapsed_sections": [],
      "authorship_tag": "ABX9TyNfN0rbXAxDnrNVmJoN7o6N",
      "include_colab_link": true
    },
    "kernelspec": {
      "name": "python3",
      "display_name": "Python 3"
    }
  },
  "cells": [
    {
      "cell_type": "markdown",
      "metadata": {
        "id": "view-in-github",
        "colab_type": "text"
      },
      "source": [
        "<a href=\"https://colab.research.google.com/github/krishnamohan-seelam/ml_colab/blob/master/BlackFriday_UsingKeras.ipynb\" target=\"_parent\"><img src=\"https://colab.research.google.com/assets/colab-badge.svg\" alt=\"Open In Colab\"/></a>"
      ]
    },
    {
      "cell_type": "code",
      "metadata": {
        "id": "FlIA52qThf12",
        "colab_type": "code",
        "colab": {}
      },
      "source": [
        "try:\n",
        "    import google.colab\n",
        "    IN_COLAB = True\n",
        "except:\n",
        "    IN_COLAB = False"
      ],
      "execution_count": 1,
      "outputs": []
    },
    {
      "cell_type": "code",
      "metadata": {
        "id": "f1AEfKXviNHy",
        "colab_type": "code",
        "colab": {
          "base_uri": "https://localhost:8080/",
          "height": 391
        },
        "outputId": "45689bc0-51c9-4536-dbfa-52d41bb834cd"
      },
      "source": [
        "#Execute them for first to install\n",
        "if IN_COLAB:\n",
        "    !pip install category_encoders\n",
        "    !pip install feature-engine\n",
        "\n"
      ],
      "execution_count": 2,
      "outputs": [
        {
          "output_type": "stream",
          "text": [
            "Requirement already satisfied: category_encoders in /usr/local/lib/python3.6/dist-packages (2.2.2)\n",
            "Requirement already satisfied: numpy>=1.14.0 in /usr/local/lib/python3.6/dist-packages (from category_encoders) (1.18.5)\n",
            "Requirement already satisfied: scikit-learn>=0.20.0 in /usr/local/lib/python3.6/dist-packages (from category_encoders) (0.22.2.post1)\n",
            "Requirement already satisfied: statsmodels>=0.9.0 in /usr/local/lib/python3.6/dist-packages (from category_encoders) (0.11.1)\n",
            "Requirement already satisfied: patsy>=0.5.1 in /usr/local/lib/python3.6/dist-packages (from category_encoders) (0.5.1)\n",
            "Requirement already satisfied: pandas>=0.21.1 in /usr/local/lib/python3.6/dist-packages (from category_encoders) (1.0.5)\n",
            "Requirement already satisfied: scipy>=1.0.0 in /usr/local/lib/python3.6/dist-packages (from category_encoders) (1.4.1)\n",
            "Requirement already satisfied: joblib>=0.11 in /usr/local/lib/python3.6/dist-packages (from scikit-learn>=0.20.0->category_encoders) (0.16.0)\n",
            "Requirement already satisfied: six in /usr/local/lib/python3.6/dist-packages (from patsy>=0.5.1->category_encoders) (1.15.0)\n",
            "Requirement already satisfied: python-dateutil>=2.6.1 in /usr/local/lib/python3.6/dist-packages (from pandas>=0.21.1->category_encoders) (2.8.1)\n",
            "Requirement already satisfied: pytz>=2017.2 in /usr/local/lib/python3.6/dist-packages (from pandas>=0.21.1->category_encoders) (2018.9)\n",
            "Requirement already satisfied: feature-engine in /usr/local/lib/python3.6/dist-packages (0.5.17)\n",
            "Requirement already satisfied: numpy>=1.18.2 in /usr/local/lib/python3.6/dist-packages (from feature-engine) (1.18.5)\n",
            "Requirement already satisfied: statsmodels>=0.11.1 in /usr/local/lib/python3.6/dist-packages (from feature-engine) (0.11.1)\n",
            "Requirement already satisfied: pandas>=1.0.3 in /usr/local/lib/python3.6/dist-packages (from feature-engine) (1.0.5)\n",
            "Requirement already satisfied: scipy>=1.4.1 in /usr/local/lib/python3.6/dist-packages (from feature-engine) (1.4.1)\n",
            "Requirement already satisfied: scikit-learn>=0.22.2 in /usr/local/lib/python3.6/dist-packages (from feature-engine) (0.22.2.post1)\n",
            "Requirement already satisfied: patsy>=0.5 in /usr/local/lib/python3.6/dist-packages (from statsmodels>=0.11.1->feature-engine) (0.5.1)\n",
            "Requirement already satisfied: pytz>=2017.2 in /usr/local/lib/python3.6/dist-packages (from pandas>=1.0.3->feature-engine) (2018.9)\n",
            "Requirement already satisfied: python-dateutil>=2.6.1 in /usr/local/lib/python3.6/dist-packages (from pandas>=1.0.3->feature-engine) (2.8.1)\n",
            "Requirement already satisfied: joblib>=0.11 in /usr/local/lib/python3.6/dist-packages (from scikit-learn>=0.22.2->feature-engine) (0.16.0)\n",
            "Requirement already satisfied: six in /usr/local/lib/python3.6/dist-packages (from patsy>=0.5->statsmodels>=0.11.1->feature-engine) (1.15.0)\n"
          ],
          "name": "stdout"
        }
      ]
    },
    {
      "cell_type": "code",
      "metadata": {
        "id": "qEGESITOiULe",
        "colab_type": "code",
        "colab": {}
      },
      "source": [
        "%load_ext autoreload\n",
        "%autoreload 2"
      ],
      "execution_count": 3,
      "outputs": []
    },
    {
      "cell_type": "code",
      "metadata": {
        "id": "Is1jWW70iZkh",
        "colab_type": "code",
        "colab": {}
      },
      "source": [
        "from pathlib import Path\n",
        "import numpy as np\n",
        "import pandas as pd\n",
        "import pandas_profiling\n",
        "import seaborn as sns\n",
        "from matplotlib import pyplot as plt\n",
        "\n",
        "import scipy.stats as stats\n",
        "from scipy.stats import chi2_contingency\n",
        "import category_encoders as ce"
      ],
      "execution_count": 4,
      "outputs": []
    },
    {
      "cell_type": "code",
      "metadata": {
        "id": "gzgjhNx1igXH",
        "colab_type": "code",
        "colab": {}
      },
      "source": [
        "from sklearn.model_selection import cross_val_score, KFold\n",
        "from sklearn.preprocessing import PolynomialFeatures"
      ],
      "execution_count": 5,
      "outputs": []
    },
    {
      "cell_type": "code",
      "metadata": {
        "id": "6SKou_XJikfi",
        "colab_type": "code",
        "colab": {}
      },
      "source": [
        "%matplotlib inline"
      ],
      "execution_count": 6,
      "outputs": []
    },
    {
      "cell_type": "code",
      "metadata": {
        "id": "cO-foLywil0b",
        "colab_type": "code",
        "colab": {}
      },
      "source": [
        "def extended_describe(dataframe):\n",
        "    extended_describe_df= dataframe.describe(include='all').T \n",
        "    extended_describe_df['null_count']= dataframe.isnull().sum()\n",
        "    extended_describe_df['unique_count'] = dataframe.apply(lambda x: len(x.unique()))\n",
        "    return extended_describe_df "
      ],
      "execution_count": 7,
      "outputs": []
    },
    {
      "cell_type": "code",
      "metadata": {
        "id": "_PbX9tOpio9-",
        "colab_type": "code",
        "colab": {}
      },
      "source": [
        "from collections import Counter\n",
        "def detect_outliers(dataset , noutliers , columns):\n",
        "    outlier_indices = []\n",
        "    for column in columns:\n",
        "        # 1st quartile (25%),# 3rd quartile (75%)\n",
        "        q1 , q3 = np.percentile(dataset[column] , [25 , 75])\n",
        "\n",
        "        # Interquartile range (IQR)\n",
        "        iqr = q3 - q1\n",
        "\n",
        "        # outlier step\n",
        "        outlier_step = 1.5 * iqr\n",
        "\n",
        "        lower_bound = q1 - outlier_step\n",
        "        upper_bound = q3 + outlier_step\n",
        "\n",
        "        # Determine a list of indices of outliers for feature col\n",
        "        outlier_list_col = dataset[(dataset[column] < lower_bound) | (\n",
        "        dataset[column] > upper_bound)].index\n",
        "        outlier_indices.extend(outlier_list_col)\n",
        "\n",
        "    outlier_indices = Counter(outlier_indices)\n",
        " \n",
        "    multiple_outliers = list(k for k , v in outlier_indices.items()\n",
        "                             if v > noutliers)\n",
        "\n",
        "    return outlier_indices"
      ],
      "execution_count": 8,
      "outputs": []
    },
    {
      "cell_type": "code",
      "metadata": {
        "id": "1Dwfbeo1irAj",
        "colab_type": "code",
        "colab": {}
      },
      "source": [
        "def merge_df(left_df,right_df,how,on,suffixes):\n",
        "    if not on:\n",
        "        raise valueError(\"Unable to join dataframes as join cols not specified\")\n",
        "    how = how or 'left'\n",
        "    suffixes = suffixes or ('_left','_right')\n",
        "    return  left_df.merge(right=right_df,how =how,on =on,suffixes=suffixes)\n",
        "\n",
        "def get_mapper(df,feature,target):\n",
        "    return df.groupby([feature])[target].sum().rank(ascending= False).to_dict()\n",
        "\n",
        "def get_mean_mapper(df,feature,target):\n",
        "    return df.groupby([feature])[target].mean().to_dict()"
      ],
      "execution_count": 9,
      "outputs": []
    },
    {
      "cell_type": "code",
      "metadata": {
        "id": "073ZoWKYispf",
        "colab_type": "code",
        "colab": {}
      },
      "source": [
        "import collections \n",
        "\n",
        "from sklearn.base import TransformerMixin\n",
        "\n",
        "\n",
        "class FeatureTransformer(TransformerMixin):\n",
        "    # FunctionTransformer but for pandas DataFrames\n",
        "\n",
        "    def __init__(self, transformer_config):\n",
        "        self.transformer_config = transformer_config\n",
        "\n",
        "    def fit(self, X, y=None):\n",
        "        # stateless transformer\n",
        "        return self\n",
        "\n",
        "    def transform(self, X):\n",
        "        X = X.copy()\n",
        "        for column, tr_configs in self.transformer_config.items():\n",
        "            for tr_config in tr_configs:\n",
        "                new_col_name = tr_config.column if tr_config.column else column\n",
        "                transform_function = tr_config.function if tr_config.function else None\n",
        "                default_value  = tr_config.default if tr_config.default else None\n",
        "\n",
        "                X[new_col_name] = X[column].map(lambda x: tr_config.function.get(x, default_value))\n",
        "                if tr_config.astype:\n",
        "                    X[new_col_name] = X[new_col_name].astype(tr_config.astype)\n",
        "                \n",
        "        return X\n",
        "\n",
        "class ZeroFillTransformer(TransformerMixin):\n",
        "    \n",
        "    def __init__(self, cols):\n",
        "        self.cols = cols\n",
        "    \n",
        "    def fit(self, X, y=None):\n",
        "        # stateless transformer\n",
        "        return self\n",
        "\n",
        "    def transform(self, X):\n",
        "        # assumes X is a DataFrame\n",
        "        Xz = X.copy()\n",
        "        for col in self.cols:\n",
        "            Xz[col] = X[col].fillna(value=0)\n",
        "        \n",
        "        return Xz"
      ],
      "execution_count": 10,
      "outputs": []
    },
    {
      "cell_type": "code",
      "metadata": {
        "id": "eVhUC5N1iusB",
        "colab_type": "code",
        "colab": {
          "base_uri": "https://localhost:8080/",
          "height": 34
        },
        "outputId": "34e50820-9f55-4d74-dbc6-774bb8cde9a5"
      },
      "source": [
        "if IN_COLAB:\n",
        "    from google.colab import drive\n",
        "    drive.mount('/content/drive')\n",
        "    data_path = 'drive/My Drive/datasource/blackfriday/{file}'\n",
        "    source_path = Path.cwd()\n",
        "else:\n",
        "    data_path='{file}'\n",
        "    source_path =Path.cwd().joinpath('datasource')"
      ],
      "execution_count": 11,
      "outputs": [
        {
          "output_type": "stream",
          "text": [
            "Drive already mounted at /content/drive; to attempt to forcibly remount, call drive.mount(\"/content/drive\", force_remount=True).\n"
          ],
          "name": "stdout"
        }
      ]
    },
    {
      "cell_type": "code",
      "metadata": {
        "id": "ReNLySi_iyre",
        "colab_type": "code",
        "colab": {}
      },
      "source": [
        "train_file = source_path.joinpath(data_path.format(file='train.csv'))\n",
        "test_file =  source_path.joinpath(data_path.format(file='test.csv'))"
      ],
      "execution_count": 12,
      "outputs": []
    },
    {
      "cell_type": "code",
      "metadata": {
        "id": "FglGtaDhi2q2",
        "colab_type": "code",
        "colab": {}
      },
      "source": [
        "train_df = pd.read_csv(train_file)\n",
        "\n",
        "test_df = pd.read_csv(test_file)\n",
        "\n",
        "test_df_copy = test_df.copy(deep=True)"
      ],
      "execution_count": 13,
      "outputs": []
    },
    {
      "cell_type": "code",
      "metadata": {
        "id": "7RBPEDsdi68K",
        "colab_type": "code",
        "colab": {}
      },
      "source": [
        "outliers = detect_outliers(train_df,2,[\"Purchase\"])"
      ],
      "execution_count": 14,
      "outputs": []
    },
    {
      "cell_type": "code",
      "metadata": {
        "id": "Qs3Hj-K9i7gZ",
        "colab_type": "code",
        "colab": {}
      },
      "source": [
        "remove_idx = list(outliers.keys())\n",
        "train_df.drop(remove_idx,inplace=True,axis =0)"
      ],
      "execution_count": 15,
      "outputs": []
    },
    {
      "cell_type": "code",
      "metadata": {
        "id": "wETZLovTklfF",
        "colab_type": "code",
        "colab": {}
      },
      "source": [
        "y = train_df['Purchase']\n",
        "X = train_df.drop(['Purchase'],axis=1)"
      ],
      "execution_count": 16,
      "outputs": []
    },
    {
      "cell_type": "code",
      "metadata": {
        "id": "Qd7ipfGdjAyF",
        "colab_type": "code",
        "colab": {}
      },
      "source": [
        "cols=['Gender','City_Category',]"
      ],
      "execution_count": 17,
      "outputs": []
    },
    {
      "cell_type": "code",
      "metadata": {
        "id": "Run1SgcIjCXg",
        "colab_type": "code",
        "colab": {}
      },
      "source": [
        "cb_enc = ce.one_hot.OneHotEncoder(verbose=1, cols=cols,use_cat_names=True)\n",
        "cb_enc.fit(X,y)\n",
        "X = cb_enc.transform(X)\n",
        "test_df = cb_enc.transform(test_df)"
      ],
      "execution_count": 18,
      "outputs": []
    },
    {
      "cell_type": "code",
      "metadata": {
        "id": "ugnYQ0gTjFdM",
        "colab_type": "code",
        "colab": {}
      },
      "source": [
        "occupation_mapper = get_mapper(train_df,'Occupation','Purchase')\n",
        "age_mapper = get_mapper(train_df,'Age','Purchase')\n",
        "stay_in_city_mapper = get_mapper(train_df,'Stay_In_Current_City_Years','Purchase')\n",
        "product_id_mapper = get_mean_mapper(train_df,'Product_ID','Purchase')\n",
        "\n",
        "user_id_mapper = train_df['User_ID'].value_counts().to_dict() \n",
        "user_id_avg_mapper = get_mean_mapper(train_df,'User_ID','Purchase')"
      ],
      "execution_count": 19,
      "outputs": []
    },
    {
      "cell_type": "code",
      "metadata": {
        "id": "g3PPDWE1jHRl",
        "colab_type": "code",
        "colab": {}
      },
      "source": [
        "userid_category =pd.qcut(train_df.groupby(['User_ID'])['Purchase'].sum() ,[0.0,0.1 , 0.15, 0.2 , 0.25, 0.3 , 0.35, 0.4 , 0.45, 0.5 , 0.55, 0.6 ,0.65, 0.7 , 0.75, 0.8 , 0.85, 0.9 , 0.95,1.0], labels=False).fillna(-1)\n",
        "userid_category.fillna(-1,inplace=True)\n",
        "userid_category= userid_category.astype(int)\n",
        "userid_category_mapper = userid_category.to_dict()\n"
      ],
      "execution_count": 20,
      "outputs": []
    },
    {
      "cell_type": "code",
      "metadata": {
        "id": "Iw78YvgXjJTX",
        "colab_type": "code",
        "colab": {}
      },
      "source": [
        "all_prd_cats = train_df.groupby(['Product_Category_1','Product_Category_2','Product_Category_3']).agg(Prd_Cat_Avg=pd.NamedAgg(column='Purchase', aggfunc='mean'),\n",
        "                                                                                       Prd_Cat_Count=pd.NamedAgg(column='Purchase', aggfunc='count')\n",
        "                                                                                      ).reset_index()"
      ],
      "execution_count": 21,
      "outputs": []
    },
    {
      "cell_type": "code",
      "metadata": {
        "id": "GihqeufvjLDY",
        "colab_type": "code",
        "colab": {}
      },
      "source": [
        "prd_cats_1_only  = train_df[(train_df['Product_Category_2'].isna())&(train_df['Product_Category_3'].isna()) ].groupby(['Product_Category_1']).agg(Prd_Cat_Avg=pd.NamedAgg(column='Purchase', aggfunc='mean'),\n",
        "                                                                                       Prd_Cat_Count=pd.NamedAgg(column='Purchase', aggfunc='count')\n",
        "                                                                                      ).reset_index()\n",
        "                                                                                 "
      ],
      "execution_count": 22,
      "outputs": []
    },
    {
      "cell_type": "code",
      "metadata": {
        "id": "ZMPZV1YujLnw",
        "colab_type": "code",
        "colab": {}
      },
      "source": [
        "occupation_mapper = get_mapper(train_df,'Occupation','Purchase')\n",
        "age_mapper = get_mapper(train_df,'Age','Purchase')\n",
        "stay_in_city_mapper = get_mapper(train_df,'Stay_In_Current_City_Years','Purchase')\n",
        "product_id_mapper = get_mean_mapper(train_df,'Product_ID','Purchase')\n",
        "user_id_mapper = train_df['User_ID'].value_counts().to_dict() \n",
        "user_id_avg_mapper = get_mean_mapper(train_df,'User_ID','Purchase')\n",
        "product_cat1_mapper = train_df['Product_Category_1'].value_counts().to_dict() "
      ],
      "execution_count": 23,
      "outputs": []
    },
    {
      "cell_type": "code",
      "metadata": {
        "id": "3o7i-zcijVYf",
        "colab_type": "code",
        "colab": {}
      },
      "source": [
        "TransformerConfig = collections.namedtuple('TransformerConfig',['function','default','astype','column'])  \n",
        "transformer_config = {'Occupation': [TransformerConfig(occupation_mapper,-1,'int',None)],\n",
        "                      'Age': [TransformerConfig(age_mapper,-1,'int','Age_tr')],\n",
        "                      'Stay_In_Current_City_Years':[TransformerConfig(stay_in_city_mapper,-1,'int',None)],\n",
        "                      'Product_ID':[TransformerConfig(product_id_mapper,-1,'int','Purchase_Avg_By_Product_ID')],\n",
        "                      'User_ID':[TransformerConfig(user_id_avg_mapper,-1,'int','Purchase_Avg_By_User_ID'),\n",
        "                                 TransformerConfig(user_id_mapper,0,'int','User_ID_Count'),\n",
        "                                 TransformerConfig(userid_category_mapper,-1,'int','User_ID_Category'),\n",
        "                                 \n",
        "                                ],\n",
        "                      'Product_Category_1':[TransformerConfig(product_cat1_mapper,-1,'int','Count_By_Product_Category_1')]\n",
        "                 } "
      ],
      "execution_count": 24,
      "outputs": []
    },
    {
      "cell_type": "code",
      "metadata": {
        "id": "xYy4mqeFjXT7",
        "colab_type": "code",
        "colab": {}
      },
      "source": [
        "ft = FeatureTransformer(transformer_config)\n",
        "zfill_tr = ZeroFillTransformer(['Product_Category_2','Product_Category_3'])"
      ],
      "execution_count": 25,
      "outputs": []
    },
    {
      "cell_type": "code",
      "metadata": {
        "id": "Yn3Fn5LhjZM7",
        "colab_type": "code",
        "colab": {}
      },
      "source": [
        "X = ft.fit_transform(X)\n",
        "test_df = ft.transform(test_df)"
      ],
      "execution_count": 26,
      "outputs": []
    },
    {
      "cell_type": "code",
      "metadata": {
        "id": "bZhOe88XjbOL",
        "colab_type": "code",
        "colab": {}
      },
      "source": [
        "X = zfill_tr.fit_transform(X)\n",
        "test_df = zfill_tr.transform(test_df)"
      ],
      "execution_count": 27,
      "outputs": []
    },
    {
      "cell_type": "code",
      "metadata": {
        "id": "cPnBA5eHjbSB",
        "colab_type": "code",
        "colab": {}
      },
      "source": [
        "X['Product_Category_2']= X['Product_Category_2'].astype(int)\n",
        "X['Product_Category_3']= X['Product_Category_3'].astype(int)\n",
        "test_df['Product_Category_2']= test_df['Product_Category_2'].astype(int)\n",
        "test_df['Product_Category_3']= test_df['Product_Category_3'].astype(int)"
      ],
      "execution_count": 28,
      "outputs": []
    },
    {
      "cell_type": "code",
      "metadata": {
        "id": "JOVnuPL2jkI4",
        "colab_type": "code",
        "colab": {}
      },
      "source": [
        "X['User_ID'] = X['User_ID'] - 1000000\n",
        "test_df['User_ID'] = test_df['User_ID'] - 1000000"
      ],
      "execution_count": 29,
      "outputs": []
    },
    {
      "cell_type": "code",
      "metadata": {
        "id": "WH5YzcvLjkNB",
        "colab_type": "code",
        "colab": {}
      },
      "source": [
        "X['Product_ID'] = X['Product_ID'].str.replace('P00', '').astype('int')\n",
        "test_df['Product_ID'] = test_df['Product_ID'].str.replace('P00', '').astype('int')"
      ],
      "execution_count": 30,
      "outputs": []
    },
    {
      "cell_type": "code",
      "metadata": {
        "id": "vObTYRk-jpKF",
        "colab_type": "code",
        "colab": {}
      },
      "source": [
        "X.drop(['Age','City_Category_A','City_Category_B','City_Category_C','Gender_M'],axis =1,inplace =True)\n",
        "test_df.drop(['Age','City_Category_A','City_Category_B','City_Category_C','Gender_M'],axis=1,inplace=True)"
      ],
      "execution_count": 31,
      "outputs": []
    },
    {
      "cell_type": "code",
      "metadata": {
        "id": "hI_gMaTZjpQD",
        "colab_type": "code",
        "colab": {}
      },
      "source": [
        "from sklearn.model_selection import train_test_split\n",
        "X_train, X_validation, y_train, y_validation = train_test_split(X, y, train_size=0.8, random_state=42)"
      ],
      "execution_count": 32,
      "outputs": []
    },
    {
      "cell_type": "code",
      "metadata": {
        "id": "vnukqa94jpNF",
        "colab_type": "code",
        "colab": {
          "base_uri": "https://localhost:8080/",
          "height": 224
        },
        "outputId": "ef612eba-96ea-43c7-f0ca-6ab68a4f42ed"
      },
      "source": [
        "X_train.head()"
      ],
      "execution_count": 33,
      "outputs": [
        {
          "output_type": "execute_result",
          "data": {
            "text/html": [
              "<div>\n",
              "<style scoped>\n",
              "    .dataframe tbody tr th:only-of-type {\n",
              "        vertical-align: middle;\n",
              "    }\n",
              "\n",
              "    .dataframe tbody tr th {\n",
              "        vertical-align: top;\n",
              "    }\n",
              "\n",
              "    .dataframe thead th {\n",
              "        text-align: right;\n",
              "    }\n",
              "</style>\n",
              "<table border=\"1\" class=\"dataframe\">\n",
              "  <thead>\n",
              "    <tr style=\"text-align: right;\">\n",
              "      <th></th>\n",
              "      <th>User_ID</th>\n",
              "      <th>Product_ID</th>\n",
              "      <th>Gender_F</th>\n",
              "      <th>Occupation</th>\n",
              "      <th>Stay_In_Current_City_Years</th>\n",
              "      <th>Marital_Status</th>\n",
              "      <th>Product_Category_1</th>\n",
              "      <th>Product_Category_2</th>\n",
              "      <th>Product_Category_3</th>\n",
              "      <th>Age_tr</th>\n",
              "      <th>Purchase_Avg_By_Product_ID</th>\n",
              "      <th>Purchase_Avg_By_User_ID</th>\n",
              "      <th>User_ID_Count</th>\n",
              "      <th>User_ID_Category</th>\n",
              "      <th>Count_By_Product_Category_1</th>\n",
              "    </tr>\n",
              "  </thead>\n",
              "  <tbody>\n",
              "    <tr>\n",
              "      <th>538859</th>\n",
              "      <td>4964</td>\n",
              "      <td>318742</td>\n",
              "      <td>0</td>\n",
              "      <td>2</td>\n",
              "      <td>1</td>\n",
              "      <td>1</td>\n",
              "      <td>1</td>\n",
              "      <td>8</td>\n",
              "      <td>0</td>\n",
              "      <td>2</td>\n",
              "      <td>14344</td>\n",
              "      <td>8747</td>\n",
              "      <td>244</td>\n",
              "      <td>17</td>\n",
              "      <td>140378</td>\n",
              "    </tr>\n",
              "    <tr>\n",
              "      <th>219651</th>\n",
              "      <td>3848</td>\n",
              "      <td>195842</td>\n",
              "      <td>0</td>\n",
              "      <td>13</td>\n",
              "      <td>1</td>\n",
              "      <td>0</td>\n",
              "      <td>3</td>\n",
              "      <td>4</td>\n",
              "      <td>8</td>\n",
              "      <td>1</td>\n",
              "      <td>10325</td>\n",
              "      <td>9821</td>\n",
              "      <td>41</td>\n",
              "      <td>7</td>\n",
              "      <td>20213</td>\n",
              "    </tr>\n",
              "    <tr>\n",
              "      <th>524297</th>\n",
              "      <td>2810</td>\n",
              "      <td>154042</td>\n",
              "      <td>1</td>\n",
              "      <td>14</td>\n",
              "      <td>2</td>\n",
              "      <td>0</td>\n",
              "      <td>1</td>\n",
              "      <td>2</td>\n",
              "      <td>15</td>\n",
              "      <td>7</td>\n",
              "      <td>12167</td>\n",
              "      <td>8370</td>\n",
              "      <td>232</td>\n",
              "      <td>16</td>\n",
              "      <td>140378</td>\n",
              "    </tr>\n",
              "    <tr>\n",
              "      <th>54967</th>\n",
              "      <td>2419</td>\n",
              "      <td>236342</td>\n",
              "      <td>0</td>\n",
              "      <td>2</td>\n",
              "      <td>3</td>\n",
              "      <td>1</td>\n",
              "      <td>5</td>\n",
              "      <td>14</td>\n",
              "      <td>0</td>\n",
              "      <td>1</td>\n",
              "      <td>4808</td>\n",
              "      <td>8032</td>\n",
              "      <td>306</td>\n",
              "      <td>17</td>\n",
              "      <td>150933</td>\n",
              "    </tr>\n",
              "    <tr>\n",
              "      <th>189098</th>\n",
              "      <td>5193</td>\n",
              "      <td>303042</td>\n",
              "      <td>0</td>\n",
              "      <td>6</td>\n",
              "      <td>2</td>\n",
              "      <td>1</td>\n",
              "      <td>5</td>\n",
              "      <td>0</td>\n",
              "      <td>0</td>\n",
              "      <td>2</td>\n",
              "      <td>6330</td>\n",
              "      <td>8804</td>\n",
              "      <td>115</td>\n",
              "      <td>13</td>\n",
              "      <td>150933</td>\n",
              "    </tr>\n",
              "  </tbody>\n",
              "</table>\n",
              "</div>"
            ],
            "text/plain": [
              "        User_ID  Product_ID  ...  User_ID_Category  Count_By_Product_Category_1\n",
              "538859     4964      318742  ...                17                       140378\n",
              "219651     3848      195842  ...                 7                        20213\n",
              "524297     2810      154042  ...                16                       140378\n",
              "54967      2419      236342  ...                17                       150933\n",
              "189098     5193      303042  ...                13                       150933\n",
              "\n",
              "[5 rows x 15 columns]"
            ]
          },
          "metadata": {
            "tags": []
          },
          "execution_count": 33
        }
      ]
    },
    {
      "cell_type": "code",
      "metadata": {
        "id": "NObW5as_kyFC",
        "colab_type": "code",
        "colab": {
          "base_uri": "https://localhost:8080/",
          "height": 224
        },
        "outputId": "9743ee13-65e8-47d6-91d7-3fd06f7bdfab"
      },
      "source": [
        "test_df.head()"
      ],
      "execution_count": 35,
      "outputs": [
        {
          "output_type": "execute_result",
          "data": {
            "text/html": [
              "<div>\n",
              "<style scoped>\n",
              "    .dataframe tbody tr th:only-of-type {\n",
              "        vertical-align: middle;\n",
              "    }\n",
              "\n",
              "    .dataframe tbody tr th {\n",
              "        vertical-align: top;\n",
              "    }\n",
              "\n",
              "    .dataframe thead th {\n",
              "        text-align: right;\n",
              "    }\n",
              "</style>\n",
              "<table border=\"1\" class=\"dataframe\">\n",
              "  <thead>\n",
              "    <tr style=\"text-align: right;\">\n",
              "      <th></th>\n",
              "      <th>User_ID</th>\n",
              "      <th>Product_ID</th>\n",
              "      <th>Gender_F</th>\n",
              "      <th>Occupation</th>\n",
              "      <th>Stay_In_Current_City_Years</th>\n",
              "      <th>Marital_Status</th>\n",
              "      <th>Product_Category_1</th>\n",
              "      <th>Product_Category_2</th>\n",
              "      <th>Product_Category_3</th>\n",
              "      <th>Age_tr</th>\n",
              "      <th>Purchase_Avg_By_Product_ID</th>\n",
              "      <th>Purchase_Avg_By_User_ID</th>\n",
              "      <th>User_ID_Count</th>\n",
              "      <th>User_ID_Category</th>\n",
              "      <th>Count_By_Product_Category_1</th>\n",
              "    </tr>\n",
              "  </thead>\n",
              "  <tbody>\n",
              "    <tr>\n",
              "      <th>0</th>\n",
              "      <td>4</td>\n",
              "      <td>128942</td>\n",
              "      <td>0</td>\n",
              "      <td>3</td>\n",
              "      <td>2</td>\n",
              "      <td>1</td>\n",
              "      <td>1</td>\n",
              "      <td>11</td>\n",
              "      <td>0</td>\n",
              "      <td>4</td>\n",
              "      <td>15781</td>\n",
              "      <td>14747</td>\n",
              "      <td>14</td>\n",
              "      <td>3</td>\n",
              "      <td>140378</td>\n",
              "    </tr>\n",
              "    <tr>\n",
              "      <th>1</th>\n",
              "      <td>9</td>\n",
              "      <td>113442</td>\n",
              "      <td>0</td>\n",
              "      <td>5</td>\n",
              "      <td>5</td>\n",
              "      <td>0</td>\n",
              "      <td>3</td>\n",
              "      <td>5</td>\n",
              "      <td>0</td>\n",
              "      <td>1</td>\n",
              "      <td>11746</td>\n",
              "      <td>10243</td>\n",
              "      <td>58</td>\n",
              "      <td>9</td>\n",
              "      <td>20213</td>\n",
              "    </tr>\n",
              "    <tr>\n",
              "      <th>2</th>\n",
              "      <td>10</td>\n",
              "      <td>288442</td>\n",
              "      <td>1</td>\n",
              "      <td>4</td>\n",
              "      <td>4</td>\n",
              "      <td>1</td>\n",
              "      <td>5</td>\n",
              "      <td>14</td>\n",
              "      <td>0</td>\n",
              "      <td>2</td>\n",
              "      <td>5731</td>\n",
              "      <td>9728</td>\n",
              "      <td>223</td>\n",
              "      <td>17</td>\n",
              "      <td>150933</td>\n",
              "    </tr>\n",
              "    <tr>\n",
              "      <th>3</th>\n",
              "      <td>10</td>\n",
              "      <td>145342</td>\n",
              "      <td>1</td>\n",
              "      <td>4</td>\n",
              "      <td>4</td>\n",
              "      <td>1</td>\n",
              "      <td>4</td>\n",
              "      <td>9</td>\n",
              "      <td>0</td>\n",
              "      <td>2</td>\n",
              "      <td>1943</td>\n",
              "      <td>9728</td>\n",
              "      <td>223</td>\n",
              "      <td>17</td>\n",
              "      <td>11753</td>\n",
              "    </tr>\n",
              "    <tr>\n",
              "      <th>4</th>\n",
              "      <td>11</td>\n",
              "      <td>53842</td>\n",
              "      <td>1</td>\n",
              "      <td>4</td>\n",
              "      <td>1</td>\n",
              "      <td>0</td>\n",
              "      <td>4</td>\n",
              "      <td>5</td>\n",
              "      <td>12</td>\n",
              "      <td>1</td>\n",
              "      <td>2585</td>\n",
              "      <td>7957</td>\n",
              "      <td>70</td>\n",
              "      <td>9</td>\n",
              "      <td>11753</td>\n",
              "    </tr>\n",
              "  </tbody>\n",
              "</table>\n",
              "</div>"
            ],
            "text/plain": [
              "   User_ID  Product_ID  ...  User_ID_Category  Count_By_Product_Category_1\n",
              "0        4      128942  ...                 3                       140378\n",
              "1        9      113442  ...                 9                        20213\n",
              "2       10      288442  ...                17                       150933\n",
              "3       10      145342  ...                17                        11753\n",
              "4       11       53842  ...                 9                        11753\n",
              "\n",
              "[5 rows x 15 columns]"
            ]
          },
          "metadata": {
            "tags": []
          },
          "execution_count": 35
        }
      ]
    },
    {
      "cell_type": "code",
      "metadata": {
        "id": "H70b-fSIkzr-",
        "colab_type": "code",
        "colab": {}
      },
      "source": [
        ""
      ],
      "execution_count": null,
      "outputs": []
    }
  ]
}