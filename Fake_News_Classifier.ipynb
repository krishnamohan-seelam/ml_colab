{
  "nbformat": 4,
  "nbformat_minor": 0,
  "metadata": {
    "colab": {
      "name": "Fake_News_Classifier.ipynb",
      "provenance": [],
      "collapsed_sections": [],
      "authorship_tag": "ABX9TyONNYaKMQn5v3cP4kvBEOeo",
      "include_colab_link": true
    },
    "kernelspec": {
      "name": "python3",
      "display_name": "Python 3"
    }
  },
  "cells": [
    {
      "cell_type": "markdown",
      "metadata": {
        "id": "view-in-github",
        "colab_type": "text"
      },
      "source": [
        "<a href=\"https://colab.research.google.com/github/krishnamohan-seelam/ml_colab/blob/master/Fake_News_Classifier.ipynb\" target=\"_parent\"><img src=\"https://colab.research.google.com/assets/colab-badge.svg\" alt=\"Open In Colab\"/></a>"
      ]
    },
    {
      "cell_type": "code",
      "metadata": {
        "id": "h3QckR312E-x"
      },
      "source": [
        "IN_COLAB = 'google.colab' in str(get_ipython())"
      ],
      "execution_count": 1,
      "outputs": []
    },
    {
      "cell_type": "code",
      "metadata": {
        "colab": {
          "base_uri": "https://localhost:8080/"
        },
        "id": "vdtHs0hc2SnN",
        "outputId": "85b9dc70-56bc-4a93-be8a-caa9eba0a1ad"
      },
      "source": [
        "if IN_COLAB:\r\n",
        "  # Uninstall tensorflow first\r\n",
        "  !pip uninstall tensorflow -y\r\n",
        "  # Install tensorflow-gpu (stable version)\r\n",
        "  !pip install tensorflow-gpu  # stable\r\n",
        "  !pip install emoji\r\n",
        "  import tensorflow as tf\r\n",
        "  # Check version\r\n",
        "  print(tf.__version__)\r\n",
        "\r\n",
        "  from tensorflow.python.client import device_lib\r\n",
        "  device_lib.list_local_devices()\r\n",
        "\r\n",
        "import nltk\r\n",
        "nltk.download('stopwords')\r\n",
        "nltk.download('wordnet')"
      ],
      "execution_count": 2,
      "outputs": [
        {
          "output_type": "stream",
          "text": [
            "\u001b[33mWARNING: Skipping tensorflow as it is not installed.\u001b[0m\n",
            "Requirement already satisfied: tensorflow-gpu in /usr/local/lib/python3.6/dist-packages (2.4.0)\n",
            "Requirement already satisfied: gast==0.3.3 in /usr/local/lib/python3.6/dist-packages (from tensorflow-gpu) (0.3.3)\n",
            "Requirement already satisfied: tensorboard~=2.4 in /usr/local/lib/python3.6/dist-packages (from tensorflow-gpu) (2.4.0)\n",
            "Requirement already satisfied: grpcio~=1.32.0 in /usr/local/lib/python3.6/dist-packages (from tensorflow-gpu) (1.32.0)\n",
            "Requirement already satisfied: tensorflow-estimator<2.5.0,>=2.4.0rc0 in /usr/local/lib/python3.6/dist-packages (from tensorflow-gpu) (2.4.0)\n",
            "Requirement already satisfied: opt-einsum~=3.3.0 in /usr/local/lib/python3.6/dist-packages (from tensorflow-gpu) (3.3.0)\n",
            "Requirement already satisfied: flatbuffers~=1.12.0 in /usr/local/lib/python3.6/dist-packages (from tensorflow-gpu) (1.12)\n",
            "Requirement already satisfied: typing-extensions~=3.7.4 in /usr/local/lib/python3.6/dist-packages (from tensorflow-gpu) (3.7.4.3)\n",
            "Requirement already satisfied: absl-py~=0.10 in /usr/local/lib/python3.6/dist-packages (from tensorflow-gpu) (0.10.0)\n",
            "Requirement already satisfied: six~=1.15.0 in /usr/local/lib/python3.6/dist-packages (from tensorflow-gpu) (1.15.0)\n",
            "Requirement already satisfied: protobuf>=3.9.2 in /usr/local/lib/python3.6/dist-packages (from tensorflow-gpu) (3.12.4)\n",
            "Requirement already satisfied: wrapt~=1.12.1 in /usr/local/lib/python3.6/dist-packages (from tensorflow-gpu) (1.12.1)\n",
            "Requirement already satisfied: h5py~=2.10.0 in /usr/local/lib/python3.6/dist-packages (from tensorflow-gpu) (2.10.0)\n",
            "Requirement already satisfied: wheel~=0.35 in /usr/local/lib/python3.6/dist-packages (from tensorflow-gpu) (0.36.2)\n",
            "Requirement already satisfied: numpy~=1.19.2 in /usr/local/lib/python3.6/dist-packages (from tensorflow-gpu) (1.19.5)\n",
            "Requirement already satisfied: astunparse~=1.6.3 in /usr/local/lib/python3.6/dist-packages (from tensorflow-gpu) (1.6.3)\n",
            "Requirement already satisfied: google-pasta~=0.2 in /usr/local/lib/python3.6/dist-packages (from tensorflow-gpu) (0.2.0)\n",
            "Requirement already satisfied: keras-preprocessing~=1.1.2 in /usr/local/lib/python3.6/dist-packages (from tensorflow-gpu) (1.1.2)\n",
            "Requirement already satisfied: termcolor~=1.1.0 in /usr/local/lib/python3.6/dist-packages (from tensorflow-gpu) (1.1.0)\n",
            "Requirement already satisfied: google-auth-oauthlib<0.5,>=0.4.1 in /usr/local/lib/python3.6/dist-packages (from tensorboard~=2.4->tensorflow-gpu) (0.4.2)\n",
            "Requirement already satisfied: werkzeug>=0.11.15 in /usr/local/lib/python3.6/dist-packages (from tensorboard~=2.4->tensorflow-gpu) (1.0.1)\n",
            "Requirement already satisfied: requests<3,>=2.21.0 in /usr/local/lib/python3.6/dist-packages (from tensorboard~=2.4->tensorflow-gpu) (2.23.0)\n",
            "Requirement already satisfied: setuptools>=41.0.0 in /usr/local/lib/python3.6/dist-packages (from tensorboard~=2.4->tensorflow-gpu) (51.1.1)\n",
            "Requirement already satisfied: tensorboard-plugin-wit>=1.6.0 in /usr/local/lib/python3.6/dist-packages (from tensorboard~=2.4->tensorflow-gpu) (1.7.0)\n",
            "Requirement already satisfied: google-auth<2,>=1.6.3 in /usr/local/lib/python3.6/dist-packages (from tensorboard~=2.4->tensorflow-gpu) (1.17.2)\n",
            "Requirement already satisfied: markdown>=2.6.8 in /usr/local/lib/python3.6/dist-packages (from tensorboard~=2.4->tensorflow-gpu) (3.3.3)\n",
            "Requirement already satisfied: requests-oauthlib>=0.7.0 in /usr/local/lib/python3.6/dist-packages (from google-auth-oauthlib<0.5,>=0.4.1->tensorboard~=2.4->tensorflow-gpu) (1.3.0)\n",
            "Requirement already satisfied: urllib3!=1.25.0,!=1.25.1,<1.26,>=1.21.1 in /usr/local/lib/python3.6/dist-packages (from requests<3,>=2.21.0->tensorboard~=2.4->tensorflow-gpu) (1.24.3)\n",
            "Requirement already satisfied: certifi>=2017.4.17 in /usr/local/lib/python3.6/dist-packages (from requests<3,>=2.21.0->tensorboard~=2.4->tensorflow-gpu) (2020.12.5)\n",
            "Requirement already satisfied: idna<3,>=2.5 in /usr/local/lib/python3.6/dist-packages (from requests<3,>=2.21.0->tensorboard~=2.4->tensorflow-gpu) (2.10)\n",
            "Requirement already satisfied: chardet<4,>=3.0.2 in /usr/local/lib/python3.6/dist-packages (from requests<3,>=2.21.0->tensorboard~=2.4->tensorflow-gpu) (3.0.4)\n",
            "Requirement already satisfied: rsa<5,>=3.1.4; python_version >= \"3\" in /usr/local/lib/python3.6/dist-packages (from google-auth<2,>=1.6.3->tensorboard~=2.4->tensorflow-gpu) (4.6)\n",
            "Requirement already satisfied: cachetools<5.0,>=2.0.0 in /usr/local/lib/python3.6/dist-packages (from google-auth<2,>=1.6.3->tensorboard~=2.4->tensorflow-gpu) (4.2.0)\n",
            "Requirement already satisfied: pyasn1-modules>=0.2.1 in /usr/local/lib/python3.6/dist-packages (from google-auth<2,>=1.6.3->tensorboard~=2.4->tensorflow-gpu) (0.2.8)\n",
            "Requirement already satisfied: importlib-metadata; python_version < \"3.8\" in /usr/local/lib/python3.6/dist-packages (from markdown>=2.6.8->tensorboard~=2.4->tensorflow-gpu) (3.3.0)\n",
            "Requirement already satisfied: oauthlib>=3.0.0 in /usr/local/lib/python3.6/dist-packages (from requests-oauthlib>=0.7.0->google-auth-oauthlib<0.5,>=0.4.1->tensorboard~=2.4->tensorflow-gpu) (3.1.0)\n",
            "Requirement already satisfied: pyasn1>=0.1.3 in /usr/local/lib/python3.6/dist-packages (from rsa<5,>=3.1.4; python_version >= \"3\"->google-auth<2,>=1.6.3->tensorboard~=2.4->tensorflow-gpu) (0.4.8)\n",
            "Requirement already satisfied: zipp>=0.5 in /usr/local/lib/python3.6/dist-packages (from importlib-metadata; python_version < \"3.8\"->markdown>=2.6.8->tensorboard~=2.4->tensorflow-gpu) (3.4.0)\n",
            "Requirement already satisfied: emoji in /usr/local/lib/python3.6/dist-packages (0.6.0)\n",
            "2.4.0\n",
            "[nltk_data] Downloading package stopwords to /root/nltk_data...\n",
            "[nltk_data]   Package stopwords is already up-to-date!\n",
            "[nltk_data] Downloading package wordnet to /root/nltk_data...\n",
            "[nltk_data]   Package wordnet is already up-to-date!\n"
          ],
          "name": "stdout"
        },
        {
          "output_type": "execute_result",
          "data": {
            "text/plain": [
              "True"
            ]
          },
          "metadata": {
            "tags": []
          },
          "execution_count": 2
        }
      ]
    },
    {
      "cell_type": "code",
      "metadata": {
        "id": "IJwrkoUo2Vdf"
      },
      "source": [
        "from tensorflow.keras.preprocessing.text import one_hot"
      ],
      "execution_count": 3,
      "outputs": []
    },
    {
      "cell_type": "code",
      "metadata": {
        "id": "XNFbsoc02YRr"
      },
      "source": [
        "import numpy as np\r\n",
        "import pandas as pd\r\n",
        "import seaborn as sns\r\n",
        "\r\n",
        "import re\r\n",
        "import string\r\n",
        "import os\r\n",
        "import emoji\r\n",
        "\r\n",
        "import collections\r\n",
        "import unicodedata\r\n",
        "\r\n",
        "\r\n",
        "from pathlib import Path\r\n",
        "from matplotlib import pyplot as plt\r\n",
        "from datetime import datetime as dt\r\n",
        "from pprint import pprint\r\n",
        "from time import time\r\n",
        "from sklearn.base import BaseEstimator, TransformerMixin\r\n",
        "from sklearn.feature_extraction.text import CountVectorizer\r\n",
        "from sklearn.feature_extraction.text import TfidfVectorizer\r\n",
        "from nltk.corpus import stopwords, wordnet\r\n",
        "\r\n",
        "from nltk.stem import PorterStemmer, LancasterStemmer, WordNetLemmatizer\r\n",
        "from nltk.tokenize import word_tokenize, TweetTokenizer\r\n",
        "from sklearn.feature_extraction import text\r\n",
        "from nltk.corpus import stopwords\r\n",
        "sns.set(style=\"darkgrid\")\r\n",
        "sns.set(font_scale=1.3)"
      ],
      "execution_count": 4,
      "outputs": []
    },
    {
      "cell_type": "code",
      "metadata": {
        "id": "cozftNQf-LGQ"
      },
      "source": [
        "from sklearn.base import BaseEstimator, TransformerMixin\r\n",
        "from nltk.corpus import stopwords, wordnet\r\n",
        "\r\n",
        "from nltk.stem import PorterStemmer, LancasterStemmer, WordNetLemmatizer\r\n",
        "from nltk.tokenize import word_tokenize, TweetTokenizer\r\n",
        "from sklearn.feature_extraction import text"
      ],
      "execution_count": 5,
      "outputs": []
    },
    {
      "cell_type": "code",
      "metadata": {
        "id": "7cBpO1BUBqfC"
      },
      "source": [
        "from tensorflow.keras.preprocessing.text import Tokenizer\r\n",
        "from tensorflow.keras.preprocessing.sequence import pad_sequences"
      ],
      "execution_count": 6,
      "outputs": []
    },
    {
      "cell_type": "code",
      "metadata": {
        "id": "_kgRGF2e_nd5"
      },
      "source": [
        "sk_learn_stopwords = text.ENGLISH_STOP_WORDS\r\n",
        "nltk__stopwords = stopwords.words('english')\r\n",
        "stop_words = sk_learn_stopwords.intersection(nltk__stopwords)"
      ],
      "execution_count": 7,
      "outputs": []
    },
    {
      "cell_type": "code",
      "metadata": {
        "id": "oSJhyJzQ-MBB"
      },
      "source": [
        "class CleanText(BaseEstimator, TransformerMixin):\r\n",
        "\r\n",
        "    def __init__(self, stop_words, stemmer):\r\n",
        "        self.stop_words = stop_words\r\n",
        "        self.stemmer = stemmer\r\n",
        "        self.tokenizer = TweetTokenizer()\r\n",
        "\r\n",
        "    def remove_mentions(self, input_text):\r\n",
        "        return re.sub(r'@\\w+', '', input_text)\r\n",
        "\r\n",
        "    def remove_accented_chars(self, input_text):\r\n",
        "        text = unicodedata.normalize('NFKD', input_text).encode(\r\n",
        "            'ascii', 'ignore').decode('utf-8', 'ignore')\r\n",
        "        return text\r\n",
        "\r\n",
        "    def remove_urls(self, input_text):\r\n",
        "        input_text = re.sub(r'http.?://[^\\s]+[\\s]?', '', input_text)\r\n",
        "        input_text = re.sub(r'^RT[\\s]+', '', input_text)\r\n",
        "        return input_text\r\n",
        "\r\n",
        "    def emoji_oneword(self, input_text):\r\n",
        "        # By compressing the underscore, the emoji is kept as one word\r\n",
        "        return input_text.replace('_', '')\r\n",
        "\r\n",
        "    def remove_punctuation(self, input_text):\r\n",
        "        # Make translation table\r\n",
        "        punct = string.punctuation\r\n",
        "        trantab = str.maketrans(\r\n",
        "            punct,\r\n",
        "            len(punct) *\r\n",
        "            ' ')  # Every punctuation symbol will be replaced by a space\r\n",
        "        return input_text.translate(trantab)\r\n",
        "\r\n",
        "    def remove_digits(self, input_text):\r\n",
        "        return re.sub('\\d+', '', input_text)\r\n",
        "\r\n",
        "    def to_lower(self, input_text):\r\n",
        "        return input_text.lower()\r\n",
        "\r\n",
        "    def remove_stopwords(self, input_text):\r\n",
        "\r\n",
        "        # Some words which might indicate a certain sentiment are kept via a whitelist\r\n",
        "        whitelist = [\"n't\", \"not\", \"no\"]\r\n",
        "        words = self.tokenizer.tokenize(input_text)\r\n",
        "        clean_words = [\r\n",
        "            word for word in words\r\n",
        "            if ((word.strip() not in self.stop_words) or word.strip() in whitelist)\r\n",
        "        ]\r\n",
        "        #clean_words = [CONTRACTION_MAP.get(word, word) for word in clean_words]\r\n",
        "        return \" \".join(clean_words)\r\n",
        "\r\n",
        "    def remove_repeated_characters(self, input_text):\r\n",
        "\r\n",
        "        repeat_pattern = re.compile(r'(\\w*)(\\w)\\2(\\w*)')\r\n",
        "        match_substitution = r'\\1\\2\\3'\r\n",
        "        tokens = input_text.split()\r\n",
        "\r\n",
        "        def replace(old_word):\r\n",
        "            if wordnet.synsets(old_word):\r\n",
        "                return old_word\r\n",
        "            new_word = repeat_pattern.sub(match_substitution, old_word)\r\n",
        "            return replace(new_word) if new_word != old_word else new_word\r\n",
        "\r\n",
        "        correct_tokens = [replace(word) for word in tokens]\r\n",
        "\r\n",
        "        return \" \".join(correct_tokens)\r\n",
        "\r\n",
        "    def remove_shortwords(self, input_text):\r\n",
        "        words = self.tokenizer.tokenize(input_text)\r\n",
        "        words = [word for word in words if 2 < len(word) < 20]\r\n",
        "        return \" \".join(words)\r\n",
        "\r\n",
        "    def stemming(self, input_text):\r\n",
        "        words = self.tokenizer.tokenize(input_text)\r\n",
        "        if isinstance(self.stemmer, WordNetLemmatizer):\r\n",
        "            stemmed_words = [self.stemmer.lemmatize(word) for word in words]\r\n",
        "        else:\r\n",
        "            stemmed_words = [self.stemmer.stem(word) for word in words]\r\n",
        "        return \" \".join(stemmed_words)\r\n",
        "\r\n",
        "    def fit(self, X, y=None, **fit_params):\r\n",
        "        return self\r\n",
        "\r\n",
        "    def transform(self, X, **transform_params):\r\n",
        "        #clean_X = X.apply(self.remove_accented_chars)\r\n",
        "        #clean_X = clean_X.apply(self.remove_mentions)\r\n",
        "        #clean_X = clean_X.apply(self.remove_urls)\r\n",
        "        #clean_X = clean_X.apply(self.emoji_oneword)\r\n",
        "        clean_X = X.apply(self.remove_stopwords)\r\n",
        "        clean_X = clean_X.apply(self.remove_punctuation)\r\n",
        "        clean_X = clean_X.apply(self.remove_digits)\r\n",
        "        # clean_X = clean_X.apply(self.remove_repeated_characters)\r\n",
        "        clean_X = clean_X.apply(self.to_lower)\r\n",
        "\r\n",
        "        clean_X = clean_X.apply(self.remove_shortwords)\r\n",
        "        return clean_X"
      ],
      "execution_count": 8,
      "outputs": []
    },
    {
      "cell_type": "code",
      "metadata": {
        "id": "xsOD_xTo2Y7a"
      },
      "source": [
        "def get_filepath(foldername,filename):\r\n",
        "  \r\n",
        "  if IN_COLAB:\r\n",
        "      from google.colab import drive\r\n",
        "      drive.mount('/content/drive')\r\n",
        "      data_path = 'drive/My Drive/datasets/{foldername}/{filename}'\r\n",
        "      source_path = Path.cwd()\r\n",
        "      return source_path.joinpath(data_path.format(foldername=foldername,filename=filename))\r\n",
        "  else:\r\n",
        "      data_path='{filename}'\r\n",
        "      source_path =Path.cwd().joinpath('datasource')\r\n",
        "      return source_path.joinpath(data_path.format(filename=filename))"
      ],
      "execution_count": 9,
      "outputs": []
    },
    {
      "cell_type": "code",
      "metadata": {
        "colab": {
          "base_uri": "https://localhost:8080/"
        },
        "id": "s6hxoy5A2c72",
        "outputId": "0b2e1c67-6cca-4421-b07c-5a7c21a2f98d"
      },
      "source": [
        "foldername = 'fake-news'\r\n",
        "train_file = get_filepath(foldername,'train.csv')\r\n",
        "test_file  = get_filepath(foldername,'test.csv')"
      ],
      "execution_count": 10,
      "outputs": [
        {
          "output_type": "stream",
          "text": [
            "Drive already mounted at /content/drive; to attempt to forcibly remount, call drive.mount(\"/content/drive\", force_remount=True).\n",
            "Drive already mounted at /content/drive; to attempt to forcibly remount, call drive.mount(\"/content/drive\", force_remount=True).\n"
          ],
          "name": "stdout"
        }
      ]
    },
    {
      "cell_type": "code",
      "metadata": {
        "id": "26IeRf9N2jbW"
      },
      "source": [
        "train_df = pd.read_csv(train_file)\r\n",
        "test_df = pd.read_csv(test_file)"
      ],
      "execution_count": 11,
      "outputs": []
    },
    {
      "cell_type": "code",
      "metadata": {
        "colab": {
          "base_uri": "https://localhost:8080/",
          "height": 204
        },
        "id": "yz2BTRGY20NA",
        "outputId": "6ec39a9e-93d2-47ee-dae7-df19d3e20bc5"
      },
      "source": [
        "train_df.head()"
      ],
      "execution_count": 12,
      "outputs": [
        {
          "output_type": "execute_result",
          "data": {
            "text/html": [
              "<div>\n",
              "<style scoped>\n",
              "    .dataframe tbody tr th:only-of-type {\n",
              "        vertical-align: middle;\n",
              "    }\n",
              "\n",
              "    .dataframe tbody tr th {\n",
              "        vertical-align: top;\n",
              "    }\n",
              "\n",
              "    .dataframe thead th {\n",
              "        text-align: right;\n",
              "    }\n",
              "</style>\n",
              "<table border=\"1\" class=\"dataframe\">\n",
              "  <thead>\n",
              "    <tr style=\"text-align: right;\">\n",
              "      <th></th>\n",
              "      <th>id</th>\n",
              "      <th>title</th>\n",
              "      <th>author</th>\n",
              "      <th>text</th>\n",
              "      <th>label</th>\n",
              "    </tr>\n",
              "  </thead>\n",
              "  <tbody>\n",
              "    <tr>\n",
              "      <th>0</th>\n",
              "      <td>0</td>\n",
              "      <td>House Dem Aide: We Didn’t Even See Comey’s Let...</td>\n",
              "      <td>Darrell Lucus</td>\n",
              "      <td>House Dem Aide: We Didn’t Even See Comey’s Let...</td>\n",
              "      <td>1</td>\n",
              "    </tr>\n",
              "    <tr>\n",
              "      <th>1</th>\n",
              "      <td>1</td>\n",
              "      <td>FLYNN: Hillary Clinton, Big Woman on Campus - ...</td>\n",
              "      <td>Daniel J. Flynn</td>\n",
              "      <td>Ever get the feeling your life circles the rou...</td>\n",
              "      <td>0</td>\n",
              "    </tr>\n",
              "    <tr>\n",
              "      <th>2</th>\n",
              "      <td>2</td>\n",
              "      <td>Why the Truth Might Get You Fired</td>\n",
              "      <td>Consortiumnews.com</td>\n",
              "      <td>Why the Truth Might Get You Fired October 29, ...</td>\n",
              "      <td>1</td>\n",
              "    </tr>\n",
              "    <tr>\n",
              "      <th>3</th>\n",
              "      <td>3</td>\n",
              "      <td>15 Civilians Killed In Single US Airstrike Hav...</td>\n",
              "      <td>Jessica Purkiss</td>\n",
              "      <td>Videos 15 Civilians Killed In Single US Airstr...</td>\n",
              "      <td>1</td>\n",
              "    </tr>\n",
              "    <tr>\n",
              "      <th>4</th>\n",
              "      <td>4</td>\n",
              "      <td>Iranian woman jailed for fictional unpublished...</td>\n",
              "      <td>Howard Portnoy</td>\n",
              "      <td>Print \\nAn Iranian woman has been sentenced to...</td>\n",
              "      <td>1</td>\n",
              "    </tr>\n",
              "  </tbody>\n",
              "</table>\n",
              "</div>"
            ],
            "text/plain": [
              "   id  ... label\n",
              "0   0  ...     1\n",
              "1   1  ...     0\n",
              "2   2  ...     1\n",
              "3   3  ...     1\n",
              "4   4  ...     1\n",
              "\n",
              "[5 rows x 5 columns]"
            ]
          },
          "metadata": {
            "tags": []
          },
          "execution_count": 12
        }
      ]
    },
    {
      "cell_type": "code",
      "metadata": {
        "colab": {
          "base_uri": "https://localhost:8080/",
          "height": 204
        },
        "id": "FwgiIGkA21nr",
        "outputId": "b0b95d2a-238b-4637-a971-7a1d84eb5f65"
      },
      "source": [
        "train_df.describe(include=\"all\").T"
      ],
      "execution_count": 13,
      "outputs": [
        {
          "output_type": "execute_result",
          "data": {
            "text/html": [
              "<div>\n",
              "<style scoped>\n",
              "    .dataframe tbody tr th:only-of-type {\n",
              "        vertical-align: middle;\n",
              "    }\n",
              "\n",
              "    .dataframe tbody tr th {\n",
              "        vertical-align: top;\n",
              "    }\n",
              "\n",
              "    .dataframe thead th {\n",
              "        text-align: right;\n",
              "    }\n",
              "</style>\n",
              "<table border=\"1\" class=\"dataframe\">\n",
              "  <thead>\n",
              "    <tr style=\"text-align: right;\">\n",
              "      <th></th>\n",
              "      <th>count</th>\n",
              "      <th>unique</th>\n",
              "      <th>top</th>\n",
              "      <th>freq</th>\n",
              "      <th>mean</th>\n",
              "      <th>std</th>\n",
              "      <th>min</th>\n",
              "      <th>25%</th>\n",
              "      <th>50%</th>\n",
              "      <th>75%</th>\n",
              "      <th>max</th>\n",
              "    </tr>\n",
              "  </thead>\n",
              "  <tbody>\n",
              "    <tr>\n",
              "      <th>id</th>\n",
              "      <td>20800</td>\n",
              "      <td>NaN</td>\n",
              "      <td>NaN</td>\n",
              "      <td>NaN</td>\n",
              "      <td>10399.5</td>\n",
              "      <td>6004.59</td>\n",
              "      <td>0</td>\n",
              "      <td>5199.75</td>\n",
              "      <td>10399.5</td>\n",
              "      <td>15599.2</td>\n",
              "      <td>20799</td>\n",
              "    </tr>\n",
              "    <tr>\n",
              "      <th>title</th>\n",
              "      <td>20242</td>\n",
              "      <td>19803</td>\n",
              "      <td>Get Ready For Civil Unrest: Survey Finds That ...</td>\n",
              "      <td>5</td>\n",
              "      <td>NaN</td>\n",
              "      <td>NaN</td>\n",
              "      <td>NaN</td>\n",
              "      <td>NaN</td>\n",
              "      <td>NaN</td>\n",
              "      <td>NaN</td>\n",
              "      <td>NaN</td>\n",
              "    </tr>\n",
              "    <tr>\n",
              "      <th>author</th>\n",
              "      <td>18843</td>\n",
              "      <td>4201</td>\n",
              "      <td>Pam Key</td>\n",
              "      <td>243</td>\n",
              "      <td>NaN</td>\n",
              "      <td>NaN</td>\n",
              "      <td>NaN</td>\n",
              "      <td>NaN</td>\n",
              "      <td>NaN</td>\n",
              "      <td>NaN</td>\n",
              "      <td>NaN</td>\n",
              "    </tr>\n",
              "    <tr>\n",
              "      <th>text</th>\n",
              "      <td>20761</td>\n",
              "      <td>20386</td>\n",
              "      <td></td>\n",
              "      <td>75</td>\n",
              "      <td>NaN</td>\n",
              "      <td>NaN</td>\n",
              "      <td>NaN</td>\n",
              "      <td>NaN</td>\n",
              "      <td>NaN</td>\n",
              "      <td>NaN</td>\n",
              "      <td>NaN</td>\n",
              "    </tr>\n",
              "    <tr>\n",
              "      <th>label</th>\n",
              "      <td>20800</td>\n",
              "      <td>NaN</td>\n",
              "      <td>NaN</td>\n",
              "      <td>NaN</td>\n",
              "      <td>0.500625</td>\n",
              "      <td>0.500012</td>\n",
              "      <td>0</td>\n",
              "      <td>0</td>\n",
              "      <td>1</td>\n",
              "      <td>1</td>\n",
              "      <td>1</td>\n",
              "    </tr>\n",
              "  </tbody>\n",
              "</table>\n",
              "</div>"
            ],
            "text/plain": [
              "        count unique  ...      75%    max\n",
              "id      20800    NaN  ...  15599.2  20799\n",
              "title   20242  19803  ...      NaN    NaN\n",
              "author  18843   4201  ...      NaN    NaN\n",
              "text    20761  20386  ...      NaN    NaN\n",
              "label   20800    NaN  ...        1      1\n",
              "\n",
              "[5 rows x 11 columns]"
            ]
          },
          "metadata": {
            "tags": []
          },
          "execution_count": 13
        }
      ]
    },
    {
      "cell_type": "code",
      "metadata": {
        "colab": {
          "base_uri": "https://localhost:8080/"
        },
        "id": "WLusN1uY3VSH",
        "outputId": "2cc01f8a-36b9-4653-9a92-55efe3ff4484"
      },
      "source": [
        "train_df.info()"
      ],
      "execution_count": 14,
      "outputs": [
        {
          "output_type": "stream",
          "text": [
            "<class 'pandas.core.frame.DataFrame'>\n",
            "RangeIndex: 20800 entries, 0 to 20799\n",
            "Data columns (total 5 columns):\n",
            " #   Column  Non-Null Count  Dtype \n",
            "---  ------  --------------  ----- \n",
            " 0   id      20800 non-null  int64 \n",
            " 1   title   20242 non-null  object\n",
            " 2   author  18843 non-null  object\n",
            " 3   text    20761 non-null  object\n",
            " 4   label   20800 non-null  int64 \n",
            "dtypes: int64(2), object(3)\n",
            "memory usage: 812.6+ KB\n"
          ],
          "name": "stdout"
        }
      ]
    },
    {
      "cell_type": "code",
      "metadata": {
        "colab": {
          "base_uri": "https://localhost:8080/"
        },
        "id": "a7jsF_0h8WRr",
        "outputId": "bbc567f9-4080-4baf-a778-ea8252b553b2"
      },
      "source": [
        "test_df.info()"
      ],
      "execution_count": 15,
      "outputs": [
        {
          "output_type": "stream",
          "text": [
            "<class 'pandas.core.frame.DataFrame'>\n",
            "RangeIndex: 5200 entries, 0 to 5199\n",
            "Data columns (total 4 columns):\n",
            " #   Column  Non-Null Count  Dtype \n",
            "---  ------  --------------  ----- \n",
            " 0   id      5200 non-null   int64 \n",
            " 1   title   5078 non-null   object\n",
            " 2   author  4697 non-null   object\n",
            " 3   text    5193 non-null   object\n",
            "dtypes: int64(1), object(3)\n",
            "memory usage: 162.6+ KB\n"
          ],
          "name": "stdout"
        }
      ]
    },
    {
      "cell_type": "code",
      "metadata": {
        "colab": {
          "base_uri": "https://localhost:8080/",
          "height": 1000
        },
        "id": "JX5klttE3uA-",
        "outputId": "dc31f73c-0a2d-4684-e374-4e865ea9ce8c"
      },
      "source": [
        "train_df[train_df['text'].isna()] "
      ],
      "execution_count": 16,
      "outputs": [
        {
          "output_type": "execute_result",
          "data": {
            "text/html": [
              "<div>\n",
              "<style scoped>\n",
              "    .dataframe tbody tr th:only-of-type {\n",
              "        vertical-align: middle;\n",
              "    }\n",
              "\n",
              "    .dataframe tbody tr th {\n",
              "        vertical-align: top;\n",
              "    }\n",
              "\n",
              "    .dataframe thead th {\n",
              "        text-align: right;\n",
              "    }\n",
              "</style>\n",
              "<table border=\"1\" class=\"dataframe\">\n",
              "  <thead>\n",
              "    <tr style=\"text-align: right;\">\n",
              "      <th></th>\n",
              "      <th>id</th>\n",
              "      <th>title</th>\n",
              "      <th>author</th>\n",
              "      <th>text</th>\n",
              "      <th>label</th>\n",
              "    </tr>\n",
              "  </thead>\n",
              "  <tbody>\n",
              "    <tr>\n",
              "      <th>142</th>\n",
              "      <td>142</td>\n",
              "      <td>Gorafi Magazine : Entretien exclusif avec Bara...</td>\n",
              "      <td>NaN</td>\n",
              "      <td>NaN</td>\n",
              "      <td>1</td>\n",
              "    </tr>\n",
              "    <tr>\n",
              "      <th>573</th>\n",
              "      <td>573</td>\n",
              "      <td>Le top des recherches Google passe en top des ...</td>\n",
              "      <td>NaN</td>\n",
              "      <td>NaN</td>\n",
              "      <td>1</td>\n",
              "    </tr>\n",
              "    <tr>\n",
              "      <th>1200</th>\n",
              "      <td>1200</td>\n",
              "      <td>La Corée du Nord annonce avoir envoyé un missi...</td>\n",
              "      <td>NaN</td>\n",
              "      <td>NaN</td>\n",
              "      <td>1</td>\n",
              "    </tr>\n",
              "    <tr>\n",
              "      <th>1911</th>\n",
              "      <td>1911</td>\n",
              "      <td>Grand-Prix du Brésil – Romain Grosjean obtient...</td>\n",
              "      <td>NaN</td>\n",
              "      <td>NaN</td>\n",
              "      <td>1</td>\n",
              "    </tr>\n",
              "    <tr>\n",
              "      <th>2148</th>\n",
              "      <td>2148</td>\n",
              "      <td>Gorafi Magazine: Barack Obama « Je vous ai déj...</td>\n",
              "      <td>NaN</td>\n",
              "      <td>NaN</td>\n",
              "      <td>1</td>\n",
              "    </tr>\n",
              "    <tr>\n",
              "      <th>2169</th>\n",
              "      <td>2169</td>\n",
              "      <td>#NDDL: Pour fêter l’autorisation des travaux, ...</td>\n",
              "      <td>NaN</td>\n",
              "      <td>NaN</td>\n",
              "      <td>1</td>\n",
              "    </tr>\n",
              "    <tr>\n",
              "      <th>2793</th>\n",
              "      <td>2793</td>\n",
              "      <td>«Pourquoi je suis candidat à la présidentielle...</td>\n",
              "      <td>NaN</td>\n",
              "      <td>NaN</td>\n",
              "      <td>1</td>\n",
              "    </tr>\n",
              "    <tr>\n",
              "      <th>3329</th>\n",
              "      <td>3329</td>\n",
              "      <td>GuinessBook : 100 millions d’Américains batten...</td>\n",
              "      <td>NaN</td>\n",
              "      <td>NaN</td>\n",
              "      <td>1</td>\n",
              "    </tr>\n",
              "    <tr>\n",
              "      <th>3729</th>\n",
              "      <td>3729</td>\n",
              "      <td>Les Américains ne sont plus qu’à quelques heur...</td>\n",
              "      <td>NaN</td>\n",
              "      <td>NaN</td>\n",
              "      <td>1</td>\n",
              "    </tr>\n",
              "    <tr>\n",
              "      <th>4288</th>\n",
              "      <td>4288</td>\n",
              "      <td>Hillary Clinton en 5 dates &gt;&gt; Le Gorafi</td>\n",
              "      <td>NaN</td>\n",
              "      <td>NaN</td>\n",
              "      <td>1</td>\n",
              "    </tr>\n",
              "    <tr>\n",
              "      <th>4358</th>\n",
              "      <td>4358</td>\n",
              "      <td>Ne supportant plus l’ambiance de la campagne é...</td>\n",
              "      <td>NaN</td>\n",
              "      <td>NaN</td>\n",
              "      <td>1</td>\n",
              "    </tr>\n",
              "    <tr>\n",
              "      <th>5717</th>\n",
              "      <td>5717</td>\n",
              "      <td>SPA : Enfermé depuis trois jours dans une cage...</td>\n",
              "      <td>NaN</td>\n",
              "      <td>NaN</td>\n",
              "      <td>1</td>\n",
              "    </tr>\n",
              "    <tr>\n",
              "      <th>6215</th>\n",
              "      <td>6215</td>\n",
              "      <td>New-York – Le lâcher de confettis prévu à Time...</td>\n",
              "      <td>NaN</td>\n",
              "      <td>NaN</td>\n",
              "      <td>1</td>\n",
              "    </tr>\n",
              "    <tr>\n",
              "      <th>6680</th>\n",
              "      <td>6680</td>\n",
              "      <td>Débat Primaire de la Droite : les Français pas...</td>\n",
              "      <td>NaN</td>\n",
              "      <td>NaN</td>\n",
              "      <td>1</td>\n",
              "    </tr>\n",
              "    <tr>\n",
              "      <th>8649</th>\n",
              "      <td>8649</td>\n",
              "      <td>Donald Trump s’excuse pour toutes les minorité...</td>\n",
              "      <td>NaN</td>\n",
              "      <td>NaN</td>\n",
              "      <td>1</td>\n",
              "    </tr>\n",
              "    <tr>\n",
              "      <th>8908</th>\n",
              "      <td>8908</td>\n",
              "      <td>“Notre batal a coulé” par l’homme qui fait des...</td>\n",
              "      <td>NaN</td>\n",
              "      <td>NaN</td>\n",
              "      <td>1</td>\n",
              "    </tr>\n",
              "    <tr>\n",
              "      <th>8922</th>\n",
              "      <td>8922</td>\n",
              "      <td>La Trump Tower cambriolée – les voleurs seraie...</td>\n",
              "      <td>NaN</td>\n",
              "      <td>NaN</td>\n",
              "      <td>1</td>\n",
              "    </tr>\n",
              "    <tr>\n",
              "      <th>9350</th>\n",
              "      <td>9350</td>\n",
              "      <td>La Russie a profité de l’élection américaine p...</td>\n",
              "      <td>NaN</td>\n",
              "      <td>NaN</td>\n",
              "      <td>1</td>\n",
              "    </tr>\n",
              "    <tr>\n",
              "      <th>9446</th>\n",
              "      <td>9446</td>\n",
              "      <td>Trop essoufflé après avoir cherché ses affaire...</td>\n",
              "      <td>NaN</td>\n",
              "      <td>NaN</td>\n",
              "      <td>1</td>\n",
              "    </tr>\n",
              "    <tr>\n",
              "      <th>9454</th>\n",
              "      <td>9454</td>\n",
              "      <td>Il saoule tout le monde avec son analyse polit...</td>\n",
              "      <td>NaN</td>\n",
              "      <td>NaN</td>\n",
              "      <td>1</td>\n",
              "    </tr>\n",
              "    <tr>\n",
              "      <th>9524</th>\n",
              "      <td>9524</td>\n",
              "      <td>Elections US : les premières estimations donne...</td>\n",
              "      <td>NaN</td>\n",
              "      <td>NaN</td>\n",
              "      <td>1</td>\n",
              "    </tr>\n",
              "    <tr>\n",
              "      <th>10466</th>\n",
              "      <td>10466</td>\n",
              "      <td>Sur Twitter, Donald Trump se félicite d’avoir ...</td>\n",
              "      <td>NaN</td>\n",
              "      <td>NaN</td>\n",
              "      <td>1</td>\n",
              "    </tr>\n",
              "    <tr>\n",
              "      <th>10867</th>\n",
              "      <td>10867</td>\n",
              "      <td>Live Soirée présidentielle US 2016 &gt;&gt; Le Gorafi</td>\n",
              "      <td>NaN</td>\n",
              "      <td>NaN</td>\n",
              "      <td>1</td>\n",
              "    </tr>\n",
              "    <tr>\n",
              "      <th>11450</th>\n",
              "      <td>11450</td>\n",
              "      <td>Vladimir Poutine est élu 45e Président des Eta...</td>\n",
              "      <td>NaN</td>\n",
              "      <td>NaN</td>\n",
              "      <td>1</td>\n",
              "    </tr>\n",
              "    <tr>\n",
              "      <th>11486</th>\n",
              "      <td>11486</td>\n",
              "      <td>Pour booster les ventes, Dassault offre un por...</td>\n",
              "      <td>NaN</td>\n",
              "      <td>NaN</td>\n",
              "      <td>1</td>\n",
              "    </tr>\n",
              "    <tr>\n",
              "      <th>12056</th>\n",
              "      <td>12056</td>\n",
              "      <td>Après le succès de « Mariés au premier regard ...</td>\n",
              "      <td>NaN</td>\n",
              "      <td>NaN</td>\n",
              "      <td>1</td>\n",
              "    </tr>\n",
              "    <tr>\n",
              "      <th>12460</th>\n",
              "      <td>12460</td>\n",
              "      <td>La voyante lisait l’avenir dans les cartes ble...</td>\n",
              "      <td>NaN</td>\n",
              "      <td>NaN</td>\n",
              "      <td>1</td>\n",
              "    </tr>\n",
              "    <tr>\n",
              "      <th>12835</th>\n",
              "      <td>12835</td>\n",
              "      <td>[Vidéo] Découvrez le Gorafi de l’Année 2017 &gt;&gt;...</td>\n",
              "      <td>NaN</td>\n",
              "      <td>NaN</td>\n",
              "      <td>1</td>\n",
              "    </tr>\n",
              "    <tr>\n",
              "      <th>13020</th>\n",
              "      <td>13020</td>\n",
              "      <td>Horoscope du 21 novembre 2016 &gt;&gt; Le Gorafi</td>\n",
              "      <td>NaN</td>\n",
              "      <td>NaN</td>\n",
              "      <td>1</td>\n",
              "    </tr>\n",
              "    <tr>\n",
              "      <th>13107</th>\n",
              "      <td>13107</td>\n",
              "      <td>Les gardes-frontières se mettent en alerte pou...</td>\n",
              "      <td>NaN</td>\n",
              "      <td>NaN</td>\n",
              "      <td>1</td>\n",
              "    </tr>\n",
              "    <tr>\n",
              "      <th>13915</th>\n",
              "      <td>13915</td>\n",
              "      <td>Elle met en fuite un braqueur en lui jetant de...</td>\n",
              "      <td>NaN</td>\n",
              "      <td>NaN</td>\n",
              "      <td>1</td>\n",
              "    </tr>\n",
              "    <tr>\n",
              "      <th>14499</th>\n",
              "      <td>14499</td>\n",
              "      <td>Primaire – François Fillon se désiste au profi...</td>\n",
              "      <td>NaN</td>\n",
              "      <td>NaN</td>\n",
              "      <td>1</td>\n",
              "    </tr>\n",
              "    <tr>\n",
              "      <th>14933</th>\n",
              "      <td>14933</td>\n",
              "      <td>La sortie du dernier livre inédit du Gorafi éc...</td>\n",
              "      <td>NaN</td>\n",
              "      <td>NaN</td>\n",
              "      <td>1</td>\n",
              "    </tr>\n",
              "    <tr>\n",
              "      <th>16126</th>\n",
              "      <td>16126</td>\n",
              "      <td>Vendée Globe – Un skipper fait demi-tour après...</td>\n",
              "      <td>NaN</td>\n",
              "      <td>NaN</td>\n",
              "      <td>1</td>\n",
              "    </tr>\n",
              "    <tr>\n",
              "      <th>18479</th>\n",
              "      <td>18479</td>\n",
              "      <td>Il se fait cryogéniser dans l’espoir de voir u...</td>\n",
              "      <td>NaN</td>\n",
              "      <td>NaN</td>\n",
              "      <td>1</td>\n",
              "    </tr>\n",
              "    <tr>\n",
              "      <th>18757</th>\n",
              "      <td>18757</td>\n",
              "      <td>Donald Trump en 5 dates &gt;&gt; Le Gorafi</td>\n",
              "      <td>NaN</td>\n",
              "      <td>NaN</td>\n",
              "      <td>1</td>\n",
              "    </tr>\n",
              "    <tr>\n",
              "      <th>19157</th>\n",
              "      <td>19157</td>\n",
              "      <td>110% des Américains assurent qu’ils continuero...</td>\n",
              "      <td>NaN</td>\n",
              "      <td>NaN</td>\n",
              "      <td>1</td>\n",
              "    </tr>\n",
              "    <tr>\n",
              "      <th>19227</th>\n",
              "      <td>19227</td>\n",
              "      <td>Des millions d’Américains recherchent massivem...</td>\n",
              "      <td>NaN</td>\n",
              "      <td>NaN</td>\n",
              "      <td>1</td>\n",
              "    </tr>\n",
              "    <tr>\n",
              "      <th>19388</th>\n",
              "      <td>19388</td>\n",
              "      <td>Heureux et souriant, il a la chance de toujour...</td>\n",
              "      <td>NaN</td>\n",
              "      <td>NaN</td>\n",
              "      <td>1</td>\n",
              "    </tr>\n",
              "  </tbody>\n",
              "</table>\n",
              "</div>"
            ],
            "text/plain": [
              "          id                                              title  ... text label\n",
              "142      142  Gorafi Magazine : Entretien exclusif avec Bara...  ...  NaN     1\n",
              "573      573  Le top des recherches Google passe en top des ...  ...  NaN     1\n",
              "1200    1200  La Corée du Nord annonce avoir envoyé un missi...  ...  NaN     1\n",
              "1911    1911  Grand-Prix du Brésil – Romain Grosjean obtient...  ...  NaN     1\n",
              "2148    2148  Gorafi Magazine: Barack Obama « Je vous ai déj...  ...  NaN     1\n",
              "2169    2169  #NDDL: Pour fêter l’autorisation des travaux, ...  ...  NaN     1\n",
              "2793    2793  «Pourquoi je suis candidat à la présidentielle...  ...  NaN     1\n",
              "3329    3329  GuinessBook : 100 millions d’Américains batten...  ...  NaN     1\n",
              "3729    3729  Les Américains ne sont plus qu’à quelques heur...  ...  NaN     1\n",
              "4288    4288            Hillary Clinton en 5 dates >> Le Gorafi  ...  NaN     1\n",
              "4358    4358  Ne supportant plus l’ambiance de la campagne é...  ...  NaN     1\n",
              "5717    5717  SPA : Enfermé depuis trois jours dans une cage...  ...  NaN     1\n",
              "6215    6215  New-York – Le lâcher de confettis prévu à Time...  ...  NaN     1\n",
              "6680    6680  Débat Primaire de la Droite : les Français pas...  ...  NaN     1\n",
              "8649    8649  Donald Trump s’excuse pour toutes les minorité...  ...  NaN     1\n",
              "8908    8908  “Notre batal a coulé” par l’homme qui fait des...  ...  NaN     1\n",
              "8922    8922  La Trump Tower cambriolée – les voleurs seraie...  ...  NaN     1\n",
              "9350    9350  La Russie a profité de l’élection américaine p...  ...  NaN     1\n",
              "9446    9446  Trop essoufflé après avoir cherché ses affaire...  ...  NaN     1\n",
              "9454    9454  Il saoule tout le monde avec son analyse polit...  ...  NaN     1\n",
              "9524    9524  Elections US : les premières estimations donne...  ...  NaN     1\n",
              "10466  10466  Sur Twitter, Donald Trump se félicite d’avoir ...  ...  NaN     1\n",
              "10867  10867    Live Soirée présidentielle US 2016 >> Le Gorafi  ...  NaN     1\n",
              "11450  11450  Vladimir Poutine est élu 45e Président des Eta...  ...  NaN     1\n",
              "11486  11486  Pour booster les ventes, Dassault offre un por...  ...  NaN     1\n",
              "12056  12056  Après le succès de « Mariés au premier regard ...  ...  NaN     1\n",
              "12460  12460  La voyante lisait l’avenir dans les cartes ble...  ...  NaN     1\n",
              "12835  12835  [Vidéo] Découvrez le Gorafi de l’Année 2017 >>...  ...  NaN     1\n",
              "13020  13020         Horoscope du 21 novembre 2016 >> Le Gorafi  ...  NaN     1\n",
              "13107  13107  Les gardes-frontières se mettent en alerte pou...  ...  NaN     1\n",
              "13915  13915  Elle met en fuite un braqueur en lui jetant de...  ...  NaN     1\n",
              "14499  14499  Primaire – François Fillon se désiste au profi...  ...  NaN     1\n",
              "14933  14933  La sortie du dernier livre inédit du Gorafi éc...  ...  NaN     1\n",
              "16126  16126  Vendée Globe – Un skipper fait demi-tour après...  ...  NaN     1\n",
              "18479  18479  Il se fait cryogéniser dans l’espoir de voir u...  ...  NaN     1\n",
              "18757  18757               Donald Trump en 5 dates >> Le Gorafi  ...  NaN     1\n",
              "19157  19157  110% des Américains assurent qu’ils continuero...  ...  NaN     1\n",
              "19227  19227  Des millions d’Américains recherchent massivem...  ...  NaN     1\n",
              "19388  19388  Heureux et souriant, il a la chance de toujour...  ...  NaN     1\n",
              "\n",
              "[39 rows x 5 columns]"
            ]
          },
          "metadata": {
            "tags": []
          },
          "execution_count": 16
        }
      ]
    },
    {
      "cell_type": "code",
      "metadata": {
        "colab": {
          "base_uri": "https://localhost:8080/",
          "height": 266
        },
        "id": "5TOBZudm8h3G",
        "outputId": "15057a37-d2bd-45fc-f4c3-b7b0a37ad6ed"
      },
      "source": [
        "test_df[test_df['text'].isna()] "
      ],
      "execution_count": 17,
      "outputs": [
        {
          "output_type": "execute_result",
          "data": {
            "text/html": [
              "<div>\n",
              "<style scoped>\n",
              "    .dataframe tbody tr th:only-of-type {\n",
              "        vertical-align: middle;\n",
              "    }\n",
              "\n",
              "    .dataframe tbody tr th {\n",
              "        vertical-align: top;\n",
              "    }\n",
              "\n",
              "    .dataframe thead th {\n",
              "        text-align: right;\n",
              "    }\n",
              "</style>\n",
              "<table border=\"1\" class=\"dataframe\">\n",
              "  <thead>\n",
              "    <tr style=\"text-align: right;\">\n",
              "      <th></th>\n",
              "      <th>id</th>\n",
              "      <th>title</th>\n",
              "      <th>author</th>\n",
              "      <th>text</th>\n",
              "    </tr>\n",
              "  </thead>\n",
              "  <tbody>\n",
              "    <tr>\n",
              "      <th>589</th>\n",
              "      <td>21389</td>\n",
              "      <td>[Vidéo] Que trouve-t-on dans « Le Gorafi de l’...</td>\n",
              "      <td>NaN</td>\n",
              "      <td>NaN</td>\n",
              "    </tr>\n",
              "    <tr>\n",
              "      <th>626</th>\n",
              "      <td>21426</td>\n",
              "      <td>Nous avons comparé les programmes d’Alain Jupp...</td>\n",
              "      <td>NaN</td>\n",
              "      <td>NaN</td>\n",
              "    </tr>\n",
              "    <tr>\n",
              "      <th>978</th>\n",
              "      <td>21778</td>\n",
              "      <td>« J’y crois encore ! » par Alain Juppé en trai...</td>\n",
              "      <td>NaN</td>\n",
              "      <td>NaN</td>\n",
              "    </tr>\n",
              "    <tr>\n",
              "      <th>2257</th>\n",
              "      <td>23057</td>\n",
              "      <td>Horoscope du 14 novembre 2016 &gt;&gt; Le Gorafi</td>\n",
              "      <td>NaN</td>\n",
              "      <td>NaN</td>\n",
              "    </tr>\n",
              "    <tr>\n",
              "      <th>2892</th>\n",
              "      <td>23692</td>\n",
              "      <td>Une fan demande le remboursement de son tatoua...</td>\n",
              "      <td>NaN</td>\n",
              "      <td>NaN</td>\n",
              "    </tr>\n",
              "    <tr>\n",
              "      <th>4736</th>\n",
              "      <td>25536</td>\n",
              "      <td>Révélations – François Fillon serait de droite...</td>\n",
              "      <td>NaN</td>\n",
              "      <td>NaN</td>\n",
              "    </tr>\n",
              "    <tr>\n",
              "      <th>5092</th>\n",
              "      <td>25892</td>\n",
              "      <td>Des traces de vin rouge détectées dans le Beau...</td>\n",
              "      <td>NaN</td>\n",
              "      <td>NaN</td>\n",
              "    </tr>\n",
              "  </tbody>\n",
              "</table>\n",
              "</div>"
            ],
            "text/plain": [
              "         id                                              title author text\n",
              "589   21389  [Vidéo] Que trouve-t-on dans « Le Gorafi de l’...    NaN  NaN\n",
              "626   21426  Nous avons comparé les programmes d’Alain Jupp...    NaN  NaN\n",
              "978   21778  « J’y crois encore ! » par Alain Juppé en trai...    NaN  NaN\n",
              "2257  23057         Horoscope du 14 novembre 2016 >> Le Gorafi    NaN  NaN\n",
              "2892  23692  Une fan demande le remboursement de son tatoua...    NaN  NaN\n",
              "4736  25536  Révélations – François Fillon serait de droite...    NaN  NaN\n",
              "5092  25892  Des traces de vin rouge détectées dans le Beau...    NaN  NaN"
            ]
          },
          "metadata": {
            "tags": []
          },
          "execution_count": 17
        }
      ]
    },
    {
      "cell_type": "code",
      "metadata": {
        "id": "Iq1ic8Jz4tLd"
      },
      "source": [
        "def impute_text(row):\r\n",
        "  return row['title']"
      ],
      "execution_count": 18,
      "outputs": []
    },
    {
      "cell_type": "code",
      "metadata": {
        "id": "NDxU9T9V72cY"
      },
      "source": [
        "train_df['text'].fillna(train_df[train_df['text'].isnull()].apply(impute_text, axis=1), inplace=True)"
      ],
      "execution_count": 19,
      "outputs": []
    },
    {
      "cell_type": "code",
      "metadata": {
        "id": "IN3WKjpR8M5v"
      },
      "source": [
        "test_df['text'].fillna(test_df[test_df['text'].isnull()].apply(impute_text, axis=1), inplace=True)\r\n",
        "\r\n"
      ],
      "execution_count": 20,
      "outputs": []
    },
    {
      "cell_type": "code",
      "metadata": {
        "id": "bvpu_2-r-n3w"
      },
      "source": [
        "stemmer = PorterStemmer()\r\n",
        "ct = CleanText(stop_words, stemmer)\r\n",
        "train_df['clean_text'] = ct.fit_transform(train_df['text'])\r\n",
        "test_df['clean_text'] = ct.transform(test_df['text'])"
      ],
      "execution_count": 21,
      "outputs": []
    },
    {
      "cell_type": "code",
      "metadata": {
        "colab": {
          "base_uri": "https://localhost:8080/",
          "height": 272
        },
        "id": "2oI-KQbSA2qD",
        "outputId": "2632800f-c86a-4cc8-9708-b75a3bbf23ea"
      },
      "source": [
        "train_df.head()"
      ],
      "execution_count": 22,
      "outputs": [
        {
          "output_type": "execute_result",
          "data": {
            "text/html": [
              "<div>\n",
              "<style scoped>\n",
              "    .dataframe tbody tr th:only-of-type {\n",
              "        vertical-align: middle;\n",
              "    }\n",
              "\n",
              "    .dataframe tbody tr th {\n",
              "        vertical-align: top;\n",
              "    }\n",
              "\n",
              "    .dataframe thead th {\n",
              "        text-align: right;\n",
              "    }\n",
              "</style>\n",
              "<table border=\"1\" class=\"dataframe\">\n",
              "  <thead>\n",
              "    <tr style=\"text-align: right;\">\n",
              "      <th></th>\n",
              "      <th>id</th>\n",
              "      <th>title</th>\n",
              "      <th>author</th>\n",
              "      <th>text</th>\n",
              "      <th>label</th>\n",
              "      <th>clean_text</th>\n",
              "    </tr>\n",
              "  </thead>\n",
              "  <tbody>\n",
              "    <tr>\n",
              "      <th>0</th>\n",
              "      <td>0</td>\n",
              "      <td>House Dem Aide: We Didn’t Even See Comey’s Let...</td>\n",
              "      <td>Darrell Lucus</td>\n",
              "      <td>House Dem Aide: We Didn’t Even See Comey’s Let...</td>\n",
              "      <td>1</td>\n",
              "      <td>house dem aide didn even see comey letter unti...</td>\n",
              "    </tr>\n",
              "    <tr>\n",
              "      <th>1</th>\n",
              "      <td>1</td>\n",
              "      <td>FLYNN: Hillary Clinton, Big Woman on Campus - ...</td>\n",
              "      <td>Daniel J. Flynn</td>\n",
              "      <td>Ever get the feeling your life circles the rou...</td>\n",
              "      <td>0</td>\n",
              "      <td>ever get feeling life circles roundabout rathe...</td>\n",
              "    </tr>\n",
              "    <tr>\n",
              "      <th>2</th>\n",
              "      <td>2</td>\n",
              "      <td>Why the Truth Might Get You Fired</td>\n",
              "      <td>Consortiumnews.com</td>\n",
              "      <td>Why the Truth Might Get You Fired October 29, ...</td>\n",
              "      <td>1</td>\n",
              "      <td>why truth might get you fired october the tens...</td>\n",
              "    </tr>\n",
              "    <tr>\n",
              "      <th>3</th>\n",
              "      <td>3</td>\n",
              "      <td>15 Civilians Killed In Single US Airstrike Hav...</td>\n",
              "      <td>Jessica Purkiss</td>\n",
              "      <td>Videos 15 Civilians Killed In Single US Airstr...</td>\n",
              "      <td>1</td>\n",
              "      <td>videos civilians killed single airstrike have ...</td>\n",
              "    </tr>\n",
              "    <tr>\n",
              "      <th>4</th>\n",
              "      <td>4</td>\n",
              "      <td>Iranian woman jailed for fictional unpublished...</td>\n",
              "      <td>Howard Portnoy</td>\n",
              "      <td>Print \\nAn Iranian woman has been sentenced to...</td>\n",
              "      <td>1</td>\n",
              "      <td>print iranian woman sentenced six years prison...</td>\n",
              "    </tr>\n",
              "  </tbody>\n",
              "</table>\n",
              "</div>"
            ],
            "text/plain": [
              "   id  ...                                         clean_text\n",
              "0   0  ...  house dem aide didn even see comey letter unti...\n",
              "1   1  ...  ever get feeling life circles roundabout rathe...\n",
              "2   2  ...  why truth might get you fired october the tens...\n",
              "3   3  ...  videos civilians killed single airstrike have ...\n",
              "4   4  ...  print iranian woman sentenced six years prison...\n",
              "\n",
              "[5 rows x 6 columns]"
            ]
          },
          "metadata": {
            "tags": []
          },
          "execution_count": 22
        }
      ]
    },
    {
      "cell_type": "code",
      "metadata": {
        "id": "JbTMgV028wYi"
      },
      "source": [
        "MAX_TEXT_LEN  = max(max(train_df['clean_text'].map(len)),max(test_df['clean_text'].map(len)))"
      ],
      "execution_count": 23,
      "outputs": []
    },
    {
      "cell_type": "code",
      "metadata": {
        "colab": {
          "base_uri": "https://localhost:8080/"
        },
        "id": "6uTRMN9yB_Tm",
        "outputId": "a2bb40fd-4d61-4a4f-93cf-90769506e557"
      },
      "source": [
        "MAX_TEXT_LEN"
      ],
      "execution_count": 24,
      "outputs": [
        {
          "output_type": "execute_result",
          "data": {
            "text/plain": [
              "126513"
            ]
          },
          "metadata": {
            "tags": []
          },
          "execution_count": 24
        }
      ]
    },
    {
      "cell_type": "code",
      "metadata": {
        "id": "yo0kbLHkCL9m"
      },
      "source": [
        "clean_text= train_df['clean_text'].values"
      ],
      "execution_count": 25,
      "outputs": []
    },
    {
      "cell_type": "code",
      "metadata": {
        "id": "NezfOJafCPuN"
      },
      "source": [
        "tokenizer = Tokenizer(num_words=7000)\r\n",
        "tokenizer.fit_on_texts(clean_text)\r\n",
        "vocab_size = len(tokenizer.word_index) + 1\r\n",
        "encoded_docs = tokenizer.texts_to_sequences(clean_text)\r\n",
        "padded_sequence = pad_sequences(encoded_docs, maxlen=200)"
      ],
      "execution_count": 26,
      "outputs": []
    },
    {
      "cell_type": "code",
      "metadata": {
        "colab": {
          "base_uri": "https://localhost:8080/"
        },
        "id": "2K7BhwGeDJ__",
        "outputId": "7c989cbb-d7f9-456a-ebe1-6cd1a90e58c5"
      },
      "source": [
        "from keras.callbacks import ModelCheckpoint\r\n",
        "model_filename = 'fakenews_best_weights_'+str(int(dt.utcnow().timestamp()*100))+'.hdf5'\r\n",
        "filepath = get_filepath(foldername,filename=model_filename)\r\n",
        "checkpoint = ModelCheckpoint(filepath, monitor='val_accuracy', verbose=1, save_best_only=True, mode='max')\r\n",
        "callbacks_list = [checkpoint]"
      ],
      "execution_count": 27,
      "outputs": [
        {
          "output_type": "stream",
          "text": [
            "Drive already mounted at /content/drive; to attempt to forcibly remount, call drive.mount(\"/content/drive\", force_remount=True).\n"
          ],
          "name": "stdout"
        }
      ]
    },
    {
      "cell_type": "code",
      "metadata": {
        "id": "FAx7L_sbDDoY"
      },
      "source": [
        "vocab_size = 7000"
      ],
      "execution_count": 28,
      "outputs": []
    },
    {
      "cell_type": "code",
      "metadata": {
        "colab": {
          "base_uri": "https://localhost:8080/"
        },
        "id": "QVErnse5DNQg",
        "outputId": "4643fab4-3843-4873-e4d9-3062f388baea"
      },
      "source": [
        "from tensorflow.keras.models import Sequential\r\n",
        "from tensorflow.keras.layers import LSTM,Dense, Dropout,Bidirectional\r\n",
        "from tensorflow.keras.layers import SpatialDropout1D\r\n",
        "from tensorflow.keras.layers import Embedding\r\n",
        "embedding_vector_length = 40\r\n",
        "model = Sequential()\r\n",
        "model.add(Embedding(vocab_size, embedding_vector_length,     \r\n",
        "                                     input_length=200) )\r\n",
        "# model.add(SpatialDropout1D(0.25))\r\n",
        "#model.add(LSTM(12, dropout=0.25, recurrent_dropout=0.25))\r\n",
        "model.add(Bidirectional(LSTM(100,dropout=0.3,recurrent_dropout=0.3)))\r\n",
        "model.add(Dropout(0.3))\r\n",
        "\r\n",
        "model.add(Dense(1, activation='sigmoid'))\r\n",
        "model.compile(loss='binary_crossentropy',optimizer='adam', \r\n",
        "                           metrics=['accuracy'])\r\n",
        "print(model.summary())"
      ],
      "execution_count": 29,
      "outputs": [
        {
          "output_type": "stream",
          "text": [
            "Model: \"sequential\"\n",
            "_________________________________________________________________\n",
            "Layer (type)                 Output Shape              Param #   \n",
            "=================================================================\n",
            "embedding (Embedding)        (None, 200, 40)           280000    \n",
            "_________________________________________________________________\n",
            "bidirectional (Bidirectional (None, 200)               112800    \n",
            "_________________________________________________________________\n",
            "dropout (Dropout)            (None, 200)               0         \n",
            "_________________________________________________________________\n",
            "dense (Dense)                (None, 1)                 201       \n",
            "=================================================================\n",
            "Total params: 393,001\n",
            "Trainable params: 393,001\n",
            "Non-trainable params: 0\n",
            "_________________________________________________________________\n",
            "None\n"
          ],
          "name": "stdout"
        }
      ]
    },
    {
      "cell_type": "code",
      "metadata": {
        "colab": {
          "base_uri": "https://localhost:8080/"
        },
        "id": "Vg1e1iIFDddW",
        "outputId": "173c5981-37f2-4d94-a069-b86d2f8f789a"
      },
      "source": [
        "model_history = model.fit(padded_sequence,train_df['label'].values,\r\n",
        "                  validation_split=0.25, epochs=10, batch_size=64,callbacks=callbacks_list)"
      ],
      "execution_count": 30,
      "outputs": [
        {
          "output_type": "stream",
          "text": [
            "Epoch 1/10\n",
            "244/244 [==============================] - 244s 979ms/step - loss: 0.4858 - accuracy: 0.7452 - val_loss: 0.1998 - val_accuracy: 0.9256\n",
            "\n",
            "Epoch 00001: val_accuracy improved from -inf to 0.92558, saving model to /content/drive/My Drive/datasets/fake-news/fakenews_best_weights_161090438705.hdf5\n",
            "Epoch 2/10\n",
            "244/244 [==============================] - 237s 973ms/step - loss: 0.1420 - accuracy: 0.9492 - val_loss: 0.1861 - val_accuracy: 0.9308\n",
            "\n",
            "Epoch 00002: val_accuracy improved from 0.92558 to 0.93077, saving model to /content/drive/My Drive/datasets/fake-news/fakenews_best_weights_161090438705.hdf5\n",
            "Epoch 3/10\n",
            "244/244 [==============================] - 239s 980ms/step - loss: 0.0900 - accuracy: 0.9715 - val_loss: 0.1982 - val_accuracy: 0.9352\n",
            "\n",
            "Epoch 00003: val_accuracy improved from 0.93077 to 0.93519, saving model to /content/drive/My Drive/datasets/fake-news/fakenews_best_weights_161090438705.hdf5\n",
            "Epoch 4/10\n",
            "244/244 [==============================] - 238s 975ms/step - loss: 0.0577 - accuracy: 0.9827 - val_loss: 0.2244 - val_accuracy: 0.9308\n",
            "\n",
            "Epoch 00004: val_accuracy did not improve from 0.93519\n",
            "Epoch 5/10\n",
            "244/244 [==============================] - 236s 968ms/step - loss: 0.0494 - accuracy: 0.9856 - val_loss: 0.1993 - val_accuracy: 0.9340\n",
            "\n",
            "Epoch 00005: val_accuracy did not improve from 0.93519\n",
            "Epoch 6/10\n",
            "244/244 [==============================] - 238s 976ms/step - loss: 0.0394 - accuracy: 0.9878 - val_loss: 0.2148 - val_accuracy: 0.9302\n",
            "\n",
            "Epoch 00006: val_accuracy did not improve from 0.93519\n",
            "Epoch 7/10\n",
            "244/244 [==============================] - 236s 967ms/step - loss: 0.0377 - accuracy: 0.9874 - val_loss: 0.2175 - val_accuracy: 0.9225\n",
            "\n",
            "Epoch 00007: val_accuracy did not improve from 0.93519\n",
            "Epoch 8/10\n",
            "244/244 [==============================] - 238s 977ms/step - loss: 0.0266 - accuracy: 0.9924 - val_loss: 0.3377 - val_accuracy: 0.9283\n",
            "\n",
            "Epoch 00008: val_accuracy did not improve from 0.93519\n",
            "Epoch 9/10\n",
            "244/244 [==============================] - 238s 975ms/step - loss: 0.0162 - accuracy: 0.9960 - val_loss: 0.2742 - val_accuracy: 0.9387\n",
            "\n",
            "Epoch 00009: val_accuracy improved from 0.93519 to 0.93865, saving model to /content/drive/My Drive/datasets/fake-news/fakenews_best_weights_161090438705.hdf5\n",
            "Epoch 10/10\n",
            "244/244 [==============================] - 237s 972ms/step - loss: 0.0093 - accuracy: 0.9972 - val_loss: 0.2811 - val_accuracy: 0.9390\n",
            "\n",
            "Epoch 00010: val_accuracy improved from 0.93865 to 0.93904, saving model to /content/drive/My Drive/datasets/fake-news/fakenews_best_weights_161090438705.hdf5\n"
          ],
          "name": "stdout"
        }
      ]
    },
    {
      "cell_type": "code",
      "metadata": {
        "colab": {
          "base_uri": "https://localhost:8080/",
          "height": 309
        },
        "id": "a-VWufHUFkc0",
        "outputId": "9f1b000e-3241-4483-812b-c1fcff18e94c"
      },
      "source": [
        "plt.plot(model_history.history['loss'])\r\n",
        "plt.plot(model_history.history['val_loss'])\r\n",
        "plt.title('model loss')\r\n",
        "plt.ylabel('loss')\r\n",
        "plt.xlabel('epoch')\r\n",
        "plt.legend(['train', 'validation'], loc='upper left')\r\n",
        "plt.show()"
      ],
      "execution_count": 31,
      "outputs": [
        {
          "output_type": "display_data",
          "data": {
            "image/png": "[encoded data removed]",
            "text/plain": [
              "<Figure size 432x288 with 1 Axes>"
            ]
          },
          "metadata": {
            "tags": []
          }
        }
      ]
    },
    {
      "cell_type": "code",
      "metadata": {
        "colab": {
          "base_uri": "https://localhost:8080/",
          "height": 309
        },
        "id": "VB3LRMMTFmaL",
        "outputId": "6432c9b1-c33a-4ce3-9f8d-e96e4256d915"
      },
      "source": [
        "plt.plot(model_history.history['accuracy'])\r\n",
        "plt.plot(model_history.history['val_accuracy'])\r\n",
        "plt.title('model accuracy')\r\n",
        "plt.ylabel('accuracy')\r\n",
        "plt.xlabel('epoch')\r\n",
        "plt.legend(['train', 'validation'], loc='upper right')\r\n",
        "plt.show()"
      ],
      "execution_count": 32,
      "outputs": [
        {
          "output_type": "display_data",
          "data": {
            "image/png": "[encoded data removed]",
            "text/plain": [
              "<Figure size 432x288 with 1 Axes>"
            ]
          },
          "metadata": {
            "tags": []
          }
        }
      ]
    },
    {
      "cell_type": "code",
      "metadata": {
        "id": "oiI_eCOiFpwD"
      },
      "source": [
        "model.load_weights(filepath)"
      ],
      "execution_count": 33,
      "outputs": []
    },
    {
      "cell_type": "code",
      "metadata": {
        "id": "EryZMf1qFuXG"
      },
      "source": [
        "test_text = test_df['clean_text'].values\r\n",
        "encoded_docs = tokenizer.texts_to_sequences(test_text)\r\n",
        "padded_sequence = pad_sequences(encoded_docs, maxlen=200)"
      ],
      "execution_count": 34,
      "outputs": []
    },
    {
      "cell_type": "code",
      "metadata": {
        "colab": {
          "base_uri": "https://localhost:8080/"
        },
        "id": "Lm8vWuxYSEN-",
        "outputId": "0ec99fcd-b9c8-4cac-b817-cdb3b61ce34f"
      },
      "source": [
        "y_pred = model.predict_classes(padded_sequence)"
      ],
      "execution_count": 35,
      "outputs": [
        {
          "output_type": "stream",
          "text": [
            "/usr/local/lib/python3.6/dist-packages/tensorflow/python/keras/engine/sequential.py:450: UserWarning: `model.predict_classes()` is deprecated and will be removed after 2021-01-01. Please use instead:* `np.argmax(model.predict(x), axis=-1)`,   if your model does multi-class classification   (e.g. if it uses a `softmax` last-layer activation).* `(model.predict(x) > 0.5).astype(\"int32\")`,   if your model does binary classification   (e.g. if it uses a `sigmoid` last-layer activation).\n",
            "  warnings.warn('`model.predict_classes()` is deprecated and '\n"
          ],
          "name": "stderr"
        }
      ]
    },
    {
      "cell_type": "code",
      "metadata": {
        "id": "pEwsEDVTSIl_"
      },
      "source": [
        "y_pred =y_pred.flatten()"
      ],
      "execution_count": 36,
      "outputs": []
    },
    {
      "cell_type": "code",
      "metadata": {
        "id": "-6sNEyCMSWjR"
      },
      "source": [
        "submission_df = pd.DataFrame(test_df['id'])"
      ],
      "execution_count": 37,
      "outputs": []
    },
    {
      "cell_type": "code",
      "metadata": {
        "id": "vv3tOrGcSY2N"
      },
      "source": [
        "submission_df['label'] =y_pred"
      ],
      "execution_count": 38,
      "outputs": []
    },
    {
      "cell_type": "code",
      "metadata": {
        "colab": {
          "base_uri": "https://localhost:8080/",
          "height": 35
        },
        "id": "Vcn8vSgCSfBz",
        "outputId": "42eab6ff-0071-4d95-fbe0-af69aa4e529a"
      },
      "source": [
        "filename  = 'submission_text_'+str(int(dt.utcnow().timestamp()*100)) +'.csv' \r\n",
        "filename"
      ],
      "execution_count": 39,
      "outputs": [
        {
          "output_type": "execute_result",
          "data": {
            "application/vnd.google.colaboratory.intrinsic+json": {
              "type": "string"
            },
            "text/plain": [
              "'submission_text_161090678699.csv'"
            ]
          },
          "metadata": {
            "tags": []
          },
          "execution_count": 39
        }
      ]
    },
    {
      "cell_type": "code",
      "metadata": {
        "colab": {
          "base_uri": "https://localhost:8080/"
        },
        "id": "bfDcY7KoSjEF",
        "outputId": "1a9a6e06-3cce-4153-b25f-eaeb3ec85b80"
      },
      "source": [
        "submission_file = get_filepath(foldername,filename=filename)"
      ],
      "execution_count": 40,
      "outputs": [
        {
          "output_type": "stream",
          "text": [
            "Drive already mounted at /content/drive; to attempt to forcibly remount, call drive.mount(\"/content/drive\", force_remount=True).\n"
          ],
          "name": "stdout"
        }
      ]
    },
    {
      "cell_type": "code",
      "metadata": {
        "id": "O6gZpi-tSjm_"
      },
      "source": [
        "submission_df.to_csv(submission_file,index=False)"
      ],
      "execution_count": 41,
      "outputs": []
    }
  ]
}