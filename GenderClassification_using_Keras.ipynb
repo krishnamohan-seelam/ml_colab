{
  "nbformat": 4,
  "nbformat_minor": 0,
  "metadata": {
    "accelerator": "GPU",
    "colab": {
      "name": " GenderClassification_usingFlow_90.ipynb",
      "provenance": [],
      "collapsed_sections": [],
      "authorship_tag": "ABX9TyMd00JEMcKWxEJIRM8bgbF1"
    },
    "kernelspec": {
      "display_name": "Python 3",
      "name": "python3"
    }
  },
  "cells": [
    {
      "cell_type": "code",
      "metadata": {
        "id": "VtumWPsoEG8J"
      },
      "source": [
        "try:\n",
        "    import google.colab\n",
        "    IN_COLAB = True\n",
        "except:\n",
        "    IN_COLAB = False"
      ],
      "execution_count": null,
      "outputs": []
    },
    {
      "cell_type": "code",
      "metadata": {
        "colab": {
          "base_uri": "https://localhost:8080/"
        },
        "id": "CeuA8sjzKXMc",
        "outputId": "8cfd21c9-2b8b-4e43-f381-4a40f25bbd38"
      },
      "source": [
        "if IN_COLAB:\n",
        "  # Uninstall tensorflow first\n",
        "  !pip uninstall tensorflow -y\n",
        "  # Install tensorflow-gpu (stable version)\n",
        "  !pip install tensorflow-gpu  # stable\n",
        "\n",
        "  import tensorflow as tf\n",
        "  # Check version\n",
        "  print(tf.__version__)\n",
        "\n",
        "  from tensorflow.python.client import device_lib\n",
        "  device_lib.list_local_devices()"
      ],
      "execution_count": null,
      "outputs": [
        {
          "output_type": "stream",
          "text": [
            "\u001b[33mWARNING: Skipping tensorflow as it is not installed.\u001b[0m\n",
            "Requirement already satisfied: tensorflow-gpu in /usr/local/lib/python3.6/dist-packages (2.3.1)\n",
            "Requirement already satisfied: protobuf>=3.9.2 in /usr/local/lib/python3.6/dist-packages (from tensorflow-gpu) (3.12.4)\n",
            "Requirement already satisfied: tensorflow-estimator<2.4.0,>=2.3.0 in /usr/local/lib/python3.6/dist-packages (from tensorflow-gpu) (2.3.0)\n",
            "Requirement already satisfied: tensorboard<3,>=2.3.0 in /usr/local/lib/python3.6/dist-packages (from tensorflow-gpu) (2.3.0)\n",
            "Requirement already satisfied: grpcio>=1.8.6 in /usr/local/lib/python3.6/dist-packages (from tensorflow-gpu) (1.33.2)\n",
            "Requirement already satisfied: opt-einsum>=2.3.2 in /usr/local/lib/python3.6/dist-packages (from tensorflow-gpu) (3.3.0)\n",
            "Requirement already satisfied: wrapt>=1.11.1 in /usr/local/lib/python3.6/dist-packages (from tensorflow-gpu) (1.12.1)\n",
            "Requirement already satisfied: absl-py>=0.7.0 in /usr/local/lib/python3.6/dist-packages (from tensorflow-gpu) (0.10.0)\n",
            "Requirement already satisfied: gast==0.3.3 in /usr/local/lib/python3.6/dist-packages (from tensorflow-gpu) (0.3.3)\n",
            "Requirement already satisfied: termcolor>=1.1.0 in /usr/local/lib/python3.6/dist-packages (from tensorflow-gpu) (1.1.0)\n",
            "Requirement already satisfied: h5py<2.11.0,>=2.10.0 in /usr/local/lib/python3.6/dist-packages (from tensorflow-gpu) (2.10.0)\n",
            "Requirement already satisfied: numpy<1.19.0,>=1.16.0 in /usr/local/lib/python3.6/dist-packages (from tensorflow-gpu) (1.18.5)\n",
            "Requirement already satisfied: google-pasta>=0.1.8 in /usr/local/lib/python3.6/dist-packages (from tensorflow-gpu) (0.2.0)\n",
            "Requirement already satisfied: astunparse==1.6.3 in /usr/local/lib/python3.6/dist-packages (from tensorflow-gpu) (1.6.3)\n",
            "Requirement already satisfied: keras-preprocessing<1.2,>=1.1.1 in /usr/local/lib/python3.6/dist-packages (from tensorflow-gpu) (1.1.2)\n",
            "Requirement already satisfied: wheel>=0.26 in /usr/local/lib/python3.6/dist-packages (from tensorflow-gpu) (0.35.1)\n",
            "Requirement already satisfied: six>=1.12.0 in /usr/local/lib/python3.6/dist-packages (from tensorflow-gpu) (1.15.0)\n",
            "Requirement already satisfied: setuptools in /usr/local/lib/python3.6/dist-packages (from protobuf>=3.9.2->tensorflow-gpu) (50.3.2)\n",
            "Requirement already satisfied: tensorboard-plugin-wit>=1.6.0 in /usr/local/lib/python3.6/dist-packages (from tensorboard<3,>=2.3.0->tensorflow-gpu) (1.7.0)\n",
            "Requirement already satisfied: werkzeug>=0.11.15 in /usr/local/lib/python3.6/dist-packages (from tensorboard<3,>=2.3.0->tensorflow-gpu) (1.0.1)\n",
            "Requirement already satisfied: google-auth-oauthlib<0.5,>=0.4.1 in /usr/local/lib/python3.6/dist-packages (from tensorboard<3,>=2.3.0->tensorflow-gpu) (0.4.2)\n",
            "Requirement already satisfied: requests<3,>=2.21.0 in /usr/local/lib/python3.6/dist-packages (from tensorboard<3,>=2.3.0->tensorflow-gpu) (2.23.0)\n",
            "Requirement already satisfied: markdown>=2.6.8 in /usr/local/lib/python3.6/dist-packages (from tensorboard<3,>=2.3.0->tensorflow-gpu) (3.3.3)\n",
            "Requirement already satisfied: google-auth<2,>=1.6.3 in /usr/local/lib/python3.6/dist-packages (from tensorboard<3,>=2.3.0->tensorflow-gpu) (1.17.2)\n",
            "Requirement already satisfied: requests-oauthlib>=0.7.0 in /usr/local/lib/python3.6/dist-packages (from google-auth-oauthlib<0.5,>=0.4.1->tensorboard<3,>=2.3.0->tensorflow-gpu) (1.3.0)\n",
            "Requirement already satisfied: urllib3!=1.25.0,!=1.25.1,<1.26,>=1.21.1 in /usr/local/lib/python3.6/dist-packages (from requests<3,>=2.21.0->tensorboard<3,>=2.3.0->tensorflow-gpu) (1.24.3)\n",
            "Requirement already satisfied: certifi>=2017.4.17 in /usr/local/lib/python3.6/dist-packages (from requests<3,>=2.21.0->tensorboard<3,>=2.3.0->tensorflow-gpu) (2020.11.8)\n",
            "Requirement already satisfied: idna<3,>=2.5 in /usr/local/lib/python3.6/dist-packages (from requests<3,>=2.21.0->tensorboard<3,>=2.3.0->tensorflow-gpu) (2.10)\n",
            "Requirement already satisfied: chardet<4,>=3.0.2 in /usr/local/lib/python3.6/dist-packages (from requests<3,>=2.21.0->tensorboard<3,>=2.3.0->tensorflow-gpu) (3.0.4)\n",
            "Requirement already satisfied: importlib-metadata; python_version < \"3.8\" in /usr/local/lib/python3.6/dist-packages (from markdown>=2.6.8->tensorboard<3,>=2.3.0->tensorflow-gpu) (2.0.0)\n",
            "Requirement already satisfied: pyasn1-modules>=0.2.1 in /usr/local/lib/python3.6/dist-packages (from google-auth<2,>=1.6.3->tensorboard<3,>=2.3.0->tensorflow-gpu) (0.2.8)\n",
            "Requirement already satisfied: rsa<5,>=3.1.4; python_version >= \"3\" in /usr/local/lib/python3.6/dist-packages (from google-auth<2,>=1.6.3->tensorboard<3,>=2.3.0->tensorflow-gpu) (4.6)\n",
            "Requirement already satisfied: cachetools<5.0,>=2.0.0 in /usr/local/lib/python3.6/dist-packages (from google-auth<2,>=1.6.3->tensorboard<3,>=2.3.0->tensorflow-gpu) (4.1.1)\n",
            "Requirement already satisfied: oauthlib>=3.0.0 in /usr/local/lib/python3.6/dist-packages (from requests-oauthlib>=0.7.0->google-auth-oauthlib<0.5,>=0.4.1->tensorboard<3,>=2.3.0->tensorflow-gpu) (3.1.0)\n",
            "Requirement already satisfied: zipp>=0.5 in /usr/local/lib/python3.6/dist-packages (from importlib-metadata; python_version < \"3.8\"->markdown>=2.6.8->tensorboard<3,>=2.3.0->tensorflow-gpu) (3.4.0)\n",
            "Requirement already satisfied: pyasn1<0.5.0,>=0.4.6 in /usr/local/lib/python3.6/dist-packages (from pyasn1-modules>=0.2.1->google-auth<2,>=1.6.3->tensorboard<3,>=2.3.0->tensorflow-gpu) (0.4.8)\n",
            "2.3.1\n"
          ],
          "name": "stdout"
        }
      ]
    },
    {
      "cell_type": "code",
      "metadata": {
        "id": "wE2CU3EHEVzJ"
      },
      "source": [
        "import numpy as np\n",
        "import pandas as pd\n",
        "import seaborn as sns\n",
        "from pathlib import Path\n",
        "from matplotlib import pyplot as plt"
      ],
      "execution_count": null,
      "outputs": []
    },
    {
      "cell_type": "code",
      "metadata": {
        "id": "WNMV4KkeEZYi"
      },
      "source": [
        "%matplotlib inline"
      ],
      "execution_count": null,
      "outputs": []
    },
    {
      "cell_type": "code",
      "metadata": {
        "id": "96FQdAP1EbWb"
      },
      "source": [
        "%load_ext autoreload\n",
        "%autoreload 2"
      ],
      "execution_count": null,
      "outputs": []
    },
    {
      "cell_type": "code",
      "metadata": {
        "id": "x1EOh6_REfVM"
      },
      "source": [
        "def get_filepath(foldername,filename):\n",
        "  \n",
        "  if IN_COLAB:\n",
        "      from google.colab import drive\n",
        "      drive.mount('/content/drive')\n",
        "      data_path = 'drive/My Drive/datasets/{foldername}/{filename}'\n",
        "      source_path = Path.cwd()\n",
        "      return source_path.joinpath(data_path.format(foldername=foldername,filename=filename))\n",
        "  else:\n",
        "      data_path='{filename}'\n",
        "      source_path =Path.cwd().joinpath('datasource')\n",
        "      return source_path.joinpath(data_path.format(filename=filename))"
      ],
      "execution_count": null,
      "outputs": []
    },
    {
      "cell_type": "code",
      "metadata": {
        "colab": {
          "base_uri": "https://localhost:8080/"
        },
        "id": "ZQx1DOz_EjSx",
        "outputId": "9c1951f6-d80a-491f-b1e3-f36e85e8b0b4"
      },
      "source": [
        "\n",
        "\n",
        "\n",
        "foldername = 'gender'\n",
        "train_file = get_filepath(foldername,'train.csv')\n",
        "test_file  = get_filepath(foldername,'test.csv')"
      ],
      "execution_count": null,
      "outputs": [
        {
          "output_type": "stream",
          "text": [
            "Drive already mounted at /content/drive; to attempt to forcibly remount, call drive.mount(\"/content/drive\", force_remount=True).\n",
            "Drive already mounted at /content/drive; to attempt to forcibly remount, call drive.mount(\"/content/drive\", force_remount=True).\n"
          ],
          "name": "stdout"
        }
      ]
    },
    {
      "cell_type": "code",
      "metadata": {
        "id": "QybAW40UMUZk"
      },
      "source": [
        "train_df = pd.read_csv(train_file)"
      ],
      "execution_count": null,
      "outputs": []
    },
    {
      "cell_type": "code",
      "metadata": {
        "id": "iPRiGEirMglp"
      },
      "source": [
        "test_df = pd.read_csv(test_file)"
      ],
      "execution_count": null,
      "outputs": []
    },
    {
      "cell_type": "code",
      "metadata": {
        "colab": {
          "base_uri": "https://localhost:8080/"
        },
        "id": "da_u46zhM6-h",
        "outputId": "e0cd5674-dac1-4953-9531-bf13957a9871"
      },
      "source": [
        "image_path = train_file.parent.joinpath('images')\n",
        "image_path"
      ],
      "execution_count": null,
      "outputs": [
        {
          "output_type": "execute_result",
          "data": {
            "text/plain": [
              "PosixPath('/content/drive/My Drive/datasets/gender/images')"
            ]
          },
          "metadata": {
            "tags": []
          },
          "execution_count": 10
        }
      ]
    },
    {
      "cell_type": "code",
      "metadata": {
        "colab": {
          "base_uri": "https://localhost:8080/",
          "height": 198
        },
        "id": "afBKK80pMzVW",
        "outputId": "f6b2868a-84f6-4918-ea19-80cde25da449"
      },
      "source": [
        "train_df.head()"
      ],
      "execution_count": null,
      "outputs": [
        {
          "output_type": "execute_result",
          "data": {
            "text/html": [
              "<div>\n",
              "<style scoped>\n",
              "    .dataframe tbody tr th:only-of-type {\n",
              "        vertical-align: middle;\n",
              "    }\n",
              "\n",
              "    .dataframe tbody tr th {\n",
              "        vertical-align: top;\n",
              "    }\n",
              "\n",
              "    .dataframe thead th {\n",
              "        text-align: right;\n",
              "    }\n",
              "</style>\n",
              "<table border=\"1\" class=\"dataframe\">\n",
              "  <thead>\n",
              "    <tr style=\"text-align: right;\">\n",
              "      <th></th>\n",
              "      <th>image_names</th>\n",
              "      <th>class</th>\n",
              "    </tr>\n",
              "  </thead>\n",
              "  <tbody>\n",
              "    <tr>\n",
              "      <th>0</th>\n",
              "      <td>11413.jpg</td>\n",
              "      <td>1</td>\n",
              "    </tr>\n",
              "    <tr>\n",
              "      <th>1</th>\n",
              "      <td>9863.jpg</td>\n",
              "      <td>1</td>\n",
              "    </tr>\n",
              "    <tr>\n",
              "      <th>2</th>\n",
              "      <td>997.jpg</td>\n",
              "      <td>0</td>\n",
              "    </tr>\n",
              "    <tr>\n",
              "      <th>3</th>\n",
              "      <td>5950.jpg</td>\n",
              "      <td>0</td>\n",
              "    </tr>\n",
              "    <tr>\n",
              "      <th>4</th>\n",
              "      <td>10454.jpg</td>\n",
              "      <td>1</td>\n",
              "    </tr>\n",
              "  </tbody>\n",
              "</table>\n",
              "</div>"
            ],
            "text/plain": [
              "  image_names  class\n",
              "0   11413.jpg      1\n",
              "1    9863.jpg      1\n",
              "2     997.jpg      0\n",
              "3    5950.jpg      0\n",
              "4   10454.jpg      1"
            ]
          },
          "metadata": {
            "tags": []
          },
          "execution_count": 11
        }
      ]
    },
    {
      "cell_type": "code",
      "metadata": {
        "colab": {
          "base_uri": "https://localhost:8080/"
        },
        "id": "OMc9yp7CM2Gb",
        "outputId": "d293975a-3169-4659-eb76-5c14af8f177b"
      },
      "source": [
        "train_df['class'].value_counts()"
      ],
      "execution_count": null,
      "outputs": [
        {
          "output_type": "execute_result",
          "data": {
            "text/plain": [
              "1    6174\n",
              "0    6022\n",
              "Name: class, dtype: int64"
            ]
          },
          "metadata": {
            "tags": []
          },
          "execution_count": 12
        }
      ]
    },
    {
      "cell_type": "code",
      "metadata": {
        "id": "GqEz56ATHS9Q"
      },
      "source": [
        "train_df['class'] = train_df['class'].map({1: 'Male', 0: 'Female'})"
      ],
      "execution_count": null,
      "outputs": []
    },
    {
      "cell_type": "code",
      "metadata": {
        "colab": {
          "base_uri": "https://localhost:8080/"
        },
        "id": "Z49qYJaXK22k",
        "outputId": "004afcc8-da6d-4860-b38c-7ba65495ee07"
      },
      "source": [
        "train_df['class'].value_counts()"
      ],
      "execution_count": null,
      "outputs": [
        {
          "output_type": "execute_result",
          "data": {
            "text/plain": [
              "Male      6174\n",
              "Female    6022\n",
              "Name: class, dtype: int64"
            ]
          },
          "metadata": {
            "tags": []
          },
          "execution_count": 14
        }
      ]
    },
    {
      "cell_type": "code",
      "metadata": {
        "id": "zxdzgaxMNn6N"
      },
      "source": [
        "def get_images(df):\n",
        "  X = []\n",
        "# iterating over each image\n",
        "  for img_name in df.image_names:\n",
        "      # loading the image using its name\n",
        "      img = plt.imread(str(image_path)+'/'+img_name)\n",
        "      # saving each image in the list\n",
        "      # img = img/255\n",
        "      X.append(img)\n",
        "    \n",
        "# converting the list of images into array\n",
        "  X=np.array(X)\n",
        "  return X"
      ],
      "execution_count": null,
      "outputs": []
    },
    {
      "cell_type": "code",
      "metadata": {
        "id": "UnrCYWdk_DNX"
      },
      "source": [
        "from keras.preprocessing.image import ImageDataGenerator\n",
        "train_datagen = ImageDataGenerator(rescale=1/255.0,validation_split =0.33,)"
      ],
      "execution_count": null,
      "outputs": []
    },
    {
      "cell_type": "code",
      "metadata": {
        "colab": {
          "base_uri": "https://localhost:8080/"
        },
        "id": "IkJP_n1_9lJq",
        "outputId": "a21a18bd-6fd4-4b2b-a0b5-23f2aae8405f"
      },
      "source": [
        "train_generator = train_datagen.flow_from_dataframe(dataframe=train_df, \n",
        "                                              directory=str(image_path)+'/',\n",
        "                                              x_col=\"image_names\", \n",
        "                                              y_col=\"class\", \n",
        "                                              class_mode=\"binary\", \n",
        "                                              target_size=(96, 96), \n",
        "                                              subset=\"training\",\n",
        "                                              batch_size =512,\n",
        "                                              seed=42)"
      ],
      "execution_count": null,
      "outputs": [
        {
          "output_type": "stream",
          "text": [
            "Found 8172 validated image filenames belonging to 2 classes.\n"
          ],
          "name": "stdout"
        }
      ]
    },
    {
      "cell_type": "code",
      "metadata": {
        "colab": {
          "base_uri": "https://localhost:8080/"
        },
        "id": "_85PPa-kBruA",
        "outputId": "a7bc0e1d-06e0-40f0-ac06-c380182dc387"
      },
      "source": [
        "valid_generator = train_datagen.flow_from_dataframe(dataframe=train_df, \n",
        "                                              directory=str(image_path)+'/',\n",
        "                                              x_col=\"image_names\", \n",
        "                                              y_col=\"class\", \n",
        "                                              class_mode=\"binary\", \n",
        "                                              target_size=(96, 96), \n",
        "                                              subset=\"validation\",\n",
        "                                              batch_size =512,\n",
        "                                              seed=42)"
      ],
      "execution_count": null,
      "outputs": [
        {
          "output_type": "stream",
          "text": [
            "Found 4024 validated image filenames belonging to 2 classes.\n"
          ],
          "name": "stdout"
        }
      ]
    },
    {
      "cell_type": "code",
      "metadata": {
        "id": "IgDXdM3_CSrb"
      },
      "source": [
        "STEP_SIZE_TRAIN = train_generator.n//train_generator.batch_size\n",
        "STEP_SIZE_VALID = valid_generator.n//valid_generator.batch_size\n"
      ],
      "execution_count": null,
      "outputs": []
    },
    {
      "cell_type": "code",
      "metadata": {
        "colab": {
          "base_uri": "https://localhost:8080/"
        },
        "id": "OlJ69qNOm1Xt",
        "outputId": "5afadd43-ca37-4359-befe-c8eca27506b8"
      },
      "source": [
        "STEP_SIZE_TRAIN"
      ],
      "execution_count": null,
      "outputs": [
        {
          "output_type": "execute_result",
          "data": {
            "text/plain": [
              "15"
            ]
          },
          "metadata": {
            "tags": []
          },
          "execution_count": 22
        }
      ]
    },
    {
      "cell_type": "code",
      "metadata": {
        "colab": {
          "base_uri": "https://localhost:8080/"
        },
        "id": "uExMViMVm3Ej",
        "outputId": "143a09f8-df52-4af4-bc50-3dffcdd3a62e"
      },
      "source": [
        "STEP_SIZE_VALID"
      ],
      "execution_count": null,
      "outputs": [
        {
          "output_type": "execute_result",
          "data": {
            "text/plain": [
              "7"
            ]
          },
          "metadata": {
            "tags": []
          },
          "execution_count": 23
        }
      ]
    },
    {
      "cell_type": "code",
      "metadata": {
        "id": "2wdahqI7OBLR"
      },
      "source": [
        "y = train_df['class'].values"
      ],
      "execution_count": null,
      "outputs": []
    },
    {
      "cell_type": "code",
      "metadata": {
        "id": "kxJchlRtd9aA"
      },
      "source": [
        "from keras.layers import Dense, InputLayer, BatchNormalization, Dropout,GlobalAveragePooling2D\n",
        "from keras.models import Sequential\n",
        "# importing adam optimizer from keras optimizer module \n",
        "from keras.optimizers import Adam\n",
        "\n",
        "# train_test_split to create training and validation set\n",
        "from sklearn.model_selection import train_test_split\n",
        "# accuracy_score to calculate the accuracy of predictions\n",
        "from sklearn.metrics import accuracy_score"
      ],
      "execution_count": null,
      "outputs": []
    },
    {
      "cell_type": "code",
      "metadata": {
        "id": "uX5BZ8DiyYzH"
      },
      "source": [
        "from keras.layers import Conv2D, Flatten\n",
        "from keras.layers import MaxPool2D\n",
        "from keras.optimizers import Adam"
      ],
      "execution_count": null,
      "outputs": []
    },
    {
      "cell_type": "code",
      "metadata": {
        "id": "EkEOEciEbwFI"
      },
      "source": [
        "# defining the model architecture\n",
        "\n",
        "# creating a sequential model \n",
        "model = Sequential()\n",
        "    \n",
        "# defining input layer with 3D input of shape (224,224,3)\n",
        "model.add(InputLayer(input_shape=(96, 96, 3)))\n",
        "\n",
        "# defining the first convolutional layer with 25 filters of size (5,5)\n",
        "model.add(Conv2D(32, (3, 3), activation='relu', strides=(1, 1), padding='same'))\n",
        "# adding maxpool layer after the convolutional layers\n",
        "model.add(MaxPool2D(pool_size=(2, 2), padding='same'))\n",
        "\n",
        "\n",
        "# defining the second convolutional layer with 50 filters of size (5,5)\n",
        "model.add(Conv2D(48, (3,3), activation='relu', strides=(1, 1), padding='same'))\n",
        "# adding maxpool layer after the convolutional layers\n",
        "model.add(MaxPool2D(pool_size=(2, 2), padding='same'))\n",
        "\n",
        "model.add(Conv2D(64, (3,3), activation='relu', strides=(1, 1), padding='same'))\n",
        "# adding maxpool layer after the convolutional layers\n",
        "model.add(MaxPool2D(pool_size=(3,3), padding='same'))\n",
        "\n",
        "# # defining the second convolutional layer with 50 filters of size (5,5)\n",
        "model.add(Conv2D(64, (5, 5), activation='relu', strides=(1, 1), padding='same'))\n",
        "# adding maxpool layer after the convolutional layers\n",
        "model.add(MaxPool2D(pool_size=(2, 2), padding='same'))\n",
        "\n",
        "model.add(Conv2D(128, (3, 3), activation='relu', strides=(1, 1), padding='same'))\n",
        "# adding maxpool layer after the convolutional layers\n",
        "model.add(MaxPool2D(pool_size=(2, 2), padding='same'))\n",
        "\n",
        "model.add(Conv2D(256, (3, 3), activation='relu', strides=(1, 1), padding='same'))\n",
        "model.add(GlobalAveragePooling2D())\n",
        "\n",
        "# flattening the output from convolutional layers so that it can be forwarded to the dense layers\n",
        "model.add(Flatten())\n",
        "\n",
        "#model.add(Dense(units=512, activation='relu'))\n",
        " \n",
        "#model.add(Dropout(rate=0.5))\n",
        "# defining the first dense or fully connected layer with 100 neurons\n",
        "model.add(Dense(units=100, activation='relu'))\n",
        "model.add(BatchNormalization())\n",
        "# model.add(Dropout(rate=0.5))\n",
        "# defining the output layer with 1 neuron since it is a binary classification problem\n",
        "model.add(Dense(units=1, activation='sigmoid'))"
      ],
      "execution_count": null,
      "outputs": []
    },
    {
      "cell_type": "code",
      "metadata": {
        "colab": {
          "base_uri": "https://localhost:8080/"
        },
        "id": "cfNkXULi068E",
        "outputId": "ed46fd6d-3ace-4ad8-8d0a-77cbf774a64d"
      },
      "source": [
        "model.summary()"
      ],
      "execution_count": null,
      "outputs": [
        {
          "output_type": "stream",
          "text": [
            "Model: \"sequential\"\n",
            "_________________________________________________________________\n",
            "Layer (type)                 Output Shape              Param #   \n",
            "=================================================================\n",
            "conv2d (Conv2D)              (None, 96, 96, 32)        896       \n",
            "_________________________________________________________________\n",
            "max_pooling2d (MaxPooling2D) (None, 48, 48, 32)        0         \n",
            "_________________________________________________________________\n",
            "conv2d_1 (Conv2D)            (None, 48, 48, 48)        13872     \n",
            "_________________________________________________________________\n",
            "max_pooling2d_1 (MaxPooling2 (None, 24, 24, 48)        0         \n",
            "_________________________________________________________________\n",
            "conv2d_2 (Conv2D)            (None, 24, 24, 64)        27712     \n",
            "_________________________________________________________________\n",
            "max_pooling2d_2 (MaxPooling2 (None, 8, 8, 64)          0         \n",
            "_________________________________________________________________\n",
            "conv2d_3 (Conv2D)            (None, 8, 8, 64)          102464    \n",
            "_________________________________________________________________\n",
            "max_pooling2d_3 (MaxPooling2 (None, 4, 4, 64)          0         \n",
            "_________________________________________________________________\n",
            "conv2d_4 (Conv2D)            (None, 4, 4, 128)         73856     \n",
            "_________________________________________________________________\n",
            "max_pooling2d_4 (MaxPooling2 (None, 2, 2, 128)         0         \n",
            "_________________________________________________________________\n",
            "conv2d_5 (Conv2D)            (None, 2, 2, 256)         295168    \n",
            "_________________________________________________________________\n",
            "global_average_pooling2d (Gl (None, 256)               0         \n",
            "_________________________________________________________________\n",
            "flatten (Flatten)            (None, 256)               0         \n",
            "_________________________________________________________________\n",
            "dense (Dense)                (None, 100)               25700     \n",
            "_________________________________________________________________\n",
            "batch_normalization (BatchNo (None, 100)               400       \n",
            "_________________________________________________________________\n",
            "dense_1 (Dense)              (None, 1)                 101       \n",
            "=================================================================\n",
            "Total params: 540,169\n",
            "Trainable params: 539,969\n",
            "Non-trainable params: 200\n",
            "_________________________________________________________________\n"
          ],
          "name": "stdout"
        }
      ]
    },
    {
      "cell_type": "code",
      "metadata": {
        "id": "RKkShovrv6EQ"
      },
      "source": [
        "adam = Adam(lr=1e-4)"
      ],
      "execution_count": null,
      "outputs": []
    },
    {
      "cell_type": "code",
      "metadata": {
        "id": "-HHFzdYO0-JZ"
      },
      "source": [
        "model.compile(loss='binary_crossentropy', optimizer=adam, metrics=['accuracy'])"
      ],
      "execution_count": null,
      "outputs": []
    },
    {
      "cell_type": "code",
      "metadata": {
        "id": "BQS7Xkz41EYe"
      },
      "source": [
        "X_train, X_valid, y_train, y_valid=train_test_split(train_df['image_names'],train_df['class'],test_size=0.3, random_state=42)\n",
        "## Image Augmentation using Keras (ImageDataGenerator)\n",
        "#from keras.preprocessing.image import ImageDataGenerator\n",
        "# image_augmentation = ImageDataGenerator(rotation_range=30, width_shift_range=40, height_shift_range=40, \n",
        "#                              horizontal_flip=True, vertical_flip=True, fill_mode=\"nearest\")\n",
        "# image_augmentation.fit(X_train)\n",
        "# model_history = model.fit(X_train, y_train, epochs=20, batch_size=128,validation_data=(X_valid,y_valid))"
      ],
      "execution_count": null,
      "outputs": []
    },
    {
      "cell_type": "code",
      "metadata": {
        "id": "PbgvQDJMAP-P"
      },
      "source": [
        "from keras.callbacks import ModelCheckpoint"
      ],
      "execution_count": null,
      "outputs": []
    },
    {
      "cell_type": "code",
      "metadata": {
        "colab": {
          "base_uri": "https://localhost:8080/"
        },
        "id": "55qds4oDA-n3",
        "outputId": "5ce9fa44-af7f-43e2-905d-b759d50e2635"
      },
      "source": [
        "filepath = get_filepath(foldername,filename='best_weights.hdf5')\n",
        "checkpoint = ModelCheckpoint(filepath, monitor='val_accuracy', verbose=1, save_best_only=True, mode='max')\n",
        "\n",
        "# defining checkpointing variable\n",
        "callbacks_list = [checkpoint]"
      ],
      "execution_count": null,
      "outputs": [
        {
          "output_type": "stream",
          "text": [
            "Drive already mounted at /content/drive; to attempt to forcibly remount, call drive.mount(\"/content/drive\", force_remount=True).\n"
          ],
          "name": "stdout"
        }
      ]
    },
    {
      "cell_type": "code",
      "metadata": {
        "colab": {
          "base_uri": "https://localhost:8080/"
        },
        "id": "BfBliGKi2H-X",
        "outputId": "a8a2ab67-b5d0-460c-eaf6-4f2496aeaf7f"
      },
      "source": [
        "model_history = model.fit(train_generator,\n",
        "                          steps_per_epoch=STEP_SIZE_TRAIN,\n",
        "                          validation_data=valid_generator,\n",
        "                          validation_steps=STEP_SIZE_VALID,\n",
        "                          epochs=30,\n",
        "                          callbacks=callbacks_list\n",
        "                          )"
      ],
      "execution_count": null,
      "outputs": [
        {
          "output_type": "stream",
          "text": [
            "Epoch 1/30\n",
            " 2/15 [===>..........................] - ETA: 0s - loss: 0.6955 - accuracy: 0.4893WARNING:tensorflow:Callbacks method `on_train_batch_end` is slow compared to the batch time (batch time: 0.0429s vs `on_train_batch_end` time: 0.0728s). Check your callbacks.\n",
            "15/15 [==============================] - ETA: 0s - loss: 0.6704 - accuracy: 0.6174\n",
            "Epoch 00001: val_accuracy improved from -inf to 0.62779, saving model to /content/drive/My Drive/datasets/gender/best_weights.hdf5\n",
            "15/15 [==============================] - 22s 1s/step - loss: 0.6704 - accuracy: 0.6174 - val_loss: 0.6907 - val_accuracy: 0.6278\n",
            "Epoch 2/30\n",
            "15/15 [==============================] - ETA: 0s - loss: 0.5909 - accuracy: 0.7110\n",
            "Epoch 00002: val_accuracy improved from 0.62779 to 0.70312, saving model to /content/drive/My Drive/datasets/gender/best_weights.hdf5\n",
            "15/15 [==============================] - 21s 1s/step - loss: 0.5909 - accuracy: 0.7110 - val_loss: 0.6829 - val_accuracy: 0.7031\n",
            "Epoch 3/30\n",
            "15/15 [==============================] - ETA: 0s - loss: 0.4924 - accuracy: 0.7742\n",
            "Epoch 00003: val_accuracy improved from 0.70312 to 0.75530, saving model to /content/drive/My Drive/datasets/gender/best_weights.hdf5\n",
            "15/15 [==============================] - 21s 1s/step - loss: 0.4924 - accuracy: 0.7742 - val_loss: 0.6708 - val_accuracy: 0.7553\n",
            "Epoch 4/30\n",
            "15/15 [==============================] - ETA: 0s - loss: 0.4340 - accuracy: 0.8073\n",
            "Epoch 00004: val_accuracy improved from 0.75530 to 0.79046, saving model to /content/drive/My Drive/datasets/gender/best_weights.hdf5\n",
            "15/15 [==============================] - 21s 1s/step - loss: 0.4340 - accuracy: 0.8073 - val_loss: 0.6623 - val_accuracy: 0.7905\n",
            "Epoch 5/30\n",
            "15/15 [==============================] - ETA: 0s - loss: 0.3984 - accuracy: 0.8265\n",
            "Epoch 00005: val_accuracy did not improve from 0.79046\n",
            "15/15 [==============================] - 21s 1s/step - loss: 0.3984 - accuracy: 0.8265 - val_loss: 0.6566 - val_accuracy: 0.7868\n",
            "Epoch 6/30\n",
            "15/15 [==============================] - ETA: 0s - loss: 0.3714 - accuracy: 0.8384\n",
            "Epoch 00006: val_accuracy did not improve from 0.79046\n",
            "15/15 [==============================] - 20s 1s/step - loss: 0.3714 - accuracy: 0.8384 - val_loss: 0.6490 - val_accuracy: 0.7589\n",
            "Epoch 7/30\n",
            "15/15 [==============================] - ETA: 0s - loss: 0.3438 - accuracy: 0.8509\n",
            "Epoch 00007: val_accuracy improved from 0.79046 to 0.84040, saving model to /content/drive/My Drive/datasets/gender/best_weights.hdf5\n",
            "15/15 [==============================] - 21s 1s/step - loss: 0.3438 - accuracy: 0.8509 - val_loss: 0.6391 - val_accuracy: 0.8404\n",
            "Epoch 8/30\n",
            "15/15 [==============================] - ETA: 0s - loss: 0.3170 - accuracy: 0.8668\n",
            "Epoch 00008: val_accuracy did not improve from 0.84040\n",
            "15/15 [==============================] - 21s 1s/step - loss: 0.3170 - accuracy: 0.8668 - val_loss: 0.6352 - val_accuracy: 0.7282\n",
            "Epoch 9/30\n",
            "15/15 [==============================] - ETA: 0s - loss: 0.3006 - accuracy: 0.8736\n",
            "Epoch 00009: val_accuracy did not improve from 0.84040\n",
            "15/15 [==============================] - 20s 1s/step - loss: 0.3006 - accuracy: 0.8736 - val_loss: 0.6248 - val_accuracy: 0.7360\n",
            "Epoch 10/30\n",
            "15/15 [==============================] - ETA: 0s - loss: 0.2728 - accuracy: 0.8858\n",
            "Epoch 00010: val_accuracy did not improve from 0.84040\n",
            "15/15 [==============================] - 20s 1s/step - loss: 0.2728 - accuracy: 0.8858 - val_loss: 0.6173 - val_accuracy: 0.7196\n",
            "Epoch 11/30\n",
            "15/15 [==============================] - ETA: 0s - loss: 0.2604 - accuracy: 0.8918\n",
            "Epoch 00011: val_accuracy did not improve from 0.84040\n",
            "15/15 [==============================] - 20s 1s/step - loss: 0.2604 - accuracy: 0.8918 - val_loss: 0.5971 - val_accuracy: 0.8061\n",
            "Epoch 12/30\n",
            "15/15 [==============================] - ETA: 0s - loss: 0.2433 - accuracy: 0.8992\n",
            "Epoch 00012: val_accuracy did not improve from 0.84040\n",
            "15/15 [==============================] - 20s 1s/step - loss: 0.2433 - accuracy: 0.8992 - val_loss: 0.6012 - val_accuracy: 0.6839\n",
            "Epoch 13/30\n",
            "15/15 [==============================] - ETA: 0s - loss: 0.2219 - accuracy: 0.9085\n",
            "Epoch 00013: val_accuracy improved from 0.84040 to 0.86189, saving model to /content/drive/My Drive/datasets/gender/best_weights.hdf5\n",
            "15/15 [==============================] - 21s 1s/step - loss: 0.2219 - accuracy: 0.9085 - val_loss: 0.5721 - val_accuracy: 0.8619\n",
            "Epoch 14/30\n",
            "15/15 [==============================] - ETA: 0s - loss: 0.2029 - accuracy: 0.9206\n",
            "Epoch 00014: val_accuracy improved from 0.86189 to 0.88058, saving model to /content/drive/My Drive/datasets/gender/best_weights.hdf5\n",
            "15/15 [==============================] - 20s 1s/step - loss: 0.2029 - accuracy: 0.9206 - val_loss: 0.5517 - val_accuracy: 0.8806\n",
            "Epoch 15/30\n",
            "15/15 [==============================] - ETA: 0s - loss: 0.1905 - accuracy: 0.9275\n",
            "Epoch 00015: val_accuracy improved from 0.88058 to 0.89118, saving model to /content/drive/My Drive/datasets/gender/best_weights.hdf5\n",
            "15/15 [==============================] - 20s 1s/step - loss: 0.1905 - accuracy: 0.9275 - val_loss: 0.5339 - val_accuracy: 0.8912\n",
            "Epoch 16/30\n",
            "15/15 [==============================] - ETA: 0s - loss: 0.1795 - accuracy: 0.9306\n",
            "Epoch 00016: val_accuracy did not improve from 0.89118\n",
            "15/15 [==============================] - 20s 1s/step - loss: 0.1795 - accuracy: 0.9306 - val_loss: 0.5205 - val_accuracy: 0.8878\n",
            "Epoch 17/30\n",
            "15/15 [==============================] - ETA: 0s - loss: 0.1630 - accuracy: 0.9405\n",
            "Epoch 00017: val_accuracy did not improve from 0.89118\n",
            "15/15 [==============================] - 20s 1s/step - loss: 0.1630 - accuracy: 0.9405 - val_loss: 0.4985 - val_accuracy: 0.8909\n",
            "Epoch 18/30\n",
            "15/15 [==============================] - ETA: 0s - loss: 0.1547 - accuracy: 0.9432\n",
            "Epoch 00018: val_accuracy did not improve from 0.89118\n",
            "15/15 [==============================] - 19s 1s/step - loss: 0.1547 - accuracy: 0.9432 - val_loss: 0.5158 - val_accuracy: 0.7676\n",
            "Epoch 19/30\n",
            "15/15 [==============================] - ETA: 0s - loss: 0.1445 - accuracy: 0.9477\n",
            "Epoch 00019: val_accuracy improved from 0.89118 to 0.89286, saving model to /content/drive/My Drive/datasets/gender/best_weights.hdf5\n",
            "15/15 [==============================] - 20s 1s/step - loss: 0.1445 - accuracy: 0.9477 - val_loss: 0.4715 - val_accuracy: 0.8929\n",
            "Epoch 20/30\n",
            "15/15 [==============================] - ETA: 0s - loss: 0.1589 - accuracy: 0.9388\n",
            "Epoch 00020: val_accuracy did not improve from 0.89286\n",
            "15/15 [==============================] - 20s 1s/step - loss: 0.1589 - accuracy: 0.9388 - val_loss: 0.4580 - val_accuracy: 0.8331\n",
            "Epoch 21/30\n",
            "15/15 [==============================] - ETA: 0s - loss: 0.1452 - accuracy: 0.9452\n",
            "Epoch 00021: val_accuracy improved from 0.89286 to 0.89425, saving model to /content/drive/My Drive/datasets/gender/best_weights.hdf5\n",
            "15/15 [==============================] - 20s 1s/step - loss: 0.1452 - accuracy: 0.9452 - val_loss: 0.4171 - val_accuracy: 0.8943\n",
            "Epoch 22/30\n",
            "15/15 [==============================] - ETA: 0s - loss: 0.1223 - accuracy: 0.9591\n",
            "Epoch 00022: val_accuracy improved from 0.89425 to 0.90262, saving model to /content/drive/My Drive/datasets/gender/best_weights.hdf5\n",
            "15/15 [==============================] - 20s 1s/step - loss: 0.1223 - accuracy: 0.9591 - val_loss: 0.4000 - val_accuracy: 0.9026\n",
            "Epoch 23/30\n",
            "15/15 [==============================] - ETA: 0s - loss: 0.1110 - accuracy: 0.9649\n",
            "Epoch 00023: val_accuracy did not improve from 0.90262\n",
            "15/15 [==============================] - 20s 1s/step - loss: 0.1110 - accuracy: 0.9649 - val_loss: 0.3954 - val_accuracy: 0.8689\n",
            "Epoch 24/30\n",
            "15/15 [==============================] - ETA: 0s - loss: 0.0999 - accuracy: 0.9684\n",
            "Epoch 00024: val_accuracy did not improve from 0.90262\n",
            "15/15 [==============================] - 19s 1s/step - loss: 0.0999 - accuracy: 0.9684 - val_loss: 0.3615 - val_accuracy: 0.8970\n",
            "Epoch 25/30\n",
            "15/15 [==============================] - ETA: 0s - loss: 0.0969 - accuracy: 0.9698\n",
            "Epoch 00025: val_accuracy did not improve from 0.90262\n",
            "15/15 [==============================] - 19s 1s/step - loss: 0.0969 - accuracy: 0.9698 - val_loss: 0.3338 - val_accuracy: 0.8990\n",
            "Epoch 26/30\n",
            "15/15 [==============================] - ETA: 0s - loss: 0.0838 - accuracy: 0.9739\n",
            "Epoch 00026: val_accuracy did not improve from 0.90262\n",
            "15/15 [==============================] - 20s 1s/step - loss: 0.0838 - accuracy: 0.9739 - val_loss: 0.3242 - val_accuracy: 0.9023\n",
            "Epoch 27/30\n",
            "15/15 [==============================] - ETA: 0s - loss: 0.0772 - accuracy: 0.9764\n",
            "Epoch 00027: val_accuracy did not improve from 0.90262\n",
            "15/15 [==============================] - 20s 1s/step - loss: 0.0772 - accuracy: 0.9764 - val_loss: 0.3258 - val_accuracy: 0.8809\n",
            "Epoch 28/30\n",
            "15/15 [==============================] - ETA: 0s - loss: 0.0759 - accuracy: 0.9768\n",
            "Epoch 00028: val_accuracy did not improve from 0.90262\n",
            "15/15 [==============================] - 21s 1s/step - loss: 0.0759 - accuracy: 0.9768 - val_loss: 0.2970 - val_accuracy: 0.9023\n",
            "Epoch 29/30\n",
            "15/15 [==============================] - ETA: 0s - loss: 0.0695 - accuracy: 0.9800\n",
            "Epoch 00029: val_accuracy improved from 0.90262 to 0.90597, saving model to /content/drive/My Drive/datasets/gender/best_weights.hdf5\n",
            "15/15 [==============================] - 21s 1s/step - loss: 0.0695 - accuracy: 0.9800 - val_loss: 0.2869 - val_accuracy: 0.9060\n",
            "Epoch 30/30\n",
            "15/15 [==============================] - ETA: 0s - loss: 0.0644 - accuracy: 0.9807\n",
            "Epoch 00030: val_accuracy improved from 0.90597 to 0.90765, saving model to /content/drive/My Drive/datasets/gender/best_weights.hdf5\n",
            "15/15 [==============================] - 20s 1s/step - loss: 0.0644 - accuracy: 0.9807 - val_loss: 0.2682 - val_accuracy: 0.9076\n"
          ],
          "name": "stdout"
        }
      ]
    },
    {
      "cell_type": "code",
      "metadata": {
        "id": "4chnZ2IN2CN7",
        "colab": {
          "base_uri": "https://localhost:8080/",
          "height": 295
        },
        "outputId": "0f0b30f9-98cc-4d8d-cd36-1870deba2697"
      },
      "source": [
        "plt.plot(model_history.history['loss'])\n",
        "plt.plot(model_history.history['val_loss'])\n",
        "plt.title('model loss')\n",
        "plt.ylabel('loss')\n",
        "plt.xlabel('epoch')\n",
        "plt.legend(['train', 'validation'], loc='upper left')\n",
        "plt.show()"
      ],
      "execution_count": null,
      "outputs": [
        {
          "output_type": "display_data",
          "data": {
            "image/png": "[encoded data removed]",
            "text/plain": [
              "<Figure size 432x288 with 1 Axes>"
            ]
          },
          "metadata": {
            "tags": [],
            "needs_background": "light"
          }
        }
      ]
    },
    {
      "cell_type": "code",
      "metadata": {
        "id": "cDq_vEjTIAuJ",
        "colab": {
          "base_uri": "https://localhost:8080/",
          "height": 295
        },
        "outputId": "4c28ef42-6657-4bb6-a82a-86f91f089e8b"
      },
      "source": [
        "plt.plot(model_history.history['accuracy'])\n",
        "plt.plot(model_history.history['val_accuracy'])\n",
        "plt.title('model accuracy')\n",
        "plt.ylabel('accuracy')\n",
        "plt.xlabel('epoch')\n",
        "plt.legend(['train', 'validation'], loc='upper right')\n",
        "plt.show()"
      ],
      "execution_count": null,
      "outputs": [
        {
          "output_type": "display_data",
          "data": {
            "image/png": "[encoded data removed]",
            "text/plain": [
              "<Figure size 432x288 with 1 Axes>"
            ]
          },
          "metadata": {
            "tags": [],
            "needs_background": "light"
          }
        }
      ]
    },
    {
      "cell_type": "code",
      "metadata": {
        "id": "3G49fTkLIx3C"
      },
      "source": [
        "model.load_weights(filepath)"
      ],
      "execution_count": null,
      "outputs": []
    },
    {
      "cell_type": "code",
      "metadata": {
        "id": "O9Yf7VogNlv7"
      },
      "source": [
        "test_datagen = ImageDataGenerator(rescale=1/255.0,validation_split =0.33,\n",
        "                                   )\n"
      ],
      "execution_count": null,
      "outputs": []
    },
    {
      "cell_type": "code",
      "metadata": {
        "id": "vxCPD4vbM8DC",
        "colab": {
          "base_uri": "https://localhost:8080/"
        },
        "outputId": "66368ea7-95e5-4887-d3e7-aa3bbae31705"
      },
      "source": [
        "test_generator = test_datagen.flow_from_dataframe(dataframe=test_df, \n",
        "                                              directory=str(image_path)+'/',\n",
        "                                              x_col=\"image_names\", \n",
        "                                              y_col=None,\n",
        "                                              class_mode=None, \n",
        "                                              target_size=(96, 96), \n",
        "                                              batch_size =512,\n",
        "                                              shuffle=False,)\n",
        "                                      "
      ],
      "execution_count": null,
      "outputs": [
        {
          "output_type": "stream",
          "text": [
            "Found 5227 validated image filenames.\n"
          ],
          "name": "stdout"
        }
      ]
    },
    {
      "cell_type": "code",
      "metadata": {
        "id": "Swu6zLfUAzPX",
        "colab": {
          "base_uri": "https://localhost:8080/"
        },
        "outputId": "6e877e9e-374a-42e7-8af6-c97c5b7181af"
      },
      "source": [
        "y_pred = model.predict_classes(test_generator)"
      ],
      "execution_count": null,
      "outputs": [
        {
          "output_type": "stream",
          "text": [
            "WARNING:tensorflow:From <ipython-input-42-be802a86e280>:1: Sequential.predict_classes (from tensorflow.python.keras.engine.sequential) is deprecated and will be removed after 2021-01-01.\n",
            "Instructions for updating:\n",
            "Please use instead:* `np.argmax(model.predict(x), axis=-1)`,   if your model does multi-class classification   (e.g. if it uses a `softmax` last-layer activation).* `(model.predict(x) > 0.5).astype(\"int32\")`,   if your model does binary classification   (e.g. if it uses a `sigmoid` last-layer activation).\n"
          ],
          "name": "stdout"
        }
      ]
    },
    {
      "cell_type": "code",
      "metadata": {
        "id": "d-5WWTNxOx47"
      },
      "source": [
        "y_pred =y_pred.flatten()"
      ],
      "execution_count": null,
      "outputs": []
    },
    {
      "cell_type": "code",
      "metadata": {
        "id": "zJvnzwg0-Fo4"
      },
      "source": [
        "test_df['class'] =y_pred"
      ],
      "execution_count": null,
      "outputs": []
    },
    {
      "cell_type": "code",
      "metadata": {
        "id": "3fP6hlj5J0AP",
        "colab": {
          "base_uri": "https://localhost:8080/"
        },
        "outputId": "40bbaa52-2084-46ca-b1f9-7c244dc3b741"
      },
      "source": [
        "test_df['class'].value_counts()"
      ],
      "execution_count": null,
      "outputs": [
        {
          "output_type": "execute_result",
          "data": {
            "text/plain": [
              "1    2731\n",
              "0    2496\n",
              "Name: class, dtype: int64"
            ]
          },
          "metadata": {
            "tags": []
          },
          "execution_count": 45
        }
      ]
    },
    {
      "cell_type": "code",
      "metadata": {
        "id": "dEeEFkmGIu7V"
      },
      "source": [
        ""
      ],
      "execution_count": null,
      "outputs": []
    },
    {
      "cell_type": "code",
      "metadata": {
        "id": "Th4mrkBz-O8l",
        "colab": {
          "base_uri": "https://localhost:8080/",
          "height": 198
        },
        "outputId": "b0076b2d-9d22-473b-cec0-a412edcaa9f4"
      },
      "source": [
        "test_df.head()"
      ],
      "execution_count": null,
      "outputs": [
        {
          "output_type": "execute_result",
          "data": {
            "text/html": [
              "<div>\n",
              "<style scoped>\n",
              "    .dataframe tbody tr th:only-of-type {\n",
              "        vertical-align: middle;\n",
              "    }\n",
              "\n",
              "    .dataframe tbody tr th {\n",
              "        vertical-align: top;\n",
              "    }\n",
              "\n",
              "    .dataframe thead th {\n",
              "        text-align: right;\n",
              "    }\n",
              "</style>\n",
              "<table border=\"1\" class=\"dataframe\">\n",
              "  <thead>\n",
              "    <tr style=\"text-align: right;\">\n",
              "      <th></th>\n",
              "      <th>image_names</th>\n",
              "      <th>class</th>\n",
              "    </tr>\n",
              "  </thead>\n",
              "  <tbody>\n",
              "    <tr>\n",
              "      <th>0</th>\n",
              "      <td>5603.jpg</td>\n",
              "      <td>1</td>\n",
              "    </tr>\n",
              "    <tr>\n",
              "      <th>1</th>\n",
              "      <td>1286.jpg</td>\n",
              "      <td>1</td>\n",
              "    </tr>\n",
              "    <tr>\n",
              "      <th>2</th>\n",
              "      <td>9815.jpg</td>\n",
              "      <td>0</td>\n",
              "    </tr>\n",
              "    <tr>\n",
              "      <th>3</th>\n",
              "      <td>8865.jpg</td>\n",
              "      <td>0</td>\n",
              "    </tr>\n",
              "    <tr>\n",
              "      <th>4</th>\n",
              "      <td>9306.jpg</td>\n",
              "      <td>1</td>\n",
              "    </tr>\n",
              "  </tbody>\n",
              "</table>\n",
              "</div>"
            ],
            "text/plain": [
              "  image_names  class\n",
              "0    5603.jpg      1\n",
              "1    1286.jpg      1\n",
              "2    9815.jpg      0\n",
              "3    8865.jpg      0\n",
              "4    9306.jpg      1"
            ]
          },
          "metadata": {
            "tags": []
          },
          "execution_count": 46
        }
      ]
    },
    {
      "cell_type": "code",
      "metadata": {
        "id": "cRuCrar6-ZsA",
        "colab": {
          "base_uri": "https://localhost:8080/"
        },
        "outputId": "e553b038-df48-4f1e-cf0f-be5393ae047b"
      },
      "source": [
        "submission_file = get_filepath(foldername,filename='submission_DEC012020_0401.csv')\n"
      ],
      "execution_count": null,
      "outputs": [
        {
          "output_type": "stream",
          "text": [
            "Drive already mounted at /content/drive; to attempt to forcibly remount, call drive.mount(\"/content/drive\", force_remount=True).\n"
          ],
          "name": "stdout"
        }
      ]
    },
    {
      "cell_type": "code",
      "metadata": {
        "id": "5HW61aFvAKPj"
      },
      "source": [
        "test_df.to_csv(submission_file,index=False)"
      ],
      "execution_count": null,
      "outputs": []
    },
    {
      "cell_type": "code",
      "metadata": {
        "id": "xjZVOC8uAU8n",
        "colab": {
          "base_uri": "https://localhost:8080/"
        },
        "outputId": "3e7c839b-1cad-4a85-ae48-da81851d1719"
      },
      "source": [
        "model.save(get_filepath(foldername,filename='model_DEC012020_04.hdf5'))"
      ],
      "execution_count": null,
      "outputs": [
        {
          "output_type": "stream",
          "text": [
            "Drive already mounted at /content/drive; to attempt to forcibly remount, call drive.mount(\"/content/drive\", force_remount=True).\n"
          ],
          "name": "stdout"
        }
      ]
    }
  ]
}