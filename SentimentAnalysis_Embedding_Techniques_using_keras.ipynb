{
  "nbformat": 4,
  "nbformat_minor": 0,
  "metadata": {
    "colab": {
      "name": "SentimentAnalysis_Embedding_Techniques_using_keras.ipynb",
      "provenance": [],
      "collapsed_sections": [],
      "authorship_tag": "ABX9TyOfTPHyqVKS5JiQ5ZPwOTnI"
    },
    "kernelspec": {
      "name": "python3",
      "display_name": "Python 3"
    }
  },
  "cells": [
    {
      "cell_type": "code",
      "metadata": {
        "id": "BRl1zvqM-UwR"
      },
      "source": [
        "IN_COLAB = 'google.colab' in str(get_ipython())"
      ],
      "execution_count": null,
      "outputs": []
    },
    {
      "cell_type": "code",
      "metadata": {
        "id": "h4gBeNlH-z6F",
        "colab": {
          "base_uri": "https://localhost:8080/"
        },
        "outputId": "58e4b8fa-4724-4821-931e-4d367aea4cea"
      },
      "source": [
        "if IN_COLAB:\r\n",
        "  # Uninstall tensorflow first\r\n",
        "  !pip uninstall tensorflow -y\r\n",
        "  # Install tensorflow-gpu (stable version)\r\n",
        "  !pip install tensorflow-gpu  # stable\r\n",
        "  !pip install emoji\r\n",
        "  import tensorflow as tf\r\n",
        "  # Check version\r\n",
        "  print(tf.__version__)\r\n",
        "\r\n",
        "  from tensorflow.python.client import device_lib\r\n",
        "  device_lib.list_local_devices()\r\n",
        "\r\n",
        "import nltk\r\n",
        "nltk.download('stopwords')\r\n",
        "nltk.download('wordnet')"
      ],
      "execution_count": null,
      "outputs": [
        {
          "output_type": "stream",
          "text": [
            "\u001b[33mWARNING: Skipping tensorflow as it is not installed.\u001b[0m\n",
            "Requirement already satisfied: tensorflow-gpu in /usr/local/lib/python3.6/dist-packages (2.4.0)\n",
            "Requirement already satisfied: absl-py~=0.10 in /usr/local/lib/python3.6/dist-packages (from tensorflow-gpu) (0.10.0)\n",
            "Requirement already satisfied: tensorboard~=2.4 in /usr/local/lib/python3.6/dist-packages (from tensorflow-gpu) (2.4.0)\n",
            "Requirement already satisfied: opt-einsum~=3.3.0 in /usr/local/lib/python3.6/dist-packages (from tensorflow-gpu) (3.3.0)\n",
            "Requirement already satisfied: h5py~=2.10.0 in /usr/local/lib/python3.6/dist-packages (from tensorflow-gpu) (2.10.0)\n",
            "Requirement already satisfied: keras-preprocessing~=1.1.2 in /usr/local/lib/python3.6/dist-packages (from tensorflow-gpu) (1.1.2)\n",
            "Requirement already satisfied: six~=1.15.0 in /usr/local/lib/python3.6/dist-packages (from tensorflow-gpu) (1.15.0)\n",
            "Requirement already satisfied: tensorflow-estimator<2.5.0,>=2.4.0rc0 in /usr/local/lib/python3.6/dist-packages (from tensorflow-gpu) (2.4.0)\n",
            "Requirement already satisfied: astunparse~=1.6.3 in /usr/local/lib/python3.6/dist-packages (from tensorflow-gpu) (1.6.3)\n",
            "Requirement already satisfied: termcolor~=1.1.0 in /usr/local/lib/python3.6/dist-packages (from tensorflow-gpu) (1.1.0)\n",
            "Requirement already satisfied: wheel~=0.35 in /usr/local/lib/python3.6/dist-packages (from tensorflow-gpu) (0.36.2)\n",
            "Requirement already satisfied: wrapt~=1.12.1 in /usr/local/lib/python3.6/dist-packages (from tensorflow-gpu) (1.12.1)\n",
            "Requirement already satisfied: gast==0.3.3 in /usr/local/lib/python3.6/dist-packages (from tensorflow-gpu) (0.3.3)\n",
            "Requirement already satisfied: grpcio~=1.32.0 in /usr/local/lib/python3.6/dist-packages (from tensorflow-gpu) (1.32.0)\n",
            "Requirement already satisfied: protobuf>=3.9.2 in /usr/local/lib/python3.6/dist-packages (from tensorflow-gpu) (3.12.4)\n",
            "Requirement already satisfied: flatbuffers~=1.12.0 in /usr/local/lib/python3.6/dist-packages (from tensorflow-gpu) (1.12)\n",
            "Requirement already satisfied: typing-extensions~=3.7.4 in /usr/local/lib/python3.6/dist-packages (from tensorflow-gpu) (3.7.4.3)\n",
            "Requirement already satisfied: numpy~=1.19.2 in /usr/local/lib/python3.6/dist-packages (from tensorflow-gpu) (1.19.5)\n",
            "Requirement already satisfied: google-pasta~=0.2 in /usr/local/lib/python3.6/dist-packages (from tensorflow-gpu) (0.2.0)\n",
            "Requirement already satisfied: google-auth-oauthlib<0.5,>=0.4.1 in /usr/local/lib/python3.6/dist-packages (from tensorboard~=2.4->tensorflow-gpu) (0.4.2)\n",
            "Requirement already satisfied: markdown>=2.6.8 in /usr/local/lib/python3.6/dist-packages (from tensorboard~=2.4->tensorflow-gpu) (3.3.3)\n",
            "Requirement already satisfied: setuptools>=41.0.0 in /usr/local/lib/python3.6/dist-packages (from tensorboard~=2.4->tensorflow-gpu) (51.1.1)\n",
            "Requirement already satisfied: tensorboard-plugin-wit>=1.6.0 in /usr/local/lib/python3.6/dist-packages (from tensorboard~=2.4->tensorflow-gpu) (1.7.0)\n",
            "Requirement already satisfied: werkzeug>=0.11.15 in /usr/local/lib/python3.6/dist-packages (from tensorboard~=2.4->tensorflow-gpu) (1.0.1)\n",
            "Requirement already satisfied: google-auth<2,>=1.6.3 in /usr/local/lib/python3.6/dist-packages (from tensorboard~=2.4->tensorflow-gpu) (1.17.2)\n",
            "Requirement already satisfied: requests<3,>=2.21.0 in /usr/local/lib/python3.6/dist-packages (from tensorboard~=2.4->tensorflow-gpu) (2.23.0)\n",
            "Requirement already satisfied: requests-oauthlib>=0.7.0 in /usr/local/lib/python3.6/dist-packages (from google-auth-oauthlib<0.5,>=0.4.1->tensorboard~=2.4->tensorflow-gpu) (1.3.0)\n",
            "Requirement already satisfied: importlib-metadata; python_version < \"3.8\" in /usr/local/lib/python3.6/dist-packages (from markdown>=2.6.8->tensorboard~=2.4->tensorflow-gpu) (3.3.0)\n",
            "Requirement already satisfied: rsa<5,>=3.1.4; python_version >= \"3\" in /usr/local/lib/python3.6/dist-packages (from google-auth<2,>=1.6.3->tensorboard~=2.4->tensorflow-gpu) (4.6)\n",
            "Requirement already satisfied: cachetools<5.0,>=2.0.0 in /usr/local/lib/python3.6/dist-packages (from google-auth<2,>=1.6.3->tensorboard~=2.4->tensorflow-gpu) (4.2.0)\n",
            "Requirement already satisfied: pyasn1-modules>=0.2.1 in /usr/local/lib/python3.6/dist-packages (from google-auth<2,>=1.6.3->tensorboard~=2.4->tensorflow-gpu) (0.2.8)\n",
            "Requirement already satisfied: urllib3!=1.25.0,!=1.25.1,<1.26,>=1.21.1 in /usr/local/lib/python3.6/dist-packages (from requests<3,>=2.21.0->tensorboard~=2.4->tensorflow-gpu) (1.24.3)\n",
            "Requirement already satisfied: certifi>=2017.4.17 in /usr/local/lib/python3.6/dist-packages (from requests<3,>=2.21.0->tensorboard~=2.4->tensorflow-gpu) (2020.12.5)\n",
            "Requirement already satisfied: idna<3,>=2.5 in /usr/local/lib/python3.6/dist-packages (from requests<3,>=2.21.0->tensorboard~=2.4->tensorflow-gpu) (2.10)\n",
            "Requirement already satisfied: chardet<4,>=3.0.2 in /usr/local/lib/python3.6/dist-packages (from requests<3,>=2.21.0->tensorboard~=2.4->tensorflow-gpu) (3.0.4)\n",
            "Requirement already satisfied: oauthlib>=3.0.0 in /usr/local/lib/python3.6/dist-packages (from requests-oauthlib>=0.7.0->google-auth-oauthlib<0.5,>=0.4.1->tensorboard~=2.4->tensorflow-gpu) (3.1.0)\n",
            "Requirement already satisfied: zipp>=0.5 in /usr/local/lib/python3.6/dist-packages (from importlib-metadata; python_version < \"3.8\"->markdown>=2.6.8->tensorboard~=2.4->tensorflow-gpu) (3.4.0)\n",
            "Requirement already satisfied: pyasn1>=0.1.3 in /usr/local/lib/python3.6/dist-packages (from rsa<5,>=3.1.4; python_version >= \"3\"->google-auth<2,>=1.6.3->tensorboard~=2.4->tensorflow-gpu) (0.4.8)\n",
            "Requirement already satisfied: emoji in /usr/local/lib/python3.6/dist-packages (0.6.0)\n",
            "2.4.0\n",
            "[nltk_data] Downloading package stopwords to /root/nltk_data...\n",
            "[nltk_data]   Package stopwords is already up-to-date!\n",
            "[nltk_data] Downloading package wordnet to /root/nltk_data...\n",
            "[nltk_data]   Package wordnet is already up-to-date!\n"
          ],
          "name": "stdout"
        },
        {
          "output_type": "execute_result",
          "data": {
            "text/plain": [
              "True"
            ]
          },
          "metadata": {
            "tags": []
          },
          "execution_count": 2
        }
      ]
    },
    {
      "cell_type": "code",
      "metadata": {
        "id": "AyUOvPxl--2F"
      },
      "source": [
        "from tensorflow.keras.preprocessing.text import one_hot"
      ],
      "execution_count": null,
      "outputs": []
    },
    {
      "cell_type": "code",
      "metadata": {
        "id": "NwFbTNPH_niA"
      },
      "source": [
        "import numpy as np\r\n",
        "import pandas as pd\r\n",
        "import seaborn as sns\r\n",
        "\r\n",
        "import re\r\n",
        "import string\r\n",
        "import os\r\n",
        "import emoji\r\n",
        "\r\n",
        "import collections\r\n",
        "import unicodedata\r\n",
        "\r\n",
        "\r\n",
        "from pathlib import Path\r\n",
        "from matplotlib import pyplot as plt\r\n",
        "from datetime import datetime as dt\r\n",
        "from pprint import pprint\r\n",
        "from time import time\r\n",
        "from sklearn.base import BaseEstimator, TransformerMixin\r\n",
        "from sklearn.feature_extraction.text import CountVectorizer\r\n",
        "from sklearn.feature_extraction.text import TfidfVectorizer\r\n",
        "from nltk.corpus import stopwords, wordnet\r\n",
        "\r\n",
        "from nltk.stem import PorterStemmer, LancasterStemmer, WordNetLemmatizer\r\n",
        "from nltk.tokenize import word_tokenize, TweetTokenizer\r\n",
        "from sklearn.feature_extraction import text\r\n",
        "from nltk.corpus import stopwords\r\n",
        "sns.set(style=\"darkgrid\")\r\n",
        "sns.set(font_scale=1.3)"
      ],
      "execution_count": null,
      "outputs": []
    },
    {
      "cell_type": "code",
      "metadata": {
        "id": "F6JHQ96cDRLb"
      },
      "source": [
        "def get_filepath(foldername,filename):\r\n",
        "  \r\n",
        "  if IN_COLAB:\r\n",
        "      from google.colab import drive\r\n",
        "      drive.mount('/content/drive')\r\n",
        "      data_path = 'drive/My Drive/datasets/{foldername}/{filename}'\r\n",
        "      source_path = Path.cwd()\r\n",
        "      return source_path.joinpath(data_path.format(foldername=foldername,filename=filename))\r\n",
        "  else:\r\n",
        "      data_path='{filename}'\r\n",
        "      source_path =Path.cwd().joinpath('datasource')\r\n",
        "      return source_path.joinpath(data_path.format(filename=filename))"
      ],
      "execution_count": null,
      "outputs": []
    },
    {
      "cell_type": "code",
      "metadata": {
        "colab": {
          "base_uri": "https://localhost:8080/"
        },
        "id": "kiSKftp5DTff",
        "outputId": "b2305e9f-9fe6-4a27-ddf5-2594ec27b6e8"
      },
      "source": [
        "foldername = 'SentimentalAnalysis_II'\r\n",
        "train_file = get_filepath(foldername,'train.csv')\r\n",
        "test_file  = get_filepath(foldername,'test.csv')"
      ],
      "execution_count": null,
      "outputs": [
        {
          "output_type": "stream",
          "text": [
            "Drive already mounted at /content/drive; to attempt to forcibly remount, call drive.mount(\"/content/drive\", force_remount=True).\n",
            "Drive already mounted at /content/drive; to attempt to forcibly remount, call drive.mount(\"/content/drive\", force_remount=True).\n"
          ],
          "name": "stdout"
        }
      ]
    },
    {
      "cell_type": "code",
      "metadata": {
        "id": "DuGT4lWcDdwz"
      },
      "source": [
        "train_df = pd.read_csv(train_file)"
      ],
      "execution_count": null,
      "outputs": []
    },
    {
      "cell_type": "code",
      "metadata": {
        "id": "0SEMArLEDfmd"
      },
      "source": [
        "test_df = pd.read_csv(test_file)"
      ],
      "execution_count": null,
      "outputs": []
    },
    {
      "cell_type": "code",
      "metadata": {
        "colab": {
          "base_uri": "https://localhost:8080/",
          "height": 195
        },
        "id": "sxx3jE6NDnIg",
        "outputId": "4e7a1da7-6787-47d2-9c59-e4f4aaf2b7ee"
      },
      "source": [
        "train_df.head()"
      ],
      "execution_count": null,
      "outputs": [
        {
          "output_type": "execute_result",
          "data": {
            "text/html": [
              "<div>\n",
              "<style scoped>\n",
              "    .dataframe tbody tr th:only-of-type {\n",
              "        vertical-align: middle;\n",
              "    }\n",
              "\n",
              "    .dataframe tbody tr th {\n",
              "        vertical-align: top;\n",
              "    }\n",
              "\n",
              "    .dataframe thead th {\n",
              "        text-align: right;\n",
              "    }\n",
              "</style>\n",
              "<table border=\"1\" class=\"dataframe\">\n",
              "  <thead>\n",
              "    <tr style=\"text-align: right;\">\n",
              "      <th></th>\n",
              "      <th>id</th>\n",
              "      <th>label</th>\n",
              "      <th>tweet</th>\n",
              "    </tr>\n",
              "  </thead>\n",
              "  <tbody>\n",
              "    <tr>\n",
              "      <th>0</th>\n",
              "      <td>1</td>\n",
              "      <td>0</td>\n",
              "      <td>#fingerprint #Pregnancy Test https://goo.gl/h1...</td>\n",
              "    </tr>\n",
              "    <tr>\n",
              "      <th>1</th>\n",
              "      <td>2</td>\n",
              "      <td>0</td>\n",
              "      <td>Finally a transparant silicon case ^^ Thanks t...</td>\n",
              "    </tr>\n",
              "    <tr>\n",
              "      <th>2</th>\n",
              "      <td>3</td>\n",
              "      <td>0</td>\n",
              "      <td>We love this! Would you go? #talk #makememorie...</td>\n",
              "    </tr>\n",
              "    <tr>\n",
              "      <th>3</th>\n",
              "      <td>4</td>\n",
              "      <td>0</td>\n",
              "      <td>I'm wired I know I'm George I was made that wa...</td>\n",
              "    </tr>\n",
              "    <tr>\n",
              "      <th>4</th>\n",
              "      <td>5</td>\n",
              "      <td>1</td>\n",
              "      <td>What amazing service! Apple won't even talk to...</td>\n",
              "    </tr>\n",
              "  </tbody>\n",
              "</table>\n",
              "</div>"
            ],
            "text/plain": [
              "   id  label                                              tweet\n",
              "0   1      0  #fingerprint #Pregnancy Test https://goo.gl/h1...\n",
              "1   2      0  Finally a transparant silicon case ^^ Thanks t...\n",
              "2   3      0  We love this! Would you go? #talk #makememorie...\n",
              "3   4      0  I'm wired I know I'm George I was made that wa...\n",
              "4   5      1  What amazing service! Apple won't even talk to..."
            ]
          },
          "metadata": {
            "tags": []
          },
          "execution_count": 9
        }
      ]
    },
    {
      "cell_type": "code",
      "metadata": {
        "id": "0BLFKgn_DpmV"
      },
      "source": [
        "CONTRACTION_MAP = {\r\n",
        "    \"ain't\": \"is not\",\r\n",
        "    \"aren't\": \"are not\",\r\n",
        "    \"can't\": \"cannot\",\r\n",
        "    \"can't've\": \"cannot have\",\r\n",
        "    \"'cause\": \"because\",\r\n",
        "    \"could've\": \"could have\",\r\n",
        "    \"couldn't\": \"could not\",\r\n",
        "    \"couldn't've\": \"could not have\",\r\n",
        "    \"didn't\": \"did not\",\r\n",
        "    \"doesn't\": \"does not\",\r\n",
        "    \"don't\": \"do not\",\r\n",
        "    \"hadn't\": \"had not\",\r\n",
        "    \"hadn't've\": \"had not have\",\r\n",
        "    \"hasn't\": \"has not\",\r\n",
        "    \"haven't\": \"have not\",\r\n",
        "    \"he'd\": \"he would\",\r\n",
        "    \"he'd've\": \"he would have\",\r\n",
        "    \"he'll\": \"he will\",\r\n",
        "    \"he'll've\": \"he he will have\",\r\n",
        "    \"he's\": \"he is\",\r\n",
        "    \"how'd\": \"how did\",\r\n",
        "    \"how'd'y\": \"how do you\",\r\n",
        "    \"how'll\": \"how will\",\r\n",
        "    \"how's\": \"how is\",\r\n",
        "    \"I'd\": \"I would\",\r\n",
        "    \"I'd've\": \"I would have\",\r\n",
        "    \"I'll\": \"I will\",\r\n",
        "    \"I'll've\": \"I will have\",\r\n",
        "    \"I'm\": \"I am\",\r\n",
        "    \"I've\": \"I have\",\r\n",
        "    \"i'd\": \"i would\",\r\n",
        "    \"i'd've\": \"i would have\",\r\n",
        "    \"i'll\": \"i will\",\r\n",
        "    \"i'll've\": \"i will have\",\r\n",
        "    \"i'm\": \"i am\",\r\n",
        "    \"i've\": \"i have\",\r\n",
        "    \"isn't\": \"is not\",\r\n",
        "    \"it'd\": \"it would\",\r\n",
        "    \"it'd've\": \"it would have\",\r\n",
        "    \"it'll\": \"it will\",\r\n",
        "    \"it'll've\": \"it will have\",\r\n",
        "    \"it's\": \"it is\",\r\n",
        "    \"let's\": \"let us\",\r\n",
        "    \"ma'am\": \"madam\",\r\n",
        "    \"mayn't\": \"may not\",\r\n",
        "    \"might've\": \"might have\",\r\n",
        "    \"mightn't\": \"might not\",\r\n",
        "    \"mightn't've\": \"might not have\",\r\n",
        "    \"must've\": \"must have\",\r\n",
        "    \"mustn't\": \"must not\",\r\n",
        "    \"mustn't've\": \"must not have\",\r\n",
        "    \"needn't\": \"need not\",\r\n",
        "    \"needn't've\": \"need not have\",\r\n",
        "    \"o'clock\": \"of the clock\",\r\n",
        "    \"oughtn't\": \"ought not\",\r\n",
        "    \"oughtn't've\": \"ought not have\",\r\n",
        "    \"shan't\": \"shall not\",\r\n",
        "    \"sha'n't\": \"shall not\",\r\n",
        "    \"shan't've\": \"shall not have\",\r\n",
        "    \"she'd\": \"she would\",\r\n",
        "    \"she'd've\": \"she would have\",\r\n",
        "    \"she'll\": \"she will\",\r\n",
        "    \"she'll've\": \"she will have\",\r\n",
        "    \"she's\": \"she is\",\r\n",
        "    \"should've\": \"should have\",\r\n",
        "    \"shouldn't\": \"should not\",\r\n",
        "    \"shouldn't've\": \"should not have\",\r\n",
        "    \"so've\": \"so have\",\r\n",
        "    \"so's\": \"so as\",\r\n",
        "    \"that'd\": \"that would\",\r\n",
        "    \"that'd've\": \"that would have\",\r\n",
        "    \"that's\": \"that is\",\r\n",
        "    \"there'd\": \"there would\",\r\n",
        "    \"there'd've\": \"there would have\",\r\n",
        "    \"there's\": \"there is\",\r\n",
        "    \"they'd\": \"they would\",\r\n",
        "    \"they'd've\": \"they would have\",\r\n",
        "    \"they'll\": \"they will\",\r\n",
        "    \"they'll've\": \"they will have\",\r\n",
        "    \"they're\": \"they are\",\r\n",
        "    \"they've\": \"they have\",\r\n",
        "    \"to've\": \"to have\",\r\n",
        "    \"wasn't\": \"was not\",\r\n",
        "    \"we'd\": \"we would\",\r\n",
        "    \"we'd've\": \"we would have\",\r\n",
        "    \"we'll\": \"we will\",\r\n",
        "    \"we'll've\": \"we will have\",\r\n",
        "    \"we're\": \"we are\",\r\n",
        "    \"we've\": \"we have\",\r\n",
        "    \"weren't\": \"were not\",\r\n",
        "    \"what'll\": \"what will\",\r\n",
        "    \"what'll've\": \"what will have\",\r\n",
        "    \"what're\": \"what are\",\r\n",
        "    \"what's\": \"what is\",\r\n",
        "    \"what've\": \"what have\",\r\n",
        "    \"when's\": \"when is\",\r\n",
        "    \"when've\": \"when have\",\r\n",
        "    \"where'd\": \"where did\",\r\n",
        "    \"where's\": \"where is\",\r\n",
        "    \"where've\": \"where have\",\r\n",
        "    \"who'll\": \"who will\",\r\n",
        "    \"who'll've\": \"who will have\",\r\n",
        "    \"who's\": \"who is\",\r\n",
        "    \"who've\": \"who have\",\r\n",
        "    \"why's\": \"why is\",\r\n",
        "    \"why've\": \"why have\",\r\n",
        "    \"will've\": \"will have\",\r\n",
        "    \"won't\": \"will not\",\r\n",
        "    \"won't've\": \"will not have\",\r\n",
        "    \"would've\": \"would have\",\r\n",
        "    \"wouldn't\": \"would not\",\r\n",
        "    \"wouldn't've\": \"would not have\",\r\n",
        "    \"y'all\": \"you all\",\r\n",
        "    \"y'all'd\": \"you all would\",\r\n",
        "    \"y'all'd've\": \"you all would have\",\r\n",
        "    \"y'all're\": \"you all are\",\r\n",
        "    \"y'all've\": \"you all have\",\r\n",
        "    \"you'd\": \"you would\",\r\n",
        "    \"you'd've\": \"you would have\",\r\n",
        "    \"you'll\": \"you will\",\r\n",
        "    \"you'll've\": \"you will have\",\r\n",
        "    \"you're\": \"you are\",\r\n",
        "    \"you've\": \"you have\"\r\n",
        "}"
      ],
      "execution_count": null,
      "outputs": []
    },
    {
      "cell_type": "code",
      "metadata": {
        "id": "BdrS8mcxHVLo"
      },
      "source": [
        "\r\n",
        "sk_learn_stopwords = text.ENGLISH_STOP_WORDS\r\n",
        "nltk__stopwords = stopwords.words('english')\r\n",
        "stop_words = sk_learn_stopwords.intersection(nltk__stopwords)"
      ],
      "execution_count": null,
      "outputs": []
    },
    {
      "cell_type": "code",
      "metadata": {
        "id": "AmQ5NfUWHNmg"
      },
      "source": [
        "class CleanText(BaseEstimator, TransformerMixin):\r\n",
        "    other_stopwords = [\r\n",
        "        'pic.twitter.com', 'android', 'apple', 'appl', 'samsung', 'sony',\r\n",
        "        'galaxy', 'ipad', 'iphone', 'iphon', 'iphones', 'iphonex', 'ipod',\r\n",
        "        'itune', 'itun', 'itunes'\r\n",
        "        'phone', 'phon', 'twit', 'twitter',\r\n",
        "        'soni', 'xperia', 'experia',\r\n",
        "    ]\r\n",
        "\r\n",
        "    def __init__(self, stop_words, stemmer):\r\n",
        "        self.stop_words = stop_words\r\n",
        "        self.stemmer = stemmer\r\n",
        "        self.tokenizer = TweetTokenizer()\r\n",
        "\r\n",
        "    def remove_mentions(self, input_text):\r\n",
        "        return re.sub(r'@\\w+', '', input_text)\r\n",
        "\r\n",
        "    def remove_accented_chars(self, input_text):\r\n",
        "        text = unicodedata.normalize('NFKD', input_text).encode(\r\n",
        "            'ascii', 'ignore').decode('utf-8', 'ignore')\r\n",
        "        return text\r\n",
        "\r\n",
        "    def remove_urls(self, input_text):\r\n",
        "        input_text = re.sub(r'http.?://[^\\s]+[\\s]?', '', input_text)\r\n",
        "        input_text = re.sub(r'^RT[\\s]+', '', input_text)\r\n",
        "        for other_stopword in self.other_stopwords:\r\n",
        "            if other_stopword == 'pic.twitter.com':\r\n",
        "                other_stopword = other_stopword + '(.*)'\r\n",
        "            input_text = re.sub(other_stopword, '', input_text)\r\n",
        "        return input_text\r\n",
        "\r\n",
        "    def emoji_oneword(self, input_text):\r\n",
        "        # By compressing the underscore, the emoji is kept as one word\r\n",
        "        return input_text.replace('_', '')\r\n",
        "\r\n",
        "    def remove_punctuation(self, input_text):\r\n",
        "        # Make translation table\r\n",
        "        punct = string.punctuation\r\n",
        "        trantab = str.maketrans(\r\n",
        "            punct,\r\n",
        "            len(punct) *\r\n",
        "            ' ')  # Every punctuation symbol will be replaced by a space\r\n",
        "        return input_text.translate(trantab)\r\n",
        "\r\n",
        "    def remove_digits(self, input_text):\r\n",
        "        return re.sub('\\d+', '', input_text)\r\n",
        "\r\n",
        "    def to_lower(self, input_text):\r\n",
        "        return input_text.lower()\r\n",
        "\r\n",
        "    def remove_stopwords(self, input_text):\r\n",
        "\r\n",
        "        # Some words which might indicate a certain sentiment are kept via a whitelist\r\n",
        "        whitelist = [\"n't\", \"not\", \"no\"]\r\n",
        "        words = self.tokenizer.tokenize(input_text)\r\n",
        "        clean_words = [\r\n",
        "            word for word in words\r\n",
        "            if ((word.strip() not in self.stop_words and word.strip() not in self.other_stopwords) or word.strip() in whitelist)\r\n",
        "        ]\r\n",
        "        clean_words = [CONTRACTION_MAP.get(word, word) for word in clean_words]\r\n",
        "        return \" \".join(clean_words)\r\n",
        "\r\n",
        "    def remove_repeated_characters(self, input_text):\r\n",
        "\r\n",
        "        repeat_pattern = re.compile(r'(\\w*)(\\w)\\2(\\w*)')\r\n",
        "        match_substitution = r'\\1\\2\\3'\r\n",
        "        tokens = input_text.split()\r\n",
        "\r\n",
        "        def replace(old_word):\r\n",
        "            if wordnet.synsets(old_word):\r\n",
        "                return old_word\r\n",
        "            new_word = repeat_pattern.sub(match_substitution, old_word)\r\n",
        "            return replace(new_word) if new_word != old_word else new_word\r\n",
        "\r\n",
        "        correct_tokens = [replace(word) for word in tokens]\r\n",
        "\r\n",
        "        return \" \".join(correct_tokens)\r\n",
        "\r\n",
        "    def remove_shortwords(self, input_text):\r\n",
        "        words = self.tokenizer.tokenize(input_text)\r\n",
        "        words = [word for word in words if 2 < len(word) < 20]\r\n",
        "        return \" \".join(words)\r\n",
        "\r\n",
        "    def stemming(self, input_text):\r\n",
        "        words = self.tokenizer.tokenize(input_text)\r\n",
        "        if isinstance(self.stemmer, WordNetLemmatizer):\r\n",
        "            stemmed_words = [self.stemmer.lemmatize(word) for word in words]\r\n",
        "        else:\r\n",
        "            stemmed_words = [self.stemmer.stem(word) for word in words]\r\n",
        "        return \" \".join(stemmed_words)\r\n",
        "\r\n",
        "    def fit(self, X, y=None, **fit_params):\r\n",
        "        return self\r\n",
        "\r\n",
        "    def transform(self, X, **transform_params):\r\n",
        "        clean_X = X.apply(self.remove_accented_chars)\r\n",
        "        clean_X = clean_X.apply(self.remove_mentions)\r\n",
        "        clean_X = clean_X.apply(self.remove_urls)\r\n",
        "        clean_X = clean_X.apply(self.emoji_oneword)\r\n",
        "        clean_X = clean_X.apply(self.remove_stopwords)\r\n",
        "        clean_X = clean_X.apply(self.remove_punctuation)\r\n",
        "        clean_X = clean_X.apply(self.remove_digits)\r\n",
        "        clean_X = clean_X.apply(self.remove_repeated_characters)\r\n",
        "        clean_X = clean_X.apply(self.to_lower)\r\n",
        "\r\n",
        "        clean_X = clean_X.apply(self.remove_shortwords)\r\n",
        "\r\n",
        "        #clean_X = clean_X.apply(self.stemming)\r\n",
        "        #clean_X = clean_X.apply(self.remove_shortwords)\r\n",
        "        return clean_X"
      ],
      "execution_count": null,
      "outputs": []
    },
    {
      "cell_type": "code",
      "metadata": {
        "id": "aDLmFXqNHtYR"
      },
      "source": [
        "stemmer = PorterStemmer()\r\n",
        "ct = CleanText(stop_words, stemmer)\r\n",
        "train_df['clean_tweet'] = ct.fit_transform(train_df['tweet'])\r\n",
        "test_df['clean_tweet'] = ct.transform(test_df['tweet'])"
      ],
      "execution_count": null,
      "outputs": []
    },
    {
      "cell_type": "code",
      "metadata": {
        "colab": {
          "base_uri": "https://localhost:8080/",
          "height": 195
        },
        "id": "fWjpJgNcIbLf",
        "outputId": "eed62607-8a45-4671-cc61-c2aa7cd318ac"
      },
      "source": [
        "train_df.head()"
      ],
      "execution_count": null,
      "outputs": [
        {
          "output_type": "execute_result",
          "data": {
            "text/html": [
              "<div>\n",
              "<style scoped>\n",
              "    .dataframe tbody tr th:only-of-type {\n",
              "        vertical-align: middle;\n",
              "    }\n",
              "\n",
              "    .dataframe tbody tr th {\n",
              "        vertical-align: top;\n",
              "    }\n",
              "\n",
              "    .dataframe thead th {\n",
              "        text-align: right;\n",
              "    }\n",
              "</style>\n",
              "<table border=\"1\" class=\"dataframe\">\n",
              "  <thead>\n",
              "    <tr style=\"text-align: right;\">\n",
              "      <th></th>\n",
              "      <th>id</th>\n",
              "      <th>label</th>\n",
              "      <th>tweet</th>\n",
              "      <th>clean_tweet</th>\n",
              "    </tr>\n",
              "  </thead>\n",
              "  <tbody>\n",
              "    <tr>\n",
              "      <th>0</th>\n",
              "      <td>1</td>\n",
              "      <td>0</td>\n",
              "      <td>#fingerprint #Pregnancy Test https://goo.gl/h1...</td>\n",
              "      <td>fingerprint pregnancy test aps beautiful cute ...</td>\n",
              "    </tr>\n",
              "    <tr>\n",
              "      <th>1</th>\n",
              "      <td>2</td>\n",
              "      <td>0</td>\n",
              "      <td>Finally a transparant silicon case ^^ Thanks t...</td>\n",
              "      <td>finally transparant silicon case thanks uncle ...</td>\n",
              "    </tr>\n",
              "    <tr>\n",
              "      <th>2</th>\n",
              "      <td>3</td>\n",
              "      <td>0</td>\n",
              "      <td>We love this! Would you go? #talk #makememorie...</td>\n",
              "      <td>love would talk makememories unplug relax smar...</td>\n",
              "    </tr>\n",
              "    <tr>\n",
              "      <th>3</th>\n",
              "      <td>4</td>\n",
              "      <td>0</td>\n",
              "      <td>I'm wired I know I'm George I was made that wa...</td>\n",
              "      <td>wired know george made way cute daventry home</td>\n",
              "    </tr>\n",
              "    <tr>\n",
              "      <th>4</th>\n",
              "      <td>5</td>\n",
              "      <td>1</td>\n",
              "      <td>What amazing service! Apple won't even talk to...</td>\n",
              "      <td>what amazing service apple will not even talk ...</td>\n",
              "    </tr>\n",
              "  </tbody>\n",
              "</table>\n",
              "</div>"
            ],
            "text/plain": [
              "   id  ...                                        clean_tweet\n",
              "0   1  ...  fingerprint pregnancy test aps beautiful cute ...\n",
              "1   2  ...  finally transparant silicon case thanks uncle ...\n",
              "2   3  ...  love would talk makememories unplug relax smar...\n",
              "3   4  ...      wired know george made way cute daventry home\n",
              "4   5  ...  what amazing service apple will not even talk ...\n",
              "\n",
              "[5 rows x 4 columns]"
            ]
          },
          "metadata": {
            "tags": []
          },
          "execution_count": 14
        }
      ]
    },
    {
      "cell_type": "code",
      "metadata": {
        "id": "QOVaHiwjKINo"
      },
      "source": [
        "MAX_TWEET_LEN  = max(max(train_df['clean_tweet'].map(len)),max(test_df['clean_tweet'].map(len)))  "
      ],
      "execution_count": null,
      "outputs": []
    },
    {
      "cell_type": "code",
      "metadata": {
        "colab": {
          "base_uri": "https://localhost:8080/"
        },
        "id": "7Omx18IFKol-",
        "outputId": "9e15de41-b99c-4e34-f39f-c3e1653b17f5"
      },
      "source": [
        "MAX_TWEET_LEN"
      ],
      "execution_count": null,
      "outputs": [
        {
          "output_type": "execute_result",
          "data": {
            "text/plain": [
              "230"
            ]
          },
          "metadata": {
            "tags": []
          },
          "execution_count": 16
        }
      ]
    },
    {
      "cell_type": "code",
      "metadata": {
        "id": "39w-ZLqYK_pG"
      },
      "source": [
        "tweets = train_df['clean_tweet'].values"
      ],
      "execution_count": null,
      "outputs": []
    },
    {
      "cell_type": "code",
      "metadata": {
        "colab": {
          "base_uri": "https://localhost:8080/"
        },
        "id": "eORukCcALbNz",
        "outputId": "f6a5777a-bfff-4daa-f091-f79f693990a3"
      },
      "source": [
        "tweets"
      ],
      "execution_count": null,
      "outputs": [
        {
          "output_type": "execute_result",
          "data": {
            "text/plain": [
              "array(['fingerprint pregnancy test aps beautiful cute health igers only sia',\n",
              "       'finally transparant silicon case thanks uncle yay sony xperia',\n",
              "       'love would talk makememories unplug relax smarte wifi connect',\n",
              "       ...,\n",
              "       'helping lovely year old neighbor ipad morning just made realise not actually need pad',\n",
              "       'finally got smart pocket wifi stay connected anytime anywhere gadget',\n",
              "       'apple barcelona apple store bcn barcelona travel selfie fly fun cabincrew'],\n",
              "      dtype=object)"
            ]
          },
          "metadata": {
            "tags": []
          },
          "execution_count": 18
        }
      ]
    },
    {
      "cell_type": "code",
      "metadata": {
        "id": "o5euaY9CPpPe"
      },
      "source": [
        "from tensorflow.keras.preprocessing.text import Tokenizer\r\n",
        "from tensorflow.keras.preprocessing.sequence import pad_sequences"
      ],
      "execution_count": null,
      "outputs": []
    },
    {
      "cell_type": "code",
      "metadata": {
        "id": "uTWscZjkQ3sE"
      },
      "source": [
        "tokenizer = Tokenizer(num_words=5000)\r\n",
        "tokenizer.fit_on_texts(tweets)\r\n",
        "vocab_size = len(tokenizer.word_index) + 1\r\n",
        "encoded_docs = tokenizer.texts_to_sequences(tweets)\r\n",
        "padded_sequence = pad_sequences(encoded_docs, maxlen=MAX_TWEET_LEN)"
      ],
      "execution_count": null,
      "outputs": []
    },
    {
      "cell_type": "code",
      "metadata": {
        "colab": {
          "base_uri": "https://localhost:8080/"
        },
        "id": "qta0GFycRMv2",
        "outputId": "5d4de9ee-7371-45bc-fd52-0e16eb794325"
      },
      "source": [
        "print(tweets[0])\r\n",
        "print(encoded_docs[0])"
      ],
      "execution_count": null,
      "outputs": [
        {
          "output_type": "stream",
          "text": [
            "fingerprint pregnancy test aps beautiful cute health igers only sia\n",
            "[1973, 1137, 52, 31, 16, 87, 66, 60, 75]\n"
          ],
          "name": "stdout"
        }
      ]
    },
    {
      "cell_type": "code",
      "metadata": {
        "colab": {
          "base_uri": "https://localhost:8080/"
        },
        "id": "5SIsWPWERQ6B",
        "outputId": "c7598a5b-0a44-4b24-a5d0-2e3bf28d6d37"
      },
      "source": [
        "from keras.callbacks import ModelCheckpoint\r\n",
        "model_filename = 'tweets_best_weights_'+str(int(dt.utcnow().timestamp()*100))+'.hdf5'\r\n",
        "filepath = get_filepath(foldername,filename=model_filename)\r\n",
        "checkpoint = ModelCheckpoint(filepath, monitor='val_accuracy', verbose=1, save_best_only=True, mode='max')\r\n",
        "callbacks_list = [checkpoint]"
      ],
      "execution_count": null,
      "outputs": [
        {
          "output_type": "stream",
          "text": [
            "Drive already mounted at /content/drive; to attempt to forcibly remount, call drive.mount(\"/content/drive\", force_remount=True).\n"
          ],
          "name": "stdout"
        }
      ]
    },
    {
      "cell_type": "code",
      "metadata": {
        "colab": {
          "base_uri": "https://localhost:8080/"
        },
        "id": "zzN40BdORV9D",
        "outputId": "00a5f948-bd66-4771-8469-8c7359cf305c"
      },
      "source": [
        "from tensorflow.keras.models import Sequential\r\n",
        "from tensorflow.keras.layers import LSTM,Dense, Dropout,Bidirectional\r\n",
        "from tensorflow.keras.layers import SpatialDropout1D\r\n",
        "from tensorflow.keras.layers import Embedding\r\n",
        "embedding_vector_length = 10\r\n",
        "model = Sequential()\r\n",
        "model.add(Embedding(vocab_size, embedding_vector_length,     \r\n",
        "                                     input_length=MAX_TWEET_LEN) )\r\n",
        "model.add(SpatialDropout1D(0.25))\r\n",
        "#model.add(LSTM(12, dropout=0.25, recurrent_dropout=0.25))\r\n",
        "model.add(Bidirectional(LSTM(24,dropout=0.5,recurrent_dropout=0.3)))\r\n",
        "model.add(Dropout(0.3))\r\n",
        "\r\n",
        "model.add(Dense(1, activation='sigmoid'))\r\n",
        "model.compile(loss='binary_crossentropy',optimizer='adam', \r\n",
        "                           metrics=['accuracy'])\r\n",
        "print(model.summary())"
      ],
      "execution_count": null,
      "outputs": [
        {
          "output_type": "stream",
          "text": [
            "Model: \"sequential\"\n",
            "_________________________________________________________________\n",
            "Layer (type)                 Output Shape              Param #   \n",
            "=================================================================\n",
            "embedding (Embedding)        (None, 230, 10)           144030    \n",
            "_________________________________________________________________\n",
            "spatial_dropout1d (SpatialDr (None, 230, 10)           0         \n",
            "_________________________________________________________________\n",
            "bidirectional (Bidirectional (None, 48)                6720      \n",
            "_________________________________________________________________\n",
            "dropout (Dropout)            (None, 48)                0         \n",
            "_________________________________________________________________\n",
            "dense (Dense)                (None, 1)                 49        \n",
            "=================================================================\n",
            "Total params: 150,799\n",
            "Trainable params: 150,799\n",
            "Non-trainable params: 0\n",
            "_________________________________________________________________\n",
            "None\n"
          ],
          "name": "stdout"
        }
      ]
    },
    {
      "cell_type": "code",
      "metadata": {
        "colab": {
          "base_uri": "https://localhost:8080/"
        },
        "id": "-BI7KuS2ReNT",
        "outputId": "7d47959d-5097-4286-c377-77420da6c660"
      },
      "source": [
        "model_history = model.fit(padded_sequence,train_df['label'].values,\r\n",
        "                  validation_split=0.35, epochs=5, batch_size=32,callbacks=callbacks_list)"
      ],
      "execution_count": null,
      "outputs": [
        {
          "output_type": "stream",
          "text": [
            "Epoch 1/5\n",
            "161/161 [==============================] - 59s 334ms/step - loss: 0.6086 - accuracy: 0.7172 - val_loss: 0.4968 - val_accuracy: 0.7413\n",
            "\n",
            "Epoch 00001: val_accuracy improved from -inf to 0.74134, saving model to /content/drive/My Drive/datasets/SentimentalAnalysis_II/tweets_best_weights_161079727287.hdf5\n",
            "Epoch 2/5\n",
            "161/161 [==============================] - 52s 325ms/step - loss: 0.3966 - accuracy: 0.7960 - val_loss: 0.2945 - val_accuracy: 0.8730\n",
            "\n",
            "Epoch 00002: val_accuracy improved from 0.74134 to 0.87302, saving model to /content/drive/My Drive/datasets/SentimentalAnalysis_II/tweets_best_weights_161079727287.hdf5\n",
            "Epoch 3/5\n",
            "161/161 [==============================] - 53s 328ms/step - loss: 0.2642 - accuracy: 0.8950 - val_loss: 0.2650 - val_accuracy: 0.8864\n",
            "\n",
            "Epoch 00003: val_accuracy improved from 0.87302 to 0.88636, saving model to /content/drive/My Drive/datasets/SentimentalAnalysis_II/tweets_best_weights_161079727287.hdf5\n",
            "Epoch 4/5\n",
            "161/161 [==============================] - 53s 329ms/step - loss: 0.2113 - accuracy: 0.9172 - val_loss: 0.2637 - val_accuracy: 0.8892\n",
            "\n",
            "Epoch 00004: val_accuracy improved from 0.88636 to 0.88925, saving model to /content/drive/My Drive/datasets/SentimentalAnalysis_II/tweets_best_weights_161079727287.hdf5\n",
            "Epoch 5/5\n",
            "161/161 [==============================] - 52s 324ms/step - loss: 0.1771 - accuracy: 0.9343 - val_loss: 0.2817 - val_accuracy: 0.8820\n",
            "\n",
            "Epoch 00005: val_accuracy did not improve from 0.88925\n"
          ],
          "name": "stdout"
        }
      ]
    },
    {
      "cell_type": "code",
      "metadata": {
        "colab": {
          "base_uri": "https://localhost:8080/"
        },
        "id": "haET4uBeRlOr",
        "outputId": "b8aee911-400b-4805-ff04-5d74e9de2b66"
      },
      "source": [
        "plt.plot(model_history.history['loss'])\r\n",
        "plt.plot(model_history.history['val_loss'])\r\n",
        "plt.title('model loss')\r\n",
        "plt.ylabel('loss')\r\n",
        "plt.xlabel('epoch')\r\n",
        "plt.legend(['train', 'validation'], loc='upper left')\r\n",
        "plt.show()"
      ],
      "execution_count": null,
      "outputs": [
        {
          "output_type": "display_data",
          "data": {
            "image/png": "[encoded data removed]",
            "text/plain": [
              "<Figure size 432x288 with 1 Axes>"
            ]
          },
          "metadata": {
            "tags": []
          }
        }
      ]
    },
    {
      "cell_type": "code",
      "metadata": {
        "colab": {
          "base_uri": "https://localhost:8080/"
        },
        "id": "ztESQ0FARn3y",
        "outputId": "4ecc9fef-faaa-49b7-fc52-0fe8ad014738"
      },
      "source": [
        "plt.plot(model_history.history['accuracy'])\r\n",
        "plt.plot(model_history.history['val_accuracy'])\r\n",
        "plt.title('model accuracy')\r\n",
        "plt.ylabel('accuracy')\r\n",
        "plt.xlabel('epoch')\r\n",
        "plt.legend(['train', 'validation'], loc='upper right')\r\n",
        "plt.show()"
      ],
      "execution_count": null,
      "outputs": [
        {
          "output_type": "display_data",
          "data": {
            "image/png": "[encoded data removed]",
            "text/plain": [
              "<Figure size 432x288 with 1 Axes>"
            ]
          },
          "metadata": {
            "tags": []
          }
        }
      ]
    },
    {
      "cell_type": "code",
      "metadata": {
        "id": "xFcOwfBHRruw"
      },
      "source": [
        "model.load_weights(filepath)"
      ],
      "execution_count": null,
      "outputs": []
    },
    {
      "cell_type": "code",
      "metadata": {
        "id": "_E6EK2siRs3a"
      },
      "source": [
        "test_tweet = test_df['clean_tweet'].values\r\n",
        "encoded_docs = tokenizer.texts_to_sequences(test_tweet)\r\n",
        "padded_sequence = pad_sequences(encoded_docs, maxlen=MAX_TWEET_LEN)"
      ],
      "execution_count": null,
      "outputs": []
    },
    {
      "cell_type": "code",
      "metadata": {
        "id": "hVB9i0voRy7j"
      },
      "source": [
        "y_pred = model.predict_classes(padded_sequence)"
      ],
      "execution_count": null,
      "outputs": []
    },
    {
      "cell_type": "code",
      "metadata": {
        "id": "tlGe6j_uSXs9"
      },
      "source": [
        "y_pred =y_pred.flatten()"
      ],
      "execution_count": null,
      "outputs": []
    },
    {
      "cell_type": "code",
      "metadata": {
        "id": "rOAPGYiHSYgb"
      },
      "source": [
        "submission_df = pd.DataFrame(test_df['id'])"
      ],
      "execution_count": null,
      "outputs": []
    },
    {
      "cell_type": "code",
      "metadata": {
        "id": "rGOWzbkaSakR"
      },
      "source": [
        "submission_df['label'] =y_pred"
      ],
      "execution_count": null,
      "outputs": []
    },
    {
      "cell_type": "code",
      "metadata": {
        "id": "hN6RSD7vSdd6"
      },
      "source": [
        "filename  = 'submission_tweet'+str(int(dt.utcnow().timestamp()*100)) +'.csv' \r\n",
        "filename"
      ],
      "execution_count": null,
      "outputs": []
    },
    {
      "cell_type": "code",
      "metadata": {
        "id": "M8qpKoy-SeMo"
      },
      "source": [
        "submission_file = get_filepath(foldername,filename=filename)"
      ],
      "execution_count": null,
      "outputs": []
    },
    {
      "cell_type": "code",
      "metadata": {
        "id": "bqmTepGFShJ5"
      },
      "source": [
        "submission_df.to_csv(submission_file,index=False)"
      ],
      "execution_count": null,
      "outputs": []
    }
  ]
}